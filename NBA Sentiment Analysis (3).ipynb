{
 "cells": [
  {
   "cell_type": "markdown",
   "id": "815c2ead",
   "metadata": {},
   "source": [
    "# Web Scraping NBA Stats & Sentiment Analysis\n",
    "This Notebook is created by Michael Gaynor\n",
    "\n",
    "   A Couple weeks after the 2022 NBA Finals I wanted to see if this current 2022 Golden State Warriors team was a statically a better team, then the 2018 championship team. So, I decided to scrape the web for the data using Python libraries Beautiful Soup & Requests to obtain the most current and accurate dataset for my analysis. Once I began scrapping the data, I decided to make a second part to this project, with doing a sentiment analysis as well. "
   ]
  },
  {
   "cell_type": "markdown",
   "id": "8dff6b31",
   "metadata": {},
   "source": [
    "# # Import Libraries\n",
    "\n",
    "Import all of the libraries that are going to be used for this project. Also imported additional libraries along the project."
   ]
  },
  {
   "cell_type": "code",
   "execution_count": null,
   "id": "4f302a38",
   "metadata": {},
   "outputs": [],
   "source": [
    "# ## Importing the packages I will need for my analysis/ Project is comparing 2022 to the 2018 regular and playoff season \n",
    "from bs4 import BeautifulSoup \n",
    "import requests \n",
    "import pandas as pd \n",
    "import numpy as np \n",
    "import csv  \n",
    "import tweepy\n",
    "import json\n",
    "import matplotlib.pyplot as plt \n",
    "import re\n"
   ]
  },
  {
   "cell_type": "markdown",
   "id": "78f6c83b",
   "metadata": {},
   "source": [
    "# # Web Scrapping \n",
    "\n",
    "I used requests & BeautifulSoup libraries to scrape the data."
   ]
  },
  {
   "cell_type": "code",
   "execution_count": 2,
   "id": "c0f831e9",
   "metadata": {},
   "outputs": [],
   "source": [
    "# Making a request to GET data from html for 2022 playoff and regular season\n",
    "url= 'https://www.basketball-reference.com/teams/GSW/2022.html#all_per_game-playoffs_per_game'\n",
    "gsw_data = requests.get(url)\n",
    "html_doc= gsw_data.text"
   ]
  },
  {
   "cell_type": "code",
   "execution_count": 3,
   "id": "d18680a6",
   "metadata": {},
   "outputs": [],
   "source": [
    "# Extracting structruded data from html with BeautifulSoup\n",
    "soup = BeautifulSoup(html_doc, 'html.parser')\n",
    "# Pulling only the table Im working with \n",
    "gsw22_table = soup.find(id='playoffs_per_game')\n",
    "gsw22_table_r = soup.find(id='per_game')"
   ]
  },
  {
   "cell_type": "markdown",
   "id": "7d9f3ccd",
   "metadata": {},
   "source": [
    "## Data Cleaning \n",
    "I created a dataframe for both years to access the data that was scraped fro the url. So it can be cleaned renamming a column to keep everything uniform. Also created two new columns to help distingush the different dataframes before I combined them into one. "
   ]
  },
  {
   "cell_type": "code",
   "execution_count": 4,
   "id": "6e1a9d8a",
   "metadata": {},
   "outputs": [
    {
     "data": {
      "text/html": [
       "<div>\n",
       "<style scoped>\n",
       "    .dataframe tbody tr th:only-of-type {\n",
       "        vertical-align: middle;\n",
       "    }\n",
       "\n",
       "    .dataframe tbody tr th {\n",
       "        vertical-align: top;\n",
       "    }\n",
       "\n",
       "    .dataframe thead th {\n",
       "        text-align: right;\n",
       "    }\n",
       "</style>\n",
       "<table border=\"1\" class=\"dataframe\">\n",
       "  <thead>\n",
       "    <tr style=\"text-align: right;\">\n",
       "      <th></th>\n",
       "      <th>Rk</th>\n",
       "      <th>Name</th>\n",
       "      <th>Age</th>\n",
       "      <th>G</th>\n",
       "      <th>GS</th>\n",
       "      <th>MP</th>\n",
       "      <th>FG</th>\n",
       "      <th>FGA</th>\n",
       "      <th>FG%</th>\n",
       "      <th>3P</th>\n",
       "      <th>...</th>\n",
       "      <th>DRB</th>\n",
       "      <th>TRB</th>\n",
       "      <th>AST</th>\n",
       "      <th>STL</th>\n",
       "      <th>BLK</th>\n",
       "      <th>TOV</th>\n",
       "      <th>PF</th>\n",
       "      <th>PTS/G</th>\n",
       "      <th>Year</th>\n",
       "      <th>Season</th>\n",
       "    </tr>\n",
       "  </thead>\n",
       "  <tbody>\n",
       "    <tr>\n",
       "      <th>0</th>\n",
       "      <td>1</td>\n",
       "      <td>Stephen Curry</td>\n",
       "      <td>33</td>\n",
       "      <td>64</td>\n",
       "      <td>64</td>\n",
       "      <td>34.5</td>\n",
       "      <td>8.4</td>\n",
       "      <td>19.1</td>\n",
       "      <td>0.437</td>\n",
       "      <td>4.5</td>\n",
       "      <td>...</td>\n",
       "      <td>4.7</td>\n",
       "      <td>5.2</td>\n",
       "      <td>6.3</td>\n",
       "      <td>1.3</td>\n",
       "      <td>0.4</td>\n",
       "      <td>3.2</td>\n",
       "      <td>2.0</td>\n",
       "      <td>25.5</td>\n",
       "      <td>2022</td>\n",
       "      <td>Regular Season</td>\n",
       "    </tr>\n",
       "    <tr>\n",
       "      <th>1</th>\n",
       "      <td>2</td>\n",
       "      <td>Andrew Wiggins</td>\n",
       "      <td>26</td>\n",
       "      <td>73</td>\n",
       "      <td>73</td>\n",
       "      <td>31.9</td>\n",
       "      <td>6.5</td>\n",
       "      <td>14.0</td>\n",
       "      <td>0.466</td>\n",
       "      <td>2.2</td>\n",
       "      <td>...</td>\n",
       "      <td>3.3</td>\n",
       "      <td>4.5</td>\n",
       "      <td>2.2</td>\n",
       "      <td>1.0</td>\n",
       "      <td>0.7</td>\n",
       "      <td>1.5</td>\n",
       "      <td>2.2</td>\n",
       "      <td>17.2</td>\n",
       "      <td>2022</td>\n",
       "      <td>Regular Season</td>\n",
       "    </tr>\n",
       "    <tr>\n",
       "      <th>2</th>\n",
       "      <td>3</td>\n",
       "      <td>Jordan Poole</td>\n",
       "      <td>22</td>\n",
       "      <td>76</td>\n",
       "      <td>51</td>\n",
       "      <td>30.0</td>\n",
       "      <td>6.2</td>\n",
       "      <td>13.9</td>\n",
       "      <td>0.448</td>\n",
       "      <td>2.8</td>\n",
       "      <td>...</td>\n",
       "      <td>3.0</td>\n",
       "      <td>3.4</td>\n",
       "      <td>4.0</td>\n",
       "      <td>0.8</td>\n",
       "      <td>0.3</td>\n",
       "      <td>2.5</td>\n",
       "      <td>2.7</td>\n",
       "      <td>18.5</td>\n",
       "      <td>2022</td>\n",
       "      <td>Regular Season</td>\n",
       "    </tr>\n",
       "    <tr>\n",
       "      <th>3</th>\n",
       "      <td>4</td>\n",
       "      <td>Klay Thompson</td>\n",
       "      <td>31</td>\n",
       "      <td>32</td>\n",
       "      <td>32</td>\n",
       "      <td>29.4</td>\n",
       "      <td>7.7</td>\n",
       "      <td>17.9</td>\n",
       "      <td>0.429</td>\n",
       "      <td>3.6</td>\n",
       "      <td>...</td>\n",
       "      <td>3.4</td>\n",
       "      <td>3.9</td>\n",
       "      <td>2.8</td>\n",
       "      <td>0.5</td>\n",
       "      <td>0.5</td>\n",
       "      <td>1.3</td>\n",
       "      <td>1.7</td>\n",
       "      <td>20.4</td>\n",
       "      <td>2022</td>\n",
       "      <td>Regular Season</td>\n",
       "    </tr>\n",
       "    <tr>\n",
       "      <th>4</th>\n",
       "      <td>5</td>\n",
       "      <td>Draymond Green</td>\n",
       "      <td>31</td>\n",
       "      <td>46</td>\n",
       "      <td>44</td>\n",
       "      <td>28.9</td>\n",
       "      <td>2.9</td>\n",
       "      <td>5.6</td>\n",
       "      <td>0.525</td>\n",
       "      <td>0.3</td>\n",
       "      <td>...</td>\n",
       "      <td>6.3</td>\n",
       "      <td>7.3</td>\n",
       "      <td>7.0</td>\n",
       "      <td>1.3</td>\n",
       "      <td>1.1</td>\n",
       "      <td>3.0</td>\n",
       "      <td>3.0</td>\n",
       "      <td>7.5</td>\n",
       "      <td>2022</td>\n",
       "      <td>Regular Season</td>\n",
       "    </tr>\n",
       "  </tbody>\n",
       "</table>\n",
       "<p>5 rows × 30 columns</p>\n",
       "</div>"
      ],
      "text/plain": [
       "   Rk            Name  Age   G  GS    MP   FG   FGA    FG%   3P  ...  DRB  \\\n",
       "0   1   Stephen Curry   33  64  64  34.5  8.4  19.1  0.437  4.5  ...  4.7   \n",
       "1   2  Andrew Wiggins   26  73  73  31.9  6.5  14.0  0.466  2.2  ...  3.3   \n",
       "2   3    Jordan Poole   22  76  51  30.0  6.2  13.9  0.448  2.8  ...  3.0   \n",
       "3   4   Klay Thompson   31  32  32  29.4  7.7  17.9  0.429  3.6  ...  3.4   \n",
       "4   5  Draymond Green   31  46  44  28.9  2.9   5.6  0.525  0.3  ...  6.3   \n",
       "\n",
       "   TRB  AST  STL  BLK  TOV   PF  PTS/G  Year          Season  \n",
       "0  5.2  6.3  1.3  0.4  3.2  2.0   25.5  2022  Regular Season  \n",
       "1  4.5  2.2  1.0  0.7  1.5  2.2   17.2  2022  Regular Season  \n",
       "2  3.4  4.0  0.8  0.3  2.5  2.7   18.5  2022  Regular Season  \n",
       "3  3.9  2.8  0.5  0.5  1.3  1.7   20.4  2022  Regular Season  \n",
       "4  7.3  7.0  1.3  1.1  3.0  3.0    7.5  2022  Regular Season  \n",
       "\n",
       "[5 rows x 30 columns]"
      ]
     },
     "execution_count": 4,
     "metadata": {},
     "output_type": "execute_result"
    }
   ],
   "source": [
    "# Importing the html into a pandas dataframe. [0] only taking the first element \n",
    "gsw22_playoff = pd.read_html(str(gsw22_table))[0]\n",
    "gsw22_per_game = pd.read_html(str(gsw22_table_r))[0]\n",
    "\n",
    "# Renaming a column name to match the column \n",
    "gsw22_playoff.rename(columns={'Unnamed: 1':'Name'}, inplace = True)\n",
    "gsw22_per_game.rename(columns={'Unnamed: 1':'Name'}, inplace = True)\n",
    "\n",
    "# Creating a column year and season type to identify what year and season type the data falls in. \n",
    "gsw22_playoff['Year']= 2022\n",
    "gsw22_per_game['Year']=2022\n",
    "\n",
    "gsw22_playoff['Season']='Playoffs'\n",
    "gsw22_per_game['Season']= 'Regular Season' \n",
    "gsw22_per_game.head()"
   ]
  },
  {
   "cell_type": "code",
   "execution_count": 5,
   "id": "ad578f86",
   "metadata": {},
   "outputs": [],
   "source": [
    "# Making a request to GET data from html for 2018 playoff \n",
    "url= 'https://www.basketball-reference.com/teams/GSW/2018.html#all_per_game-playoffs_per_game'\n",
    "gsw_data_18 = requests.get(url)\n",
    "html_doc18= gsw_data_18.text\n",
    "\n",
    "# Extracting structruded data from html with BeautifulSoup\n",
    "soup = BeautifulSoup(html_doc18, 'html.parser')\n",
    "\n",
    "# Pulling only the table Im working with \n",
    "gsw18_table = soup.find(id='playoffs_per_game')\n",
    "gsw18_table_r = soup.find(id ='per_game')"
   ]
  },
  {
   "cell_type": "code",
   "execution_count": 6,
   "id": "19b0ef8d",
   "metadata": {},
   "outputs": [
    {
     "data": {
      "text/html": [
       "<div>\n",
       "<style scoped>\n",
       "    .dataframe tbody tr th:only-of-type {\n",
       "        vertical-align: middle;\n",
       "    }\n",
       "\n",
       "    .dataframe tbody tr th {\n",
       "        vertical-align: top;\n",
       "    }\n",
       "\n",
       "    .dataframe thead th {\n",
       "        text-align: right;\n",
       "    }\n",
       "</style>\n",
       "<table border=\"1\" class=\"dataframe\">\n",
       "  <thead>\n",
       "    <tr style=\"text-align: right;\">\n",
       "      <th></th>\n",
       "      <th>Rk</th>\n",
       "      <th>Name</th>\n",
       "      <th>Age</th>\n",
       "      <th>G</th>\n",
       "      <th>GS</th>\n",
       "      <th>MP</th>\n",
       "      <th>FG</th>\n",
       "      <th>FGA</th>\n",
       "      <th>FG%</th>\n",
       "      <th>3P</th>\n",
       "      <th>...</th>\n",
       "      <th>DRB</th>\n",
       "      <th>TRB</th>\n",
       "      <th>AST</th>\n",
       "      <th>STL</th>\n",
       "      <th>BLK</th>\n",
       "      <th>TOV</th>\n",
       "      <th>PF</th>\n",
       "      <th>PTS/G</th>\n",
       "      <th>Year</th>\n",
       "      <th>Season</th>\n",
       "    </tr>\n",
       "  </thead>\n",
       "  <tbody>\n",
       "    <tr>\n",
       "      <th>0</th>\n",
       "      <td>1</td>\n",
       "      <td>Klay Thompson</td>\n",
       "      <td>27</td>\n",
       "      <td>73</td>\n",
       "      <td>73</td>\n",
       "      <td>34.3</td>\n",
       "      <td>7.9</td>\n",
       "      <td>16.2</td>\n",
       "      <td>0.488</td>\n",
       "      <td>3.1</td>\n",
       "      <td>...</td>\n",
       "      <td>3.4</td>\n",
       "      <td>3.8</td>\n",
       "      <td>2.5</td>\n",
       "      <td>0.8</td>\n",
       "      <td>0.5</td>\n",
       "      <td>1.8</td>\n",
       "      <td>1.6</td>\n",
       "      <td>20.0</td>\n",
       "      <td>2018</td>\n",
       "      <td>Regular Season</td>\n",
       "    </tr>\n",
       "    <tr>\n",
       "      <th>1</th>\n",
       "      <td>2</td>\n",
       "      <td>Kevin Durant</td>\n",
       "      <td>29</td>\n",
       "      <td>68</td>\n",
       "      <td>68</td>\n",
       "      <td>34.2</td>\n",
       "      <td>9.3</td>\n",
       "      <td>18.0</td>\n",
       "      <td>0.516</td>\n",
       "      <td>2.5</td>\n",
       "      <td>...</td>\n",
       "      <td>6.4</td>\n",
       "      <td>6.8</td>\n",
       "      <td>5.4</td>\n",
       "      <td>0.7</td>\n",
       "      <td>1.8</td>\n",
       "      <td>3.0</td>\n",
       "      <td>2.0</td>\n",
       "      <td>26.4</td>\n",
       "      <td>2018</td>\n",
       "      <td>Regular Season</td>\n",
       "    </tr>\n",
       "    <tr>\n",
       "      <th>2</th>\n",
       "      <td>3</td>\n",
       "      <td>Draymond Green</td>\n",
       "      <td>27</td>\n",
       "      <td>70</td>\n",
       "      <td>70</td>\n",
       "      <td>32.7</td>\n",
       "      <td>4.0</td>\n",
       "      <td>8.8</td>\n",
       "      <td>0.454</td>\n",
       "      <td>1.1</td>\n",
       "      <td>...</td>\n",
       "      <td>6.6</td>\n",
       "      <td>7.6</td>\n",
       "      <td>7.3</td>\n",
       "      <td>1.4</td>\n",
       "      <td>1.3</td>\n",
       "      <td>2.9</td>\n",
       "      <td>2.6</td>\n",
       "      <td>11.0</td>\n",
       "      <td>2018</td>\n",
       "      <td>Regular Season</td>\n",
       "    </tr>\n",
       "    <tr>\n",
       "      <th>3</th>\n",
       "      <td>4</td>\n",
       "      <td>Stephen Curry</td>\n",
       "      <td>29</td>\n",
       "      <td>51</td>\n",
       "      <td>51</td>\n",
       "      <td>32.0</td>\n",
       "      <td>8.4</td>\n",
       "      <td>16.9</td>\n",
       "      <td>0.495</td>\n",
       "      <td>4.2</td>\n",
       "      <td>...</td>\n",
       "      <td>4.4</td>\n",
       "      <td>5.1</td>\n",
       "      <td>6.1</td>\n",
       "      <td>1.6</td>\n",
       "      <td>0.2</td>\n",
       "      <td>3.0</td>\n",
       "      <td>2.2</td>\n",
       "      <td>26.4</td>\n",
       "      <td>2018</td>\n",
       "      <td>Regular Season</td>\n",
       "    </tr>\n",
       "    <tr>\n",
       "      <th>4</th>\n",
       "      <td>5</td>\n",
       "      <td>Andre Iguodala</td>\n",
       "      <td>34</td>\n",
       "      <td>64</td>\n",
       "      <td>7</td>\n",
       "      <td>25.3</td>\n",
       "      <td>2.3</td>\n",
       "      <td>5.0</td>\n",
       "      <td>0.463</td>\n",
       "      <td>0.5</td>\n",
       "      <td>...</td>\n",
       "      <td>3.1</td>\n",
       "      <td>3.8</td>\n",
       "      <td>3.3</td>\n",
       "      <td>0.8</td>\n",
       "      <td>0.6</td>\n",
       "      <td>1.0</td>\n",
       "      <td>1.5</td>\n",
       "      <td>6.0</td>\n",
       "      <td>2018</td>\n",
       "      <td>Regular Season</td>\n",
       "    </tr>\n",
       "  </tbody>\n",
       "</table>\n",
       "<p>5 rows × 30 columns</p>\n",
       "</div>"
      ],
      "text/plain": [
       "   Rk            Name  Age   G  GS    MP   FG   FGA    FG%   3P  ...  DRB  \\\n",
       "0   1   Klay Thompson   27  73  73  34.3  7.9  16.2  0.488  3.1  ...  3.4   \n",
       "1   2    Kevin Durant   29  68  68  34.2  9.3  18.0  0.516  2.5  ...  6.4   \n",
       "2   3  Draymond Green   27  70  70  32.7  4.0   8.8  0.454  1.1  ...  6.6   \n",
       "3   4   Stephen Curry   29  51  51  32.0  8.4  16.9  0.495  4.2  ...  4.4   \n",
       "4   5  Andre Iguodala   34  64   7  25.3  2.3   5.0  0.463  0.5  ...  3.1   \n",
       "\n",
       "   TRB  AST  STL  BLK  TOV   PF  PTS/G  Year          Season  \n",
       "0  3.8  2.5  0.8  0.5  1.8  1.6   20.0  2018  Regular Season  \n",
       "1  6.8  5.4  0.7  1.8  3.0  2.0   26.4  2018  Regular Season  \n",
       "2  7.6  7.3  1.4  1.3  2.9  2.6   11.0  2018  Regular Season  \n",
       "3  5.1  6.1  1.6  0.2  3.0  2.2   26.4  2018  Regular Season  \n",
       "4  3.8  3.3  0.8  0.6  1.0  1.5    6.0  2018  Regular Season  \n",
       "\n",
       "[5 rows x 30 columns]"
      ]
     },
     "execution_count": 6,
     "metadata": {},
     "output_type": "execute_result"
    }
   ],
   "source": [
    "## Importing the html into a pandas dataframe. [0] only taking the first element \n",
    "gsw18_playoffs = pd.read_html(str(gsw18_table))[0]\n",
    "gsw18_per_game = pd.read_html(str(gsw18_table_r))[0]\n",
    "\n",
    "# Renaming a column name to match the column \n",
    "gsw18_playoffs.rename(columns={'Unnamed: 1':'Name'}, inplace=True)\n",
    "gsw18_per_game.rename(columns={'Unnamed: 1':'Name'}, inplace=True)\n",
    "\n",
    "# Creating a column 'year' to identify what year the data falls in.\n",
    "gsw18_playoffs['Year']= 2018\n",
    "gsw18_per_game['Year']=2018\n",
    "\n",
    "gsw18_playoffs['Season']='Playoffs'\n",
    "gsw18_per_game['Season']= 'Regular Season' \n",
    "\n",
    "gsw18_per_game.head()"
   ]
  },
  {
   "cell_type": "markdown",
   "id": "a1927db7",
   "metadata": {},
   "source": [
    "# Combining All of the dataframes \n",
    "Inspected the data for missing values and filled the in with zeros."
   ]
  },
  {
   "cell_type": "code",
   "execution_count": 7,
   "id": "440fd102",
   "metadata": {},
   "outputs": [
    {
     "data": {
      "text/plain": [
       "(63, 30)"
      ]
     },
     "execution_count": 7,
     "metadata": {},
     "output_type": "execute_result"
    }
   ],
   "source": [
    "# Merging both dataframes together and addining a year column \n",
    "gsw = pd.concat([gsw18_per_game,gsw18_playoffs, gsw22_per_game,gsw22_playoff],ignore_index= False)\n",
    "\n",
    "gsw.shape"
   ]
  },
  {
   "cell_type": "code",
   "execution_count": 8,
   "id": "6c03abc3",
   "metadata": {},
   "outputs": [
    {
     "data": {
      "text/plain": [
       "Rk        0\n",
       "Name      0\n",
       "Age       0\n",
       "G         0\n",
       "GS        0\n",
       "MP        0\n",
       "FG        0\n",
       "FGA       0\n",
       "FG%       0\n",
       "3P        0\n",
       "3PA       0\n",
       "3P%       4\n",
       "2P        0\n",
       "2PA       0\n",
       "2P%       1\n",
       "eFG%      0\n",
       "FT        0\n",
       "FTA       0\n",
       "FT%       2\n",
       "ORB       0\n",
       "DRB       0\n",
       "TRB       0\n",
       "AST       0\n",
       "STL       0\n",
       "BLK       0\n",
       "TOV       0\n",
       "PF        0\n",
       "PTS/G     0\n",
       "Year      0\n",
       "Season    0\n",
       "dtype: int64"
      ]
     },
     "execution_count": 8,
     "metadata": {},
     "output_type": "execute_result"
    }
   ],
   "source": [
    "# Checking to see if there are any missing values \n",
    "gsw.isna().sum()"
   ]
  },
  {
   "cell_type": "code",
   "execution_count": 9,
   "id": "4bd6a492",
   "metadata": {},
   "outputs": [
    {
     "data": {
      "text/plain": [
       "0"
      ]
     },
     "execution_count": 9,
     "metadata": {},
     "output_type": "execute_result"
    }
   ],
   "source": [
    "# Replacing the NAN with 0.000 players are not know for shooting 3s\n",
    "gsw['3P%'] = gsw['3P%'].fillna(0.000)\n",
    "gsw['2P%'] = gsw['2P%'].fillna(0.000)\n",
    "gsw['FT%'] = gsw['FT%'].fillna(0.000)\n",
    "\n",
    "# Counting how many duplicates I have\n",
    "duplicates = gsw.duplicated().sum()\n",
    "duplicates"
   ]
  },
  {
   "cell_type": "markdown",
   "id": "3a13774e",
   "metadata": {},
   "source": [
    "# Data Manipulation"
   ]
  },
  {
   "cell_type": "code",
   "execution_count": 11,
   "id": "848c9bed",
   "metadata": {
    "scrolled": true
   },
   "outputs": [
    {
     "data": {
      "text/plain": [
       "Year  Season          Name          \n",
       "2018  Playoffs        Draymond Green    21.0\n",
       "                      Klay Thompson     21.0\n",
       "                      Stephen Curry     15.0\n",
       "      Regular Season  Draymond Green    70.0\n",
       "                      Klay Thompson     73.0\n",
       "                      Stephen Curry     51.0\n",
       "2022  Playoffs        Draymond Green    22.0\n",
       "                      Klay Thompson     22.0\n",
       "                      Stephen Curry     22.0\n",
       "      Regular Season  Draymond Green    46.0\n",
       "                      Klay Thompson     32.0\n",
       "                      Stephen Curry     64.0\n",
       "Name: G, dtype: float64"
      ]
     },
     "execution_count": 11,
     "metadata": {},
     "output_type": "execute_result"
    }
   ],
   "source": [
    "# seeing the average games the three players played in by season an year\n",
    "name = gsw['Name'].isin(['Draymond Green','Klay Thompson','Stephen Curry'])\n",
    "gsw[name].groupby(['Year','Season','Name'])['G'].mean()"
   ]
  },
  {
   "cell_type": "code",
   "execution_count": 12,
   "id": "4eccd215",
   "metadata": {},
   "outputs": [
    {
     "data": {
      "text/plain": [
       "Year  Season          Name          \n",
       "2018  Playoffs        Draymond Green    0.432\n",
       "                      Klay Thompson     0.465\n",
       "                      Stephen Curry     0.451\n",
       "      Regular Season  Draymond Green    0.454\n",
       "                      Klay Thompson     0.488\n",
       "                      Stephen Curry     0.495\n",
       "2022  Playoffs        Draymond Green    0.479\n",
       "                      Klay Thompson     0.429\n",
       "                      Stephen Curry     0.459\n",
       "      Regular Season  Draymond Green    0.525\n",
       "                      Klay Thompson     0.429\n",
       "                      Stephen Curry     0.437\n",
       "Name: FG%, dtype: float64"
      ]
     },
     "execution_count": 12,
     "metadata": {},
     "output_type": "execute_result"
    }
   ],
   "source": [
    "# Seeing the field goal percentage for the playofs and the regular season \n",
    "gsw[name].groupby(['Year','Season','Name'])['FG%'].mean()"
   ]
  },
  {
   "cell_type": "code",
   "execution_count": 13,
   "id": "ce06c714",
   "metadata": {},
   "outputs": [
    {
     "data": {
      "text/plain": [
       "Year  Season          Name          \n",
       "2018  Playoffs        Draymond Green     3.8\n",
       "                      Klay Thompson      7.5\n",
       "                      Stephen Curry     10.8\n",
       "      Regular Season  Draymond Green     3.7\n",
       "                      Klay Thompson      7.1\n",
       "                      Stephen Curry      9.8\n",
       "2022  Playoffs        Draymond Green     1.8\n",
       "                      Klay Thompson      9.1\n",
       "                      Stephen Curry     10.4\n",
       "      Regular Season  Draymond Green     1.2\n",
       "                      Klay Thompson      9.3\n",
       "                      Stephen Curry     11.7\n",
       "Name: 3PA, dtype: float64"
      ]
     },
     "execution_count": 13,
     "metadata": {},
     "output_type": "execute_result"
    }
   ],
   "source": [
    "#checking to see the 3PA for playoffs and regular season \n",
    "gsw[name].groupby(['Year','Season','Name'])['3PA'].mean()"
   ]
  },
  {
   "cell_type": "code",
   "execution_count": 14,
   "id": "94acfdf5",
   "metadata": {},
   "outputs": [
    {
     "data": {
      "text/plain": [
       "Year  Season          Name          \n",
       "2018  Playoffs        Draymond Green    0.266\n",
       "                      Klay Thompson     0.427\n",
       "                      Stephen Curry     0.395\n",
       "      Regular Season  Draymond Green    0.301\n",
       "                      Klay Thompson     0.440\n",
       "                      Stephen Curry     0.423\n",
       "2022  Playoffs        Draymond Green    0.205\n",
       "                      Klay Thompson     0.385\n",
       "                      Stephen Curry     0.397\n",
       "      Regular Season  Draymond Green    0.296\n",
       "                      Klay Thompson     0.385\n",
       "                      Stephen Curry     0.380\n",
       "Name: 3P%, dtype: float64"
      ]
     },
     "execution_count": 14,
     "metadata": {},
     "output_type": "execute_result"
    }
   ],
   "source": [
    "# Checking to see the 3p% for the playoffs and regular season \n",
    "gsw[name].groupby(['Year','Season','Name'])['3P%'].mean()"
   ]
  },
  {
   "cell_type": "code",
   "execution_count": 15,
   "id": "b8fd7dc8",
   "metadata": {},
   "outputs": [
    {
     "data": {
      "text/plain": [
       "Year  Season          Name          \n",
       "2018  Playoffs        Draymond Green    10.8\n",
       "                      Klay Thompson     19.6\n",
       "                      Stephen Curry     25.5\n",
       "      Regular Season  Draymond Green    11.0\n",
       "                      Klay Thompson     20.0\n",
       "                      Stephen Curry     26.4\n",
       "2022  Playoffs        Draymond Green     8.0\n",
       "                      Klay Thompson     19.0\n",
       "                      Stephen Curry     27.4\n",
       "      Regular Season  Draymond Green     7.5\n",
       "                      Klay Thompson     20.4\n",
       "                      Stephen Curry     25.5\n",
       "Name: PTS/G, dtype: float64"
      ]
     },
     "execution_count": 15,
     "metadata": {},
     "output_type": "execute_result"
    }
   ],
   "source": [
    "# Checking to see the pts/G for the playoffs and regular season \n",
    "gsw[name].groupby(['Year','Season','Name'])['PTS/G'].mean()"
   ]
  },
  {
   "cell_type": "code",
   "execution_count": 16,
   "id": "ecd9df49",
   "metadata": {},
   "outputs": [],
   "source": [
    "# Saving the dataframe to a csv file.\n",
    "gsw.to_csv('gsw_games.csv')"
   ]
  },
  {
   "cell_type": "markdown",
   "id": "4a8a9472",
   "metadata": {},
   "source": [
    "# Tweets Mining \n",
    "Created a twitter developer account to get the private keys. Then setting up the keys as variables to gain access to the twitter API. "
   ]
  },
  {
   "cell_type": "code",
   "execution_count": 17,
   "id": "06afc12e",
   "metadata": {},
   "outputs": [],
   "source": [
    "\n",
    "# Setting up my keys to access twitter api\n",
    "access_token = '1464967868928434183-BQpmO1x9B6ae1Q5dMDqbIoLK7KBlCu'\n",
    "access_secret = 'CfRY83qMxgwNexvvDGCmURUEMSux8cIthAl0uxQQHMRCq'\n",
    "consumer_key ='1UGQIS0kbAxJPqJXxSQ2AADLa'\n",
    "consumer_secret = 'pfU5oQd0YAnwLhZwjE8mecvvcBqoZGVHNUYQNuT3aOmpQr4gGC'\n",
    "\n",
    "auth = tweepy.OAuthHandler(consumer_key,consumer_secret)\n",
    "auth.set_access_token(access_token,access_secret)\n",
    "api = tweepy.API(auth,wait_on_rate_limit=True)"
   ]
  },
  {
   "cell_type": "markdown",
   "id": "27842cb0",
   "metadata": {},
   "source": [
    "# Creating seach queries "
   ]
  },
  {
   "cell_type": "code",
   "execution_count": 18,
   "id": "3e08e1fe",
   "metadata": {},
   "outputs": [],
   "source": [
    "# Setting up the keyword to search for and filtering out retweets. \n",
    "keywords= 'Steph Curry-filter:retweets AND -filter:replies AND -filter:links'\n",
    "\n",
    "\n",
    "# Creating a list to store the twitter data in. \n",
    "id_str = []\n",
    "user = []\n",
    "coordinates  = []\n",
    "time=[]\n",
    "retweet_count = []\n",
    "favorite_count = []\n",
    "text= []\n",
    "\n",
    "\n",
    "# Created a loop to pull tweets to get the full_text of the tweet. \n",
    "for tweet in tweepy.Cursor(api.search_tweets,q=keywords,lang='en',count=833, \n",
    "                           tweet_mode = \"extended\", until = '2022-07-11').items(625):\n",
    "    id_str.append(tweet.id_str)\n",
    "    user.append(tweet.user)\n",
    "    coordinates .append(tweet.coordinates )\n",
    "    time.append(tweet.created_at)\n",
    "    retweet_count.append(tweet.retweet_count)\n",
    "    favorite_count.append(tweet.favorite_count)\n",
    "    text.append(tweet.full_text)\n",
    "    \n",
    "# Created a dataframe \n",
    "steph_tweets = pd.DataFrame({'id_str': id_str,'user': user,'coordinates':coordinates ,\n",
    "                           'time':time,'retweet_count':retweet_count,'favorite_count':favorite_count, 'text':text})\n",
    "steph_tweets.to_csv('steph_tweets.csv')"
   ]
  },
  {
   "cell_type": "code",
   "execution_count": 19,
   "id": "f1514726",
   "metadata": {},
   "outputs": [],
   "source": [
    "# Setting up the keyword to search for and filtering out retweets. \n",
    "keywords= 'klay Thompson-filter:retweets AND -filter:replies AND -filter:links'\n",
    "\n",
    "# Creating a list to store the twitter data in. \n",
    "id_str = []\n",
    "user = []\n",
    "coordinates  = []\n",
    "time=[]\n",
    "retweet_count = []\n",
    "favorite_count = []\n",
    "text= []\n",
    "\n",
    "# Created a loop to pull tweets to get the full_text of the tweet. \n",
    "for tweet in tweepy.Cursor(api.search_tweets,q=keywords,lang='en',count=833, \n",
    "                           tweet_mode = \"extended\", until = '2022-07-11').items(625):\n",
    "    id_str.append(tweet.id_str)\n",
    "    user.append(tweet.user)\n",
    "    coordinates .append(tweet.coordinates )\n",
    "    time.append(tweet.created_at)\n",
    "    retweet_count.append(tweet.retweet_count)\n",
    "    favorite_count.append(tweet.favorite_count)\n",
    "    text.append(tweet.full_text)\n",
    "    \n",
    "# Created a dataframe \n",
    "klay_tweets = pd.DataFrame({'id_str': id_str,'user': user,'coordinates':coordinates ,\n",
    "                           'time':time,'retweet_count':retweet_count,'favorite_count':favorite_count, 'text':text})\n",
    "# Saving tweets to a csv file\n",
    "klay_tweets.to_csv('klay_tweets.csv')"
   ]
  },
  {
   "cell_type": "code",
   "execution_count": 20,
   "id": "6125693d",
   "metadata": {},
   "outputs": [],
   "source": [
    "# Setting up the keyword to search for and filtering out retweets. \n",
    "keywords= 'Draymond Green-filter:retweets AND -filter:replies AND -filter:links'\n",
    "\n",
    "# Creating a list to store the twitter data in. \n",
    "id_str = []\n",
    "user = []\n",
    "coordinates  = []\n",
    "time=[]\n",
    "retweet_count = []\n",
    "favorite_count = []\n",
    "text= []\n",
    "\n",
    "# Created a loop to pull tweets to get the full_text of the tweet. \n",
    "for tweet in tweepy.Cursor(api.search_tweets,q=keywords,lang='en',\n",
    "                            count=833, tweet_mode = \"extended\", until = '2022-07-11').items(625):\n",
    "    \n",
    "    id_str.append(tweet.id_str)\n",
    "    user.append(tweet.user)\n",
    "    coordinates .append(tweet.coordinates )\n",
    "    time.append(tweet.created_at)\n",
    "    retweet_count.append(tweet.retweet_count)\n",
    "    favorite_count.append(tweet.favorite_count)\n",
    "    text.append(tweet.full_text)\n",
    "    \n",
    "# Created a dataframe \n",
    "draymond_tweets = pd.DataFrame({'id_str': id_str,'user': user,'coordinates':coordinates ,\n",
    "                           'time':time,'retweet_count':retweet_count,'favorite_count':favorite_count, 'text':text})\n",
    "# Saving tweets to a csv file\n",
    "draymond_tweets.to_csv('draymond_tweets.csv')"
   ]
  },
  {
   "cell_type": "code",
   "execution_count": 21,
   "id": "f3626c3f",
   "metadata": {},
   "outputs": [],
   "source": [
    "# Setting up the keyword to search for and filtering out retweets. \n",
    "keywords= '#GoldenStateWarriors-filter:retweets AND -filter:replies AND -filter:links'\n",
    "\n",
    "# Creating a list to store the twitter data in. \n",
    "id_str = []\n",
    "user = []\n",
    "coordinates  = []\n",
    "time=[]\n",
    "retweet_count = []\n",
    "favorite_count = []\n",
    "text= []\n",
    "\n",
    "# Created a loop to pull tweets to get the full_text of the tweet. \n",
    "for tweet in tweepy.Cursor(api.search_tweets,q=keywords,lang='en',\n",
    "                            count=833, tweet_mode = \"extended\", until = '2022-07-11').items(625):\n",
    "    \n",
    "    id_str.append(tweet.id_str)\n",
    "    user.append(tweet.user)\n",
    "    coordinates .append(tweet.coordinates )\n",
    "    time.append(tweet.created_at)\n",
    "    retweet_count.append(tweet.retweet_count)\n",
    "    favorite_count.append(tweet.favorite_count)\n",
    "    text.append(tweet.full_text)\n",
    "    \n",
    "# Created a dataframe \n",
    "GoldenState_tweets = pd.DataFrame({'id_str': id_str,'user': user,'coordinates':coordinates ,\n",
    "                           'time':time,'retweet_count':retweet_count,'favorite_count':favorite_count, 'text':text})\n",
    "# Saving tweets to a csv file\n",
    "GoldenState_tweets.to_csv('GoldenState_tweets.csv')"
   ]
  },
  {
   "cell_type": "code",
   "execution_count": 22,
   "id": "26ead37a",
   "metadata": {},
   "outputs": [],
   "source": [
    "#Bringing all three dataframes together under one dataframe. \n",
    "# Creating a column to identify the key word used for the search \n",
    "\n",
    "steph_tweets['key_word']= 'Steph Curry'\n",
    "klay_tweets['key_word']= 'Klay Thompson'\n",
    "draymond_tweets['key_word']= 'Draymond Green' \n",
    "GoldenState_tweets['key_word']= 'Team Tweets'\n",
    "gsw_tweets = pd.concat([steph_tweets,klay_tweets,draymond_tweets,GoldenState_tweets],axis=0, ignore_index=True)"
   ]
  },
  {
   "cell_type": "code",
   "execution_count": 23,
   "id": "300c5a51",
   "metadata": {},
   "outputs": [
    {
     "data": {
      "text/plain": [
       "(1300, 8)"
      ]
     },
     "execution_count": 23,
     "metadata": {},
     "output_type": "execute_result"
    }
   ],
   "source": [
    "# Clean the tweets and drop colunns that have missing data \n",
    "gsw_tweets.shape"
   ]
  },
  {
   "cell_type": "markdown",
   "id": "877d2956",
   "metadata": {},
   "source": [
    "# Data Cleaning "
   ]
  },
  {
   "cell_type": "code",
   "execution_count": 24,
   "id": "d4a53e14",
   "metadata": {},
   "outputs": [
    {
     "data": {
      "text/plain": [
       "id_str            False\n",
       "user              False\n",
       "coordinates        True\n",
       "time              False\n",
       "retweet_count     False\n",
       "favorite_count    False\n",
       "text              False\n",
       "key_word          False\n",
       "dtype: bool"
      ]
     },
     "execution_count": 24,
     "metadata": {},
     "output_type": "execute_result"
    }
   ],
   "source": [
    "# Checking to see if there are any missing values. \n",
    "gsw_tweets.isna().any()"
   ]
  },
  {
   "cell_type": "code",
   "execution_count": 25,
   "id": "7c342372",
   "metadata": {},
   "outputs": [
    {
     "data": {
      "text/plain": [
       "0       No Location\n",
       "1       No Location\n",
       "2       No Location\n",
       "3       No Location\n",
       "4       No Location\n",
       "           ...     \n",
       "1295    No Location\n",
       "1296    No Location\n",
       "1297    No Location\n",
       "1298    No Location\n",
       "1299    No Location\n",
       "Name: coordinates, Length: 1300, dtype: object"
      ]
     },
     "execution_count": 25,
     "metadata": {},
     "output_type": "execute_result"
    }
   ],
   "source": [
    "gsw_tweets['coordinates'].fillna('No Location')"
   ]
  },
  {
   "cell_type": "code",
   "execution_count": 26,
   "id": "8ada0fe0",
   "metadata": {},
   "outputs": [
    {
     "data": {
      "text/plain": [
       "17"
      ]
     },
     "execution_count": 26,
     "metadata": {},
     "output_type": "execute_result"
    }
   ],
   "source": [
    "# Checking to see how man duplicates I have in my dataframe\n",
    "gsw_tweets.duplicated('id_str').sum()"
   ]
  },
  {
   "cell_type": "code",
   "execution_count": 27,
   "id": "82071e54",
   "metadata": {},
   "outputs": [],
   "source": [
    "# Droping the duplicated data \n",
    "gsw_tweets = gsw_tweets.drop_duplicates('id_str')"
   ]
  },
  {
   "cell_type": "code",
   "execution_count": 28,
   "id": "169025b3",
   "metadata": {},
   "outputs": [
    {
     "data": {
      "text/plain": [
       "0"
      ]
     },
     "execution_count": 28,
     "metadata": {},
     "output_type": "execute_result"
    }
   ],
   "source": [
    "# Checking to see if the duplicates were droped\n",
    "gsw_tweets.duplicated('id_str').sum()"
   ]
  },
  {
   "cell_type": "code",
   "execution_count": 46,
   "id": "698ca275",
   "metadata": {},
   "outputs": [],
   "source": [
    "\n",
    "# joing the text together so it can just be one big text \n",
    "tweets = gsw_tweets['text'].str.cat(sep='')\n"
   ]
  },
  {
   "cell_type": "markdown",
   "id": "3ecc09fb",
   "metadata": {},
   "source": [
    "# Tweets Processing \n",
    "Turned the tweets in 'tokens 'in NLTK library and removed all non-alphanumeric characters within the tokens. Then used WordNetLemmatizer to get the base root of each word along with adjectives. Placed the lemmatized tokens into a word cloud using library WordCloud. To get the sentiment score for every row I used the library Textblob along with a function to retrieve and store the scores. Made a function to count all of the positive, negative, and neutral scores and created scatter and bar plots to visualize the data. I further manipulated the data to gain additional insights. "
   ]
  },
  {
   "cell_type": "code",
   "execution_count": 30,
   "id": "008d1fe1",
   "metadata": {},
   "outputs": [],
   "source": [
    "from nltk import word_tokenize \n",
    "from nltk.stem import WordNetLemmatizer\n",
    "tweets = re.sub(r'[^\\w\\s]', '',str(tweets))\n",
    "# Removing all non-alphnumric characters \n",
    "word_token = word_tokenize(tweets)\n",
    "\n"
   ]
  },
  {
   "cell_type": "code",
   "execution_count": 31,
   "id": "347fced7",
   "metadata": {},
   "outputs": [],
   "source": [
    "# Lemmatization the tweets to get the root words along with adjectives \n",
    "from nltk.stem import WordNetLemmatizer\n",
    "wnl = WordNetLemmatizer()\n",
    "root_tokens =wnl.lemmatize(str(word_token),pos='a')"
   ]
  },
  {
   "cell_type": "code",
   "execution_count": 32,
   "id": "8ad8bf55",
   "metadata": {},
   "outputs": [],
   "source": [
    "# Setting my stopwords to apply to the word cloud \n",
    "from wordcloud import WordCloud,STOPWORDS\n",
    "stopwords = set(STOPWORDS)\n",
    "stopwords.update([\"Golden\",\"State\",\"really\",\"amp\",\"kendrick\",\"Perkins\",\"time\",\"one\",\"Im\",\"people\",\"got\",\"think\",\"year\",\"na\",\"wa\",\"dont\",\"yall\",\"steph\",\"stephn\",\"curry\",\"draymond\",\"green\",\"shit\",\"klay\",\"Thompson\",\"man\",\"talk\",\n",
    "                \"basketball\",\"stephen\",\"didnt\",\"thing\",\"guy\",\"bro\", \"warriors\",\"warrior\",\"player\",\"game\",\"i\", \"me\", \"my\", \"myself\",\n",
    "                  \"we\", \"our\", \"ours\", \"ourselves\", \"you\", \"your\", \"yours\", \"yourself\", \"yourselves\", \"he\", \"him\", \"his\", \"himself\",\n",
    "                  \"she\", \"her\", \"hers\", \"herself\", \"it\", \"its\", \"itself\", \"they\", \"them\", \"their\", \"theirs\", \"themselves\", \"what\", \"which\",\n",
    "                  \"who\", \"whom\", \"this\", \"that\", \"these\", \"those\", \"am\", \"is\", \"are\", \"was\", \"were\", \"be\", \"been\", \"being\", \"have\", \"has\", \"had\",\n",
    "                  \"having\", \"do\", \"does\", \"did\", \"doing\", \"a\", \"an\",\n",
    "                  \"the\", \"and\", \"but\", \"if\", \"or\", \"because\", \"as\", \"until\", \"while\", \"of\", \"at\", \"by\", \"for\", \"with\", \"about\", \"against\", \"between\", \n",
    "                  \"into\", \"through\", \"during\", \"before\", \"after\", \"above\", \"below\", \"to\", \"from\", \"up\", \"down\", \"in\", \"out\", \"on\", \"off\", \"over\", \"under\", \n",
    "                  \"again\", \"further\", \"then\", \"once\",\n",
    "                  \"here\", \"there\", \"when\", \"where\", \"why\", \"how\", \"all\", \"any\", \"both\", \"each\", \"few\", \"more\", \"most\", \"other\", \"some\", \"such\", \"no\", \"nor\", \"not\", \n",
    "                  \"only\", \"own\", \"same\", \"so\", \"than\", \"too\", \"very\", \"s\", \"t\", \"can\", \"will\", \"just\", \"don\", \"should\", \"now\"])"
   ]
  },
  {
   "cell_type": "code",
   "execution_count": 33,
   "id": "92abc618",
   "metadata": {
    "scrolled": true
   },
   "outputs": [
    {
     "data": {
      "image/png": "[encoded data removed]",
      "text/plain": [
       "<Figure size 432x288 with 1 Axes>"
      ]
     },
     "metadata": {
      "needs_background": "light"
     },
     "output_type": "display_data"
    }
   ],
   "source": [
    "# Making a word cloud to see the ost frequent words \n",
    "from wordcloud import WordCloud, STOPWORDS\n",
    "wordcloud = WordCloud(background_color = 'white', stopwords=stopwords,max_words = 20,colormap = 'Reds'). generate(root_tokens.replace(\"'\",''))\n",
    "plt.imshow(wordcloud)\n",
    "plt.axis('off')\n",
    "plt.savefig('WordCloud.jpeg')\n",
    "plt.show()"
   ]
  },
  {
   "cell_type": "code",
   "execution_count": 34,
   "id": "d7774f4b",
   "metadata": {},
   "outputs": [
    {
     "name": "stdout",
     "output_type": "stream",
     "text": [
      "0                                   (0.0, 0.0)\n",
      "1                                   (0.5, 0.5)\n",
      "2                                  (0.15, 0.1)\n",
      "3                    (0.6000000000000001, 0.9)\n",
      "4    (0.12976190476190474, 0.5642857142857144)\n",
      "Name: sentiment, dtype: object\n"
     ]
    }
   ],
   "source": [
    "# Created a function to get the sentiment score for each row in the dataframe\n",
    "from textblob import TextBlob \n",
    "\n",
    "def senti(x):\n",
    "    return TextBlob(x).sentiment     \n",
    "\n",
    "gsw_tweets['sentiment'] = gsw_tweets['text'].apply(senti)\n",
    "print(gsw_tweets['sentiment'].head())\n",
    "\n",
    "def polarity(y):\n",
    "    return TextBlob(y).sentiment.polarity\n",
    "\n",
    "gsw_tweets['polarity'] = gsw_tweets['text'].apply(polarity)\n",
    "\n",
    "def subjectivity(q):\n",
    "    return TextBlob(q).sentiment.subjectivity\n",
    "\n",
    "gsw_tweets['subjectivity'] = gsw_tweets['text'].apply(subjectivity)"
   ]
  },
  {
   "cell_type": "code",
   "execution_count": 35,
   "id": "636a53eb",
   "metadata": {},
   "outputs": [
    {
     "data": {
      "image/png": "[encoded data removed]",
      "text/plain": [
       "<Figure size 432x288 with 1 Axes>"
      ]
     },
     "metadata": {
      "needs_background": "light"
     },
     "output_type": "display_data"
    }
   ],
   "source": [
    "# plot with a scatter plot the distrubtion of the sentiment scores\n",
    "x = gsw_tweets['polarity']\n",
    "y = gsw_tweets['subjectivity']\n",
    "plt.scatter(x,y,s=10,alpha = 0.5)\n",
    "plt.ylabel('< Objective ---------- Subjective >', fontsize=12)\n",
    "plt.xlabel('< Negative ------------Postive >',fontsize=12)\n",
    "plt.title('Sentiment Score')\n",
    "plt.savefig('sentiment_scatter.jpeg')\n",
    "plt.show()"
   ]
  },
  {
   "cell_type": "code",
   "execution_count": 36,
   "id": "39cf08c5",
   "metadata": {},
   "outputs": [],
   "source": [
    "# Creating a function to count the postive, negative, and neutral values\n",
    "\n",
    "def value_count(x):\n",
    "    if x > 0:\n",
    "        return \"Postive\"\n",
    "    elif x==0:\n",
    "        return \"Neutral\"\n",
    "    else:\n",
    "        return \"Negative\"\n",
    "    \n",
    "gsw_tweets['analysis'] = gsw_tweets['polarity'].apply(value_count)"
   ]
  },
  {
   "cell_type": "code",
   "execution_count": 37,
   "id": "20981362",
   "metadata": {},
   "outputs": [
    {
     "data": {
      "text/plain": [
       "Postive     610\n",
       "Neutral     391\n",
       "Negative    282\n",
       "Name: analysis, dtype: int64"
      ]
     },
     "execution_count": 37,
     "metadata": {},
     "output_type": "execute_result"
    }
   ],
   "source": [
    "gsw_tweets['analysis'].value_counts()"
   ]
  },
  {
   "cell_type": "code",
   "execution_count": 38,
   "id": "83c7598a",
   "metadata": {
    "scrolled": true
   },
   "outputs": [
    {
     "data": {
      "image/png": "[encoded data removed]",
      "text/plain": [
       "<Figure size 432x288 with 1 Axes>"
      ]
     },
     "metadata": {
      "needs_background": "light"
     },
     "output_type": "display_data"
    }
   ],
   "source": [
    "# Creating a bar chart to compare the distribution of postive, netural, and negative tweets\n",
    "\n",
    "gsw_tweets['analysis'].value_counts().plot(kind=\"bar\")\n",
    "plt.savefig('Sentiment Count.jpeg')\n",
    "plt.title('Sentiment Count')\n",
    "plt.show()"
   ]
  },
  {
   "cell_type": "code",
   "execution_count": 39,
   "id": "db3f861a",
   "metadata": {},
   "outputs": [
    {
     "data": {
      "text/html": [
       "<div>\n",
       "<style scoped>\n",
       "    .dataframe tbody tr th:only-of-type {\n",
       "        vertical-align: middle;\n",
       "    }\n",
       "\n",
       "    .dataframe tbody tr th {\n",
       "        vertical-align: top;\n",
       "    }\n",
       "\n",
       "    .dataframe thead th {\n",
       "        text-align: right;\n",
       "    }\n",
       "</style>\n",
       "<table border=\"1\" class=\"dataframe\">\n",
       "  <thead>\n",
       "    <tr style=\"text-align: right;\">\n",
       "      <th></th>\n",
       "      <th>favorite_count</th>\n",
       "      <th>text</th>\n",
       "    </tr>\n",
       "  </thead>\n",
       "  <tbody>\n",
       "    <tr>\n",
       "      <th>302</th>\n",
       "      <td>19779</td>\n",
       "      <td>what’s some of the most overused rap bars/line...</td>\n",
       "    </tr>\n",
       "  </tbody>\n",
       "</table>\n",
       "</div>"
      ],
      "text/plain": [
       "     favorite_count                                               text\n",
       "302           19779  what’s some of the most overused rap bars/line..."
      ]
     },
     "execution_count": 39,
     "metadata": {},
     "output_type": "execute_result"
    }
   ],
   "source": [
    "# See which tweet was liked the most likes\n",
    "sort = gsw_tweets.sort_values(['favorite_count'], ascending = False)\n",
    "sort.iloc[[0],[5,6]]"
   ]
  },
  {
   "cell_type": "code",
   "execution_count": 40,
   "id": "e9c1379d",
   "metadata": {},
   "outputs": [
    {
     "data": {
      "text/html": [
       "<div>\n",
       "<style scoped>\n",
       "    .dataframe tbody tr th:only-of-type {\n",
       "        vertical-align: middle;\n",
       "    }\n",
       "\n",
       "    .dataframe tbody tr th {\n",
       "        vertical-align: top;\n",
       "    }\n",
       "\n",
       "    .dataframe thead th {\n",
       "        text-align: right;\n",
       "    }\n",
       "</style>\n",
       "<table border=\"1\" class=\"dataframe\">\n",
       "  <thead>\n",
       "    <tr style=\"text-align: right;\">\n",
       "      <th></th>\n",
       "      <th>retweet_count</th>\n",
       "      <th>text</th>\n",
       "    </tr>\n",
       "  </thead>\n",
       "  <tbody>\n",
       "    <tr>\n",
       "      <th>996</th>\n",
       "      <td>805</td>\n",
       "      <td>Maturing is realizing Ray Allen is better than...</td>\n",
       "    </tr>\n",
       "  </tbody>\n",
       "</table>\n",
       "</div>"
      ],
      "text/plain": [
       "     retweet_count                                               text\n",
       "996            805  Maturing is realizing Ray Allen is better than..."
      ]
     },
     "execution_count": 40,
     "metadata": {},
     "output_type": "execute_result"
    }
   ],
   "source": [
    "# see which tweet was retewwte the most \n",
    "retweet = gsw_tweets.sort_values(['retweet_count'], ascending = False)\n",
    "retweet.iloc[[0],[4,6]]"
   ]
  },
  {
   "cell_type": "code",
   "execution_count": 42,
   "id": "bab1b490",
   "metadata": {},
   "outputs": [],
   "source": [
    "# Saving dataframe to a csv file.\n",
    "gsw_tweets.to_csv('gsw_tweets.csv')"
   ]
  },
  {
   "cell_type": "code",
   "execution_count": 43,
   "id": "bddc874e",
   "metadata": {},
   "outputs": [
    {
     "data": {
      "text/plain": [
       "94956"
      ]
     },
     "execution_count": 43,
     "metadata": {},
     "output_type": "execute_result"
    }
   ],
   "source": [
    "# Getting the sum of likes\n",
    "gsw_tweets['favorite_count'].sum()\n"
   ]
  },
  {
   "cell_type": "code",
   "execution_count": 44,
   "id": "5dd5061b",
   "metadata": {},
   "outputs": [
    {
     "data": {
      "text/plain": [
       "5488"
      ]
     },
     "execution_count": 44,
     "metadata": {},
     "output_type": "execute_result"
    }
   ],
   "source": [
    "#  Getting the sum of retweets\n",
    "gsw_tweets['retweet_count'].sum()"
   ]
  },
  {
   "cell_type": "code",
   "execution_count": 45,
   "id": "adf48414",
   "metadata": {},
   "outputs": [
    {
     "data": {
      "text/plain": [
       "key_word        analysis\n",
       "Draymond Green  Negative     88\n",
       "                Postive      53\n",
       "                Neutral       6\n",
       "Klay Thompson   Postive     249\n",
       "                Neutral     165\n",
       "                Negative     85\n",
       "Steph Curry     Postive     302\n",
       "                Neutral     215\n",
       "                Negative    108\n",
       "Team Tweets     Postive       6\n",
       "                Neutral       5\n",
       "                Negative      1\n",
       "Name: analysis, dtype: int64"
      ]
     },
     "execution_count": 45,
     "metadata": {},
     "output_type": "execute_result"
    }
   ],
   "source": [
    "# Checking to see how many postive, neutral, and negative each player got.\n",
    "gsw_tweets.groupby('key_word')['analysis'].value_counts()"
   ]
  }
 ],
 "metadata": {
  "kernelspec": {
   "display_name": "Python 3 (ipykernel)",
   "language": "python",
   "name": "python3"
  },
  "language_info": {
   "codemirror_mode": {
    "name": "ipython",
    "version": 3
   },
   "file_extension": ".py",
   "mimetype": "text/x-python",
   "name": "python",
   "nbconvert_exporter": "python",
   "pygments_lexer": "ipython3",
   "version": "3.9.7"
  }
 },
 "nbformat": 4,
 "nbformat_minor": 5
}
