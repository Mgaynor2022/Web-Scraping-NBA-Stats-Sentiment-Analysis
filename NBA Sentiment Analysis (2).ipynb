{
 "cells": [
  {
   "cell_type": "code",
   "execution_count": 1,
   "id": "ba7ffe93",
   "metadata": {},
   "outputs": [],
   "source": [
    "\n",
    "## Importing the packages I will need for my analysis/ Project is comparing 2022 to the 2018 regular and playoff season \n",
    "from bs4 import BeautifulSoup \n",
    "import requests \n",
    "import pandas as pd \n",
    "import numpy as np \n",
    "import csv  \n",
    "import tweepy\n",
    "import json\n",
    "import matplotlib.pyplot as plt \n",
    "import re\n",
    "import schedule \n",
    "import time "
   ]
  },
  {
   "cell_type": "code",
   "execution_count": 2,
   "id": "c0f831e9",
   "metadata": {},
   "outputs": [],
   "source": [
    "# Making a request to GET data from html for 2022 playoff and regular season\n",
    "url= 'https://www.basketball-reference.com/teams/GSW/2022.html#all_per_game-playoffs_per_game'\n",
    "gsw_data = requests.get(url)\n",
    "html_doc= gsw_data.text"
   ]
  },
  {
   "cell_type": "code",
   "execution_count": 3,
   "id": "d18680a6",
   "metadata": {},
   "outputs": [],
   "source": [
    "# Extracting structruded data from html with BeautifulSoup\n",
    "soup = BeautifulSoup(html_doc, 'html.parser')\n",
    "# Pulling only the table Im working with \n",
    "gsw22_table = soup.find(id='playoffs_per_game')\n",
    "gsw22_table_r = soup.find(id='per_game')"
   ]
  },
  {
   "cell_type": "code",
   "execution_count": 4,
   "id": "6e1a9d8a",
   "metadata": {},
   "outputs": [
    {
     "data": {
      "text/html": [
       "<div>\n",
       "<style scoped>\n",
       "    .dataframe tbody tr th:only-of-type {\n",
       "        vertical-align: middle;\n",
       "    }\n",
       "\n",
       "    .dataframe tbody tr th {\n",
       "        vertical-align: top;\n",
       "    }\n",
       "\n",
       "    .dataframe thead th {\n",
       "        text-align: right;\n",
       "    }\n",
       "</style>\n",
       "<table border=\"1\" class=\"dataframe\">\n",
       "  <thead>\n",
       "    <tr style=\"text-align: right;\">\n",
       "      <th></th>\n",
       "      <th>Rk</th>\n",
       "      <th>Name</th>\n",
       "      <th>Age</th>\n",
       "      <th>G</th>\n",
       "      <th>GS</th>\n",
       "      <th>MP</th>\n",
       "      <th>FG</th>\n",
       "      <th>FGA</th>\n",
       "      <th>FG%</th>\n",
       "      <th>3P</th>\n",
       "      <th>...</th>\n",
       "      <th>DRB</th>\n",
       "      <th>TRB</th>\n",
       "      <th>AST</th>\n",
       "      <th>STL</th>\n",
       "      <th>BLK</th>\n",
       "      <th>TOV</th>\n",
       "      <th>PF</th>\n",
       "      <th>PTS/G</th>\n",
       "      <th>Year</th>\n",
       "      <th>Season</th>\n",
       "    </tr>\n",
       "  </thead>\n",
       "  <tbody>\n",
       "    <tr>\n",
       "      <th>0</th>\n",
       "      <td>1</td>\n",
       "      <td>Stephen Curry</td>\n",
       "      <td>33</td>\n",
       "      <td>64</td>\n",
       "      <td>64</td>\n",
       "      <td>34.5</td>\n",
       "      <td>8.4</td>\n",
       "      <td>19.1</td>\n",
       "      <td>0.437</td>\n",
       "      <td>4.5</td>\n",
       "      <td>...</td>\n",
       "      <td>4.7</td>\n",
       "      <td>5.2</td>\n",
       "      <td>6.3</td>\n",
       "      <td>1.3</td>\n",
       "      <td>0.4</td>\n",
       "      <td>3.2</td>\n",
       "      <td>2.0</td>\n",
       "      <td>25.5</td>\n",
       "      <td>2022</td>\n",
       "      <td>Regular Season</td>\n",
       "    </tr>\n",
       "    <tr>\n",
       "      <th>1</th>\n",
       "      <td>2</td>\n",
       "      <td>Andrew Wiggins</td>\n",
       "      <td>26</td>\n",
       "      <td>73</td>\n",
       "      <td>73</td>\n",
       "      <td>31.9</td>\n",
       "      <td>6.5</td>\n",
       "      <td>14.0</td>\n",
       "      <td>0.466</td>\n",
       "      <td>2.2</td>\n",
       "      <td>...</td>\n",
       "      <td>3.3</td>\n",
       "      <td>4.5</td>\n",
       "      <td>2.2</td>\n",
       "      <td>1.0</td>\n",
       "      <td>0.7</td>\n",
       "      <td>1.5</td>\n",
       "      <td>2.2</td>\n",
       "      <td>17.2</td>\n",
       "      <td>2022</td>\n",
       "      <td>Regular Season</td>\n",
       "    </tr>\n",
       "    <tr>\n",
       "      <th>2</th>\n",
       "      <td>3</td>\n",
       "      <td>Jordan Poole</td>\n",
       "      <td>22</td>\n",
       "      <td>76</td>\n",
       "      <td>51</td>\n",
       "      <td>30.0</td>\n",
       "      <td>6.2</td>\n",
       "      <td>13.9</td>\n",
       "      <td>0.448</td>\n",
       "      <td>2.8</td>\n",
       "      <td>...</td>\n",
       "      <td>3.0</td>\n",
       "      <td>3.4</td>\n",
       "      <td>4.0</td>\n",
       "      <td>0.8</td>\n",
       "      <td>0.3</td>\n",
       "      <td>2.5</td>\n",
       "      <td>2.7</td>\n",
       "      <td>18.5</td>\n",
       "      <td>2022</td>\n",
       "      <td>Regular Season</td>\n",
       "    </tr>\n",
       "    <tr>\n",
       "      <th>3</th>\n",
       "      <td>4</td>\n",
       "      <td>Klay Thompson</td>\n",
       "      <td>31</td>\n",
       "      <td>32</td>\n",
       "      <td>32</td>\n",
       "      <td>29.4</td>\n",
       "      <td>7.7</td>\n",
       "      <td>17.9</td>\n",
       "      <td>0.429</td>\n",
       "      <td>3.6</td>\n",
       "      <td>...</td>\n",
       "      <td>3.4</td>\n",
       "      <td>3.9</td>\n",
       "      <td>2.8</td>\n",
       "      <td>0.5</td>\n",
       "      <td>0.5</td>\n",
       "      <td>1.3</td>\n",
       "      <td>1.7</td>\n",
       "      <td>20.4</td>\n",
       "      <td>2022</td>\n",
       "      <td>Regular Season</td>\n",
       "    </tr>\n",
       "    <tr>\n",
       "      <th>4</th>\n",
       "      <td>5</td>\n",
       "      <td>Draymond Green</td>\n",
       "      <td>31</td>\n",
       "      <td>46</td>\n",
       "      <td>44</td>\n",
       "      <td>28.9</td>\n",
       "      <td>2.9</td>\n",
       "      <td>5.6</td>\n",
       "      <td>0.525</td>\n",
       "      <td>0.3</td>\n",
       "      <td>...</td>\n",
       "      <td>6.3</td>\n",
       "      <td>7.3</td>\n",
       "      <td>7.0</td>\n",
       "      <td>1.3</td>\n",
       "      <td>1.1</td>\n",
       "      <td>3.0</td>\n",
       "      <td>3.0</td>\n",
       "      <td>7.5</td>\n",
       "      <td>2022</td>\n",
       "      <td>Regular Season</td>\n",
       "    </tr>\n",
       "  </tbody>\n",
       "</table>\n",
       "<p>5 rows × 30 columns</p>\n",
       "</div>"
      ],
      "text/plain": [
       "   Rk            Name  Age   G  GS    MP   FG   FGA    FG%   3P  ...  DRB  \\\n",
       "0   1   Stephen Curry   33  64  64  34.5  8.4  19.1  0.437  4.5  ...  4.7   \n",
       "1   2  Andrew Wiggins   26  73  73  31.9  6.5  14.0  0.466  2.2  ...  3.3   \n",
       "2   3    Jordan Poole   22  76  51  30.0  6.2  13.9  0.448  2.8  ...  3.0   \n",
       "3   4   Klay Thompson   31  32  32  29.4  7.7  17.9  0.429  3.6  ...  3.4   \n",
       "4   5  Draymond Green   31  46  44  28.9  2.9   5.6  0.525  0.3  ...  6.3   \n",
       "\n",
       "   TRB  AST  STL  BLK  TOV   PF  PTS/G  Year          Season  \n",
       "0  5.2  6.3  1.3  0.4  3.2  2.0   25.5  2022  Regular Season  \n",
       "1  4.5  2.2  1.0  0.7  1.5  2.2   17.2  2022  Regular Season  \n",
       "2  3.4  4.0  0.8  0.3  2.5  2.7   18.5  2022  Regular Season  \n",
       "3  3.9  2.8  0.5  0.5  1.3  1.7   20.4  2022  Regular Season  \n",
       "4  7.3  7.0  1.3  1.1  3.0  3.0    7.5  2022  Regular Season  \n",
       "\n",
       "[5 rows x 30 columns]"
      ]
     },
     "execution_count": 4,
     "metadata": {},
     "output_type": "execute_result"
    }
   ],
   "source": [
    "# Importing the html into a pandas dataframe. [0] only taking the first element \n",
    "gsw22_playoff = pd.read_html(str(gsw22_table))[0]\n",
    "gsw22_per_game = pd.read_html(str(gsw22_table_r))[0]\n",
    "\n",
    "# Renaming a column name to match the column \n",
    "gsw22_playoff.rename(columns={'Unnamed: 1':'Name'}, inplace = True)\n",
    "gsw22_per_game.rename(columns={'Unnamed: 1':'Name'}, inplace = True)\n",
    "\n",
    "# Creating a column year and season type to identify what year and season type the data falls in. \n",
    "gsw22_playoff['Year']= 2022\n",
    "gsw22_per_game['Year']=2022\n",
    "\n",
    "gsw22_playoff['Season']='Playoffs'\n",
    "gsw22_per_game['Season']= 'Regular Season' \n",
    "gsw22_per_game.head()"
   ]
  },
  {
   "cell_type": "code",
   "execution_count": 5,
   "id": "ad578f86",
   "metadata": {},
   "outputs": [],
   "source": [
    "# Making a request to GET data from html for 2018 playoff \n",
    "url= 'https://www.basketball-reference.com/teams/GSW/2018.html#all_per_game-playoffs_per_game'\n",
    "gsw_data_18 = requests.get(url)\n",
    "html_doc18= gsw_data_18.text\n",
    "\n",
    "# Extracting structruded data from html with BeautifulSoup\n",
    "soup = BeautifulSoup(html_doc18, 'html.parser')\n",
    "\n",
    "# Pulling only the table Im working with \n",
    "gsw18_table = soup.find(id='playoffs_per_game')\n",
    "gsw18_table_r = soup.find(id ='per_game')"
   ]
  },
  {
   "cell_type": "code",
   "execution_count": 6,
   "id": "19b0ef8d",
   "metadata": {},
   "outputs": [
    {
     "data": {
      "text/html": [
       "<div>\n",
       "<style scoped>\n",
       "    .dataframe tbody tr th:only-of-type {\n",
       "        vertical-align: middle;\n",
       "    }\n",
       "\n",
       "    .dataframe tbody tr th {\n",
       "        vertical-align: top;\n",
       "    }\n",
       "\n",
       "    .dataframe thead th {\n",
       "        text-align: right;\n",
       "    }\n",
       "</style>\n",
       "<table border=\"1\" class=\"dataframe\">\n",
       "  <thead>\n",
       "    <tr style=\"text-align: right;\">\n",
       "      <th></th>\n",
       "      <th>Rk</th>\n",
       "      <th>Name</th>\n",
       "      <th>Age</th>\n",
       "      <th>G</th>\n",
       "      <th>GS</th>\n",
       "      <th>MP</th>\n",
       "      <th>FG</th>\n",
       "      <th>FGA</th>\n",
       "      <th>FG%</th>\n",
       "      <th>3P</th>\n",
       "      <th>...</th>\n",
       "      <th>DRB</th>\n",
       "      <th>TRB</th>\n",
       "      <th>AST</th>\n",
       "      <th>STL</th>\n",
       "      <th>BLK</th>\n",
       "      <th>TOV</th>\n",
       "      <th>PF</th>\n",
       "      <th>PTS/G</th>\n",
       "      <th>Year</th>\n",
       "      <th>Season</th>\n",
       "    </tr>\n",
       "  </thead>\n",
       "  <tbody>\n",
       "    <tr>\n",
       "      <th>0</th>\n",
       "      <td>1</td>\n",
       "      <td>Klay Thompson</td>\n",
       "      <td>27</td>\n",
       "      <td>73</td>\n",
       "      <td>73</td>\n",
       "      <td>34.3</td>\n",
       "      <td>7.9</td>\n",
       "      <td>16.2</td>\n",
       "      <td>0.488</td>\n",
       "      <td>3.1</td>\n",
       "      <td>...</td>\n",
       "      <td>3.4</td>\n",
       "      <td>3.8</td>\n",
       "      <td>2.5</td>\n",
       "      <td>0.8</td>\n",
       "      <td>0.5</td>\n",
       "      <td>1.8</td>\n",
       "      <td>1.6</td>\n",
       "      <td>20.0</td>\n",
       "      <td>2018</td>\n",
       "      <td>Regular Season</td>\n",
       "    </tr>\n",
       "    <tr>\n",
       "      <th>1</th>\n",
       "      <td>2</td>\n",
       "      <td>Kevin Durant</td>\n",
       "      <td>29</td>\n",
       "      <td>68</td>\n",
       "      <td>68</td>\n",
       "      <td>34.2</td>\n",
       "      <td>9.3</td>\n",
       "      <td>18.0</td>\n",
       "      <td>0.516</td>\n",
       "      <td>2.5</td>\n",
       "      <td>...</td>\n",
       "      <td>6.4</td>\n",
       "      <td>6.8</td>\n",
       "      <td>5.4</td>\n",
       "      <td>0.7</td>\n",
       "      <td>1.8</td>\n",
       "      <td>3.0</td>\n",
       "      <td>2.0</td>\n",
       "      <td>26.4</td>\n",
       "      <td>2018</td>\n",
       "      <td>Regular Season</td>\n",
       "    </tr>\n",
       "    <tr>\n",
       "      <th>2</th>\n",
       "      <td>3</td>\n",
       "      <td>Draymond Green</td>\n",
       "      <td>27</td>\n",
       "      <td>70</td>\n",
       "      <td>70</td>\n",
       "      <td>32.7</td>\n",
       "      <td>4.0</td>\n",
       "      <td>8.8</td>\n",
       "      <td>0.454</td>\n",
       "      <td>1.1</td>\n",
       "      <td>...</td>\n",
       "      <td>6.6</td>\n",
       "      <td>7.6</td>\n",
       "      <td>7.3</td>\n",
       "      <td>1.4</td>\n",
       "      <td>1.3</td>\n",
       "      <td>2.9</td>\n",
       "      <td>2.6</td>\n",
       "      <td>11.0</td>\n",
       "      <td>2018</td>\n",
       "      <td>Regular Season</td>\n",
       "    </tr>\n",
       "    <tr>\n",
       "      <th>3</th>\n",
       "      <td>4</td>\n",
       "      <td>Stephen Curry</td>\n",
       "      <td>29</td>\n",
       "      <td>51</td>\n",
       "      <td>51</td>\n",
       "      <td>32.0</td>\n",
       "      <td>8.4</td>\n",
       "      <td>16.9</td>\n",
       "      <td>0.495</td>\n",
       "      <td>4.2</td>\n",
       "      <td>...</td>\n",
       "      <td>4.4</td>\n",
       "      <td>5.1</td>\n",
       "      <td>6.1</td>\n",
       "      <td>1.6</td>\n",
       "      <td>0.2</td>\n",
       "      <td>3.0</td>\n",
       "      <td>2.2</td>\n",
       "      <td>26.4</td>\n",
       "      <td>2018</td>\n",
       "      <td>Regular Season</td>\n",
       "    </tr>\n",
       "    <tr>\n",
       "      <th>4</th>\n",
       "      <td>5</td>\n",
       "      <td>Andre Iguodala</td>\n",
       "      <td>34</td>\n",
       "      <td>64</td>\n",
       "      <td>7</td>\n",
       "      <td>25.3</td>\n",
       "      <td>2.3</td>\n",
       "      <td>5.0</td>\n",
       "      <td>0.463</td>\n",
       "      <td>0.5</td>\n",
       "      <td>...</td>\n",
       "      <td>3.1</td>\n",
       "      <td>3.8</td>\n",
       "      <td>3.3</td>\n",
       "      <td>0.8</td>\n",
       "      <td>0.6</td>\n",
       "      <td>1.0</td>\n",
       "      <td>1.5</td>\n",
       "      <td>6.0</td>\n",
       "      <td>2018</td>\n",
       "      <td>Regular Season</td>\n",
       "    </tr>\n",
       "  </tbody>\n",
       "</table>\n",
       "<p>5 rows × 30 columns</p>\n",
       "</div>"
      ],
      "text/plain": [
       "   Rk            Name  Age   G  GS    MP   FG   FGA    FG%   3P  ...  DRB  \\\n",
       "0   1   Klay Thompson   27  73  73  34.3  7.9  16.2  0.488  3.1  ...  3.4   \n",
       "1   2    Kevin Durant   29  68  68  34.2  9.3  18.0  0.516  2.5  ...  6.4   \n",
       "2   3  Draymond Green   27  70  70  32.7  4.0   8.8  0.454  1.1  ...  6.6   \n",
       "3   4   Stephen Curry   29  51  51  32.0  8.4  16.9  0.495  4.2  ...  4.4   \n",
       "4   5  Andre Iguodala   34  64   7  25.3  2.3   5.0  0.463  0.5  ...  3.1   \n",
       "\n",
       "   TRB  AST  STL  BLK  TOV   PF  PTS/G  Year          Season  \n",
       "0  3.8  2.5  0.8  0.5  1.8  1.6   20.0  2018  Regular Season  \n",
       "1  6.8  5.4  0.7  1.8  3.0  2.0   26.4  2018  Regular Season  \n",
       "2  7.6  7.3  1.4  1.3  2.9  2.6   11.0  2018  Regular Season  \n",
       "3  5.1  6.1  1.6  0.2  3.0  2.2   26.4  2018  Regular Season  \n",
       "4  3.8  3.3  0.8  0.6  1.0  1.5    6.0  2018  Regular Season  \n",
       "\n",
       "[5 rows x 30 columns]"
      ]
     },
     "execution_count": 6,
     "metadata": {},
     "output_type": "execute_result"
    }
   ],
   "source": [
    "## Importing the html into a pandas dataframe. [0] only taking the first element \n",
    "gsw18_playoffs = pd.read_html(str(gsw18_table))[0]\n",
    "gsw18_per_game = pd.read_html(str(gsw18_table_r))[0]\n",
    "\n",
    "# Renaming a column name to match the column \n",
    "gsw18_playoffs.rename(columns={'Unnamed: 1':'Name'}, inplace=True)\n",
    "gsw18_per_game.rename(columns={'Unnamed: 1':'Name'}, inplace=True)\n",
    "\n",
    "# Creating a column 'year' to identify what year the data falls in.\n",
    "gsw18_playoffs['Year']= 2018\n",
    "gsw18_per_game['Year']=2018\n",
    "\n",
    "gsw18_playoffs['Season']='Playoffs'\n",
    "gsw18_per_game['Season']= 'Regular Season' \n",
    "\n",
    "gsw18_per_game.head()"
   ]
  },
  {
   "cell_type": "code",
   "execution_count": 7,
   "id": "440fd102",
   "metadata": {},
   "outputs": [
    {
     "data": {
      "text/plain": [
       "(63, 30)"
      ]
     },
     "execution_count": 7,
     "metadata": {},
     "output_type": "execute_result"
    }
   ],
   "source": [
    "# Merging both dataframes together and addining a year column \n",
    "gsw = pd.concat([gsw18_per_game,gsw18_playoffs, gsw22_per_game,gsw22_playoff],ignore_index= False)\n",
    "\n",
    "gsw.shape"
   ]
  },
  {
   "cell_type": "code",
   "execution_count": 8,
   "id": "6c03abc3",
   "metadata": {},
   "outputs": [
    {
     "data": {
      "text/plain": [
       "Rk        0\n",
       "Name      0\n",
       "Age       0\n",
       "G         0\n",
       "GS        0\n",
       "MP        0\n",
       "FG        0\n",
       "FGA       0\n",
       "FG%       0\n",
       "3P        0\n",
       "3PA       0\n",
       "3P%       4\n",
       "2P        0\n",
       "2PA       0\n",
       "2P%       1\n",
       "eFG%      0\n",
       "FT        0\n",
       "FTA       0\n",
       "FT%       2\n",
       "ORB       0\n",
       "DRB       0\n",
       "TRB       0\n",
       "AST       0\n",
       "STL       0\n",
       "BLK       0\n",
       "TOV       0\n",
       "PF        0\n",
       "PTS/G     0\n",
       "Year      0\n",
       "Season    0\n",
       "dtype: int64"
      ]
     },
     "execution_count": 8,
     "metadata": {},
     "output_type": "execute_result"
    }
   ],
   "source": [
    "# Checking to see if there are any missing values \n",
    "gsw.isna().sum()"
   ]
  },
  {
   "cell_type": "code",
   "execution_count": 9,
   "id": "4bd6a492",
   "metadata": {},
   "outputs": [
    {
     "data": {
      "text/plain": [
       "0"
      ]
     },
     "execution_count": 9,
     "metadata": {},
     "output_type": "execute_result"
    }
   ],
   "source": [
    "# Replacing the NAN with 0.000 players are not know for shooting 3s\n",
    "gsw['3P%'] = gsw['3P%'].fillna(0.000)\n",
    "gsw['2P%'] = gsw['2P%'].fillna(0.000)\n",
    "gsw['FT%'] = gsw['FT%'].fillna(0.000)\n",
    "\n",
    "# Counting how many duplicates I have\n",
    "duplicates = gsw.duplicated().sum()\n",
    "duplicates"
   ]
  },
  {
   "cell_type": "code",
   "execution_count": 11,
   "id": "848c9bed",
   "metadata": {
    "scrolled": true
   },
   "outputs": [
    {
     "data": {
      "text/plain": [
       "Year  Season          Name          \n",
       "2018  Playoffs        Draymond Green    21.0\n",
       "                      Klay Thompson     21.0\n",
       "                      Stephen Curry     15.0\n",
       "      Regular Season  Draymond Green    70.0\n",
       "                      Klay Thompson     73.0\n",
       "                      Stephen Curry     51.0\n",
       "2022  Playoffs        Draymond Green    22.0\n",
       "                      Klay Thompson     22.0\n",
       "                      Stephen Curry     22.0\n",
       "      Regular Season  Draymond Green    46.0\n",
       "                      Klay Thompson     32.0\n",
       "                      Stephen Curry     64.0\n",
       "Name: G, dtype: float64"
      ]
     },
     "execution_count": 11,
     "metadata": {},
     "output_type": "execute_result"
    }
   ],
   "source": [
    "# seeing the average games the three players played in by season an year\n",
    "name = gsw['Name'].isin(['Draymond Green','Klay Thompson','Stephen Curry'])\n",
    "gsw[name].groupby(['Year','Season','Name'])['G'].mean()"
   ]
  },
  {
   "cell_type": "code",
   "execution_count": 12,
   "id": "4eccd215",
   "metadata": {},
   "outputs": [
    {
     "data": {
      "text/plain": [
       "Year  Season          Name          \n",
       "2018  Playoffs        Draymond Green    0.432\n",
       "                      Klay Thompson     0.465\n",
       "                      Stephen Curry     0.451\n",
       "      Regular Season  Draymond Green    0.454\n",
       "                      Klay Thompson     0.488\n",
       "                      Stephen Curry     0.495\n",
       "2022  Playoffs        Draymond Green    0.479\n",
       "                      Klay Thompson     0.429\n",
       "                      Stephen Curry     0.459\n",
       "      Regular Season  Draymond Green    0.525\n",
       "                      Klay Thompson     0.429\n",
       "                      Stephen Curry     0.437\n",
       "Name: FG%, dtype: float64"
      ]
     },
     "execution_count": 12,
     "metadata": {},
     "output_type": "execute_result"
    }
   ],
   "source": [
    "# Seeing the field goal percentage for the playofs and the regular season \n",
    "gsw[name].groupby(['Year','Season','Name'])['FG%'].mean()"
   ]
  },
  {
   "cell_type": "code",
   "execution_count": 13,
   "id": "ce06c714",
   "metadata": {},
   "outputs": [
    {
     "data": {
      "text/plain": [
       "Year  Season          Name          \n",
       "2018  Playoffs        Draymond Green     3.8\n",
       "                      Klay Thompson      7.5\n",
       "                      Stephen Curry     10.8\n",
       "      Regular Season  Draymond Green     3.7\n",
       "                      Klay Thompson      7.1\n",
       "                      Stephen Curry      9.8\n",
       "2022  Playoffs        Draymond Green     1.8\n",
       "                      Klay Thompson      9.1\n",
       "                      Stephen Curry     10.4\n",
       "      Regular Season  Draymond Green     1.2\n",
       "                      Klay Thompson      9.3\n",
       "                      Stephen Curry     11.7\n",
       "Name: 3PA, dtype: float64"
      ]
     },
     "execution_count": 13,
     "metadata": {},
     "output_type": "execute_result"
    }
   ],
   "source": [
    "#checking to see the 3PA for playoffs and regular season \n",
    "gsw[name].groupby(['Year','Season','Name'])['3PA'].mean()"
   ]
  },
  {
   "cell_type": "code",
   "execution_count": 14,
   "id": "94acfdf5",
   "metadata": {},
   "outputs": [
    {
     "data": {
      "text/plain": [
       "Year  Season          Name          \n",
       "2018  Playoffs        Draymond Green    0.266\n",
       "                      Klay Thompson     0.427\n",
       "                      Stephen Curry     0.395\n",
       "      Regular Season  Draymond Green    0.301\n",
       "                      Klay Thompson     0.440\n",
       "                      Stephen Curry     0.423\n",
       "2022  Playoffs        Draymond Green    0.205\n",
       "                      Klay Thompson     0.385\n",
       "                      Stephen Curry     0.397\n",
       "      Regular Season  Draymond Green    0.296\n",
       "                      Klay Thompson     0.385\n",
       "                      Stephen Curry     0.380\n",
       "Name: 3P%, dtype: float64"
      ]
     },
     "execution_count": 14,
     "metadata": {},
     "output_type": "execute_result"
    }
   ],
   "source": [
    "# Checking to see the 3p% for the playoffs and regular season \n",
    "gsw[name].groupby(['Year','Season','Name'])['3P%'].mean()"
   ]
  },
  {
   "cell_type": "code",
   "execution_count": 15,
   "id": "b8fd7dc8",
   "metadata": {},
   "outputs": [
    {
     "data": {
      "text/plain": [
       "Year  Season          Name          \n",
       "2018  Playoffs        Draymond Green    10.8\n",
       "                      Klay Thompson     19.6\n",
       "                      Stephen Curry     25.5\n",
       "      Regular Season  Draymond Green    11.0\n",
       "                      Klay Thompson     20.0\n",
       "                      Stephen Curry     26.4\n",
       "2022  Playoffs        Draymond Green     8.0\n",
       "                      Klay Thompson     19.0\n",
       "                      Stephen Curry     27.4\n",
       "      Regular Season  Draymond Green     7.5\n",
       "                      Klay Thompson     20.4\n",
       "                      Stephen Curry     25.5\n",
       "Name: PTS/G, dtype: float64"
      ]
     },
     "execution_count": 15,
     "metadata": {},
     "output_type": "execute_result"
    }
   ],
   "source": [
    "# Checking to see the pts/G for the playoffs and regular season \n",
    "gsw[name].groupby(['Year','Season','Name'])['PTS/G'].mean()"
   ]
  },
  {
   "cell_type": "code",
   "execution_count": 16,
   "id": "ecd9df49",
   "metadata": {},
   "outputs": [],
   "source": [
    "# Saving the dataframe to a csv file.\n",
    "gsw.to_csv('gsw_games.csv')"
   ]
  },
  {
   "cell_type": "code",
   "execution_count": 17,
   "id": "06afc12e",
   "metadata": {},
   "outputs": [],
   "source": [
    "\n",
    "# Setting up my keys to access twitter api\n",
    "access_token = '1464967868928434183-BQpmO1x9B6ae1Q5dMDqbIoLK7KBlCu'\n",
    "access_secret = 'CfRY83qMxgwNexvvDGCmURUEMSux8cIthAl0uxQQHMRCq'\n",
    "consumer_key ='1UGQIS0kbAxJPqJXxSQ2AADLa'\n",
    "consumer_secret = 'pfU5oQd0YAnwLhZwjE8mecvvcBqoZGVHNUYQNuT3aOmpQr4gGC'\n",
    "\n",
    "auth = tweepy.OAuthHandler(consumer_key,consumer_secret)\n",
    "auth.set_access_token(access_token,access_secret)\n",
    "api = tweepy.API(auth,wait_on_rate_limit=True)"
   ]
  },
  {
   "cell_type": "code",
   "execution_count": 18,
   "id": "3e08e1fe",
   "metadata": {},
   "outputs": [],
   "source": [
    "# Setting up the keyword to search for and filtering out retweets. \n",
    "keywords= 'Steph Curry-filter:retweets AND -filter:replies AND -filter:links'\n",
    "\n",
    "\n",
    "# Creating a list to store the twitter data in. \n",
    "id_str = []\n",
    "user = []\n",
    "coordinates  = []\n",
    "time=[]\n",
    "retweet_count = []\n",
    "favorite_count = []\n",
    "text= []\n",
    "\n",
    "\n",
    "# Created a loop to pull tweets to get the full_text of the tweet. \n",
    "for tweet in tweepy.Cursor(api.search_tweets,q=keywords,lang='en',count=833, \n",
    "                           tweet_mode = \"extended\", until = '2022-07-11').items(625):\n",
    "    id_str.append(tweet.id_str)\n",
    "    user.append(tweet.user)\n",
    "    coordinates .append(tweet.coordinates )\n",
    "    time.append(tweet.created_at)\n",
    "    retweet_count.append(tweet.retweet_count)\n",
    "    favorite_count.append(tweet.favorite_count)\n",
    "    text.append(tweet.full_text)\n",
    "    \n",
    "# Created a dataframe \n",
    "steph_tweets = pd.DataFrame({'id_str': id_str,'user': user,'coordinates':coordinates ,\n",
    "                           'time':time,'retweet_count':retweet_count,'favorite_count':favorite_count, 'text':text})\n",
    "steph_tweets.to_csv('steph_tweets.csv')"
   ]
  },
  {
   "cell_type": "code",
   "execution_count": 19,
   "id": "f1514726",
   "metadata": {},
   "outputs": [],
   "source": [
    "# Setting up the keyword to search for and filtering out retweets. \n",
    "keywords= 'klay Thompson-filter:retweets AND -filter:replies AND -filter:links'\n",
    "\n",
    "# Creating a list to store the twitter data in. \n",
    "id_str = []\n",
    "user = []\n",
    "coordinates  = []\n",
    "time=[]\n",
    "retweet_count = []\n",
    "favorite_count = []\n",
    "text= []\n",
    "\n",
    "# Created a loop to pull tweets to get the full_text of the tweet. \n",
    "for tweet in tweepy.Cursor(api.search_tweets,q=keywords,lang='en',count=833, \n",
    "                           tweet_mode = \"extended\", until = '2022-07-11').items(625):\n",
    "    id_str.append(tweet.id_str)\n",
    "    user.append(tweet.user)\n",
    "    coordinates .append(tweet.coordinates )\n",
    "    time.append(tweet.created_at)\n",
    "    retweet_count.append(tweet.retweet_count)\n",
    "    favorite_count.append(tweet.favorite_count)\n",
    "    text.append(tweet.full_text)\n",
    "    \n",
    "# Created a dataframe \n",
    "klay_tweets = pd.DataFrame({'id_str': id_str,'user': user,'coordinates':coordinates ,\n",
    "                           'time':time,'retweet_count':retweet_count,'favorite_count':favorite_count, 'text':text})\n",
    "# Saving tweets to a csv file\n",
    "klay_tweets.to_csv('klay_tweets.csv')"
   ]
  },
  {
   "cell_type": "code",
   "execution_count": 20,
   "id": "6125693d",
   "metadata": {},
   "outputs": [],
   "source": [
    "# Setting up the keyword to search for and filtering out retweets. \n",
    "keywords= 'Draymond Green-filter:retweets AND -filter:replies AND -filter:links'\n",
    "\n",
    "# Creating a list to store the twitter data in. \n",
    "id_str = []\n",
    "user = []\n",
    "coordinates  = []\n",
    "time=[]\n",
    "retweet_count = []\n",
    "favorite_count = []\n",
    "text= []\n",
    "\n",
    "# Created a loop to pull tweets to get the full_text of the tweet. \n",
    "for tweet in tweepy.Cursor(api.search_tweets,q=keywords,lang='en',\n",
    "                            count=833, tweet_mode = \"extended\", until = '2022-07-11').items(625):\n",
    "    \n",
    "    id_str.append(tweet.id_str)\n",
    "    user.append(tweet.user)\n",
    "    coordinates .append(tweet.coordinates )\n",
    "    time.append(tweet.created_at)\n",
    "    retweet_count.append(tweet.retweet_count)\n",
    "    favorite_count.append(tweet.favorite_count)\n",
    "    text.append(tweet.full_text)\n",
    "    \n",
    "# Created a dataframe \n",
    "draymond_tweets = pd.DataFrame({'id_str': id_str,'user': user,'coordinates':coordinates ,\n",
    "                           'time':time,'retweet_count':retweet_count,'favorite_count':favorite_count, 'text':text})\n",
    "# Saving tweets to a csv file\n",
    "draymond_tweets.to_csv('draymond_tweets.csv')"
   ]
  },
  {
   "cell_type": "code",
   "execution_count": 21,
   "id": "f3626c3f",
   "metadata": {},
   "outputs": [],
   "source": [
    "# Setting up the keyword to search for and filtering out retweets. \n",
    "keywords= '#GoldenStateWarriors-filter:retweets AND -filter:replies AND -filter:links'\n",
    "\n",
    "# Creating a list to store the twitter data in. \n",
    "id_str = []\n",
    "user = []\n",
    "coordinates  = []\n",
    "time=[]\n",
    "retweet_count = []\n",
    "favorite_count = []\n",
    "text= []\n",
    "\n",
    "# Created a loop to pull tweets to get the full_text of the tweet. \n",
    "for tweet in tweepy.Cursor(api.search_tweets,q=keywords,lang='en',\n",
    "                            count=833, tweet_mode = \"extended\", until = '2022-07-11').items(625):\n",
    "    \n",
    "    id_str.append(tweet.id_str)\n",
    "    user.append(tweet.user)\n",
    "    coordinates .append(tweet.coordinates )\n",
    "    time.append(tweet.created_at)\n",
    "    retweet_count.append(tweet.retweet_count)\n",
    "    favorite_count.append(tweet.favorite_count)\n",
    "    text.append(tweet.full_text)\n",
    "    \n",
    "# Created a dataframe \n",
    "GoldenState_tweets = pd.DataFrame({'id_str': id_str,'user': user,'coordinates':coordinates ,\n",
    "                           'time':time,'retweet_count':retweet_count,'favorite_count':favorite_count, 'text':text})\n",
    "# Saving tweets to a csv file\n",
    "GoldenState_tweets.to_csv('GoldenState_tweets.csv')"
   ]
  },
  {
   "cell_type": "code",
   "execution_count": 22,
   "id": "26ead37a",
   "metadata": {},
   "outputs": [],
   "source": [
    "#Bringing all three dataframes together under one dataframe. \n",
    "# Creating a column to identify the key word used for the search \n",
    "\n",
    "steph_tweets['key_word']= 'Steph Curry'\n",
    "klay_tweets['key_word']= 'Klay Thompson'\n",
    "draymond_tweets['key_word']= 'Draymond Green' \n",
    "GoldenState_tweets['key_word']= 'Team Tweets'\n",
    "gsw_tweets = pd.concat([steph_tweets,klay_tweets,draymond_tweets,GoldenState_tweets],axis=0, ignore_index=True)"
   ]
  },
  {
   "cell_type": "code",
   "execution_count": 23,
   "id": "300c5a51",
   "metadata": {},
   "outputs": [
    {
     "data": {
      "text/plain": [
       "(1300, 8)"
      ]
     },
     "execution_count": 23,
     "metadata": {},
     "output_type": "execute_result"
    }
   ],
   "source": [
    "# Clean the tweets and drop colunns that have missing data \n",
    "gsw_tweets.shape"
   ]
  },
  {
   "cell_type": "code",
   "execution_count": 24,
   "id": "d4a53e14",
   "metadata": {},
   "outputs": [
    {
     "data": {
      "text/plain": [
       "id_str            False\n",
       "user              False\n",
       "coordinates        True\n",
       "time              False\n",
       "retweet_count     False\n",
       "favorite_count    False\n",
       "text              False\n",
       "key_word          False\n",
       "dtype: bool"
      ]
     },
     "execution_count": 24,
     "metadata": {},
     "output_type": "execute_result"
    }
   ],
   "source": [
    "# Checking to see if there are any missing values. \n",
    "gsw_tweets.isna().any()"
   ]
  },
  {
   "cell_type": "code",
   "execution_count": 25,
   "id": "7c342372",
   "metadata": {},
   "outputs": [
    {
     "data": {
      "text/plain": [
       "0       No Location\n",
       "1       No Location\n",
       "2       No Location\n",
       "3       No Location\n",
       "4       No Location\n",
       "           ...     \n",
       "1295    No Location\n",
       "1296    No Location\n",
       "1297    No Location\n",
       "1298    No Location\n",
       "1299    No Location\n",
       "Name: coordinates, Length: 1300, dtype: object"
      ]
     },
     "execution_count": 25,
     "metadata": {},
     "output_type": "execute_result"
    }
   ],
   "source": [
    "gsw_tweets['coordinates'].fillna('No Location')"
   ]
  },
  {
   "cell_type": "code",
   "execution_count": 26,
   "id": "8ada0fe0",
   "metadata": {},
   "outputs": [
    {
     "data": {
      "text/plain": [
       "17"
      ]
     },
     "execution_count": 26,
     "metadata": {},
     "output_type": "execute_result"
    }
   ],
   "source": [
    "# Checking to see how man duplicates I have in my dataframe\n",
    "gsw_tweets.duplicated('id_str').sum()"
   ]
  },
  {
   "cell_type": "code",
   "execution_count": 27,
   "id": "82071e54",
   "metadata": {},
   "outputs": [],
   "source": [
    "# Droping the duplicated data \n",
    "gsw_tweets = gsw_tweets.drop_duplicates('id_str')"
   ]
  },
  {
   "cell_type": "code",
   "execution_count": 28,
   "id": "169025b3",
   "metadata": {},
   "outputs": [
    {
     "data": {
      "text/plain": [
       "0"
      ]
     },
     "execution_count": 28,
     "metadata": {},
     "output_type": "execute_result"
    }
   ],
   "source": [
    "# Checking to see if the duplicates were droped\n",
    "gsw_tweets.duplicated('id_str').sum()"
   ]
  },
  {
   "cell_type": "code",
   "execution_count": 29,
   "id": "698ca275",
   "metadata": {},
   "outputs": [
    {
     "name": "stdout",
     "output_type": "stream",
     "text": [
      "<class 'pandas.core.frame.DataFrame'>\n",
      "Int64Index: 1283 entries, 0 to 1299\n",
      "Data columns (total 8 columns):\n",
      " #   Column          Non-Null Count  Dtype              \n",
      "---  ------          --------------  -----              \n",
      " 0   id_str          1283 non-null   object             \n",
      " 1   user            1283 non-null   object             \n",
      " 2   coordinates     0 non-null      object             \n",
      " 3   time            1283 non-null   datetime64[ns, UTC]\n",
      " 4   retweet_count   1283 non-null   int64              \n",
      " 5   favorite_count  1283 non-null   int64              \n",
      " 6   text            1283 non-null   object             \n",
      " 7   key_word        1283 non-null   object             \n",
      "dtypes: datetime64[ns, UTC](1), int64(2), object(5)\n",
      "memory usage: 90.2+ KB\n"
     ]
    },
    {
     "data": {
      "text/plain": [
       "'Dom Barlow needs to throw a Steph Curry mouth guard at these refs. He is not fouling!is steph curry better than kd?Steph Curry isn\\'t top-10 until he wins the American Century Championship.it’s so amazing watching steph curry play against anyone but your teamPlayers who have stayed with their original team the longest:\\n\\n03- Undonis Haslem\\n09- Steph Curry\\n11- Klay Thompson\\n12- Bradley Beal, Damian Lillard\\n13- Giannis, Draymond Green\\n14- Joel Embiid, Marcus Smart, Nikola Jokic\\n15- Karl Towns, Myles Turner, Devin Booker, Kevin LooneyIf Ray Allen is better than Klay Thompson, then Steph Curry must be the greatest player of all time.Would you rather have Steph Curry or Kyrie Irving at point guard this season?I know @ryan_francis88 hate steph curry he ruined Brons legacy and jus beat the Celtics for the chipYooo Steph Curry went off in the finals, no cap!!New life goal: go golfing with Steph Curry, Patrick Mahomes and Justin Timberlake. \\n\\nEven if it’s just to hand them beers.This man Chris Broussard has Steph Curry over Shaq on his top 10 🤣🤣🤣Saw JT at the celebrity golf tournament… dudes a dick.. Steph Curry was dope and Charles Barkley as  usual.  Carr was all about his fans which was dope too.Steph Curry is not a Top 3 PG of all timeYou know what they love in Hawaii\\nGolf tournaments w Aaron Rodgers, Steph Curry and Timberlake\\nWhere rich people can park their boats at th beach and watch\\nYou know what they don\\'t love\\nAffordable housing for native Hawaiians\\nAin\\'t enough Hawaii for poor MFsBaron Davis, on an ESPN interview with Cassidy Hubbarth, just said “all the haters can just shut up. Steph Curry is that guy!” #DubNation #GoldBlooded #BoomDizzle 💙💛🏀steph curry man what a guy!Replace steph curry with Russell Westbrook and the warriors still win every one of those ringsI wish I could nutmeg Steph CurrySteph Curry could potentially be the most exciting power forwardSteph Curry gonna kill that 4 pt shot in the @thebig3 in some years.I will never forget some of the dumbass takes “analysts” had in Steph Curry after the 2019 FinalsWhoever threw Steph Curry a Grizzlies ball on the golf course today, SOMEBODY BUY THAT MAN A BEER 🍺 \\nSteph in great sportsmanship kicked it away🙄🤮Imagine choosing being the nba2k23 devs and choosing devin booker of all people ..like steph curry is right there 😭TL Dead? \\nMy Top 10 NBA Players of all time:\\n1. Micheal Jordan\\n2. Kareem Abdul-Jabbar\\n3. LeBron James \\n4. Wilt Chamberlain \\n5. Larry Bird \\n6. Tim Duncan \\n7. Hakeem Olajuwon \\n8. Shaquille O’Neal\\n9. Bill Russell  \\n10. Steph Curry \\n\\nHM: Magic Johnson, Kobe BryantApparently this nigga Guch is Steph CurrySteph Curry dropping bombs on the banks of Lake Tahoe. He doesn’t miss much!Steph Curry &amp; Buddy Heild 1 &amp; 2 mention…Drink 🍺You ever been excited about a Steph curry dunk you can’t say shit bout WNBA dunksJordan def aint holdin no Steph CurryAnyone that says Steph Curry isn’t the most influential player in basketball history needs to take a look at Brook Lopez’s basketball reference page and tell me exactly when started shooting 3’sLol kyrgios is the steph curry of tennis lmaoo #Wimbledon2022How cool would it be to be playing in this celebrity golf tournament with Tony Romo and Steph Curry!!i’m pretty sure mike fired the guy who failed to edit the powerpoint presentation they used to pitch for steph curry. imagine forgetting to change the name from kevin durant to stephen curry, call him stephan instead of stephen which ended up costing nike $14B in the processHow is steph curry good at basketball AND golf? Like, save some sports for the rest of us guyI just found out LeBron and Steph Curry were born at the same hospital in Akron 😭🥰Steph Curry, Aaron Rodgers and Justin Timberlake competing with each other is something I didn’t know I needed to seePeople hate Steph Curry because he\\'s better than your favorite playerSteph Curry really out here playing golfNigga said Steph Curry held Lebron to 1-19 shooting in the finals.. 😂😂😂😂😂😂😂😂😂😂This nigga Steph Curry is just naturally good at everything bruh 😂Curry fans discrediting Magic on this app just to push agendas for Steph is so weirdSacramento Kings fans get louder for Neemias Queta 3s than Warriors fans do for Steph Curry 3s \\n\\nSend tweet. Delete app. No guts, no glorySteph Curry set to star in Space Jam 2 alongside Gregg Popovich and Kanye West.Who is the face of the NBA right now? \\n\\nI say it’s Steph Curry.Lil Wayne the Steph curry of rapSteph curry is that nigga rsRed Auerbach taught the first Celtics to play as a team, that\\'s the only way they could beat Wilt the Stilt Chamberlain.... same deal in 2022, only Steph Curry got in their way.Justin Timberlake, nick Jonas, steph curry in golf gear 🥵🥵🥵steph curry has almost hit russell wilson levels of corny with this shitI am the steph curry of dartsSince Steph Curry became an All-Star in 2013, most championships among active NBA players\\n1)Steph, Klay, and Dray-4 Championships\\n2)Kevon Looney-3 Championships\\n3)Patrick McCaw-3 Chips\\n4)Kawhi, KD, Lebron-2 Chips\\nElite companySabrina really the Steph Curry of WNBA 👌🏾👌🏾👌🏾👌🏾 just not fair!!Could be a question of \"What if?\" for Steph Curry. A 12-point opening nine is ten points better than he has achieved any of the three days this weekend. #ACCGolfI wanna golf with Steph CurryMy Top 10 NBA players of all time. \\n\\n1-Michael Jordan\\n2-LeBron James\\n3- Kareem Abdul-Jabbar\\n4-Larry Bird\\n5-Bill Russel\\n6-Magic Johnson \\n7-Shaquille O’Neil \\n8-Wilt Chamberlain \\n9- Kobe Bryant \\n10-Steph CurryHot take\\nDamian Lillard is better at deep 3s then Steph curry.steph curry on his way to assassinate me rn, he know imma takeover the league with shooting 😭😭Keep me a steph clip call me jefe currySteph Curry is the Warriors 3rd Q adjustment. He involves teammates for the first half, then takes over in the 3rd.  If he played selfish he could score 40 a night easyThe battle for top Curry family member will also be worth tracking. Steph and his father Dell are tied at 33, however keep in mind Dell is one hole behind his son in the groupings today. #ACCGolfi love steph currysteph curry fine as shitSteph curry the best 1 and 2 of all timeThis nigga really said steph curry is better than AI, my God😭2 approaches to winning all star mvp:\\n\\n- steph curry: chuck 3s and hope you catch fire\\n- giannis: get as many easy 2s as you can before ppl start playing defense \\n\\n😂😂Steph Curry gonna have 6+ rings by the time he done. And I’m gonna retweet this when it happensSteph Curry wins the 2020 NBA Dunk Contest sponsored by the MLS after dunking over Werner Herzog and a Kia Elantra.Which one of you Grizzly fans are responsible for throwing a grizzlies golf ball at Steph Curry while he was walking on the golf course?\\n\\n#DubNationShaq shooting the ball saying he\\'s \" the black Steph curry\" is hilariousIf I was four inches taller, I\\'d be the same height as Steph Curry. If Steph was four inches taller, he\\'d still be better than Michael Jordan.Steph Curry\\nDramon Green\\nKlay Thompson\\nAndrew Wiggins\\nJordan Poole\\nDi Vincenzo\\n\\nWow! The Golden State Warriors is scarry.Steph Curry is to the Warriors what MJ is to the BullsI keep hearing Britney Griner being compared to some of the best basketball players ever \" if Lebron James or Steph Curry were arrested in Russia like Britney Griner...\"  My question to you is:  regardless of sex, where does Griner rank among best basketball players everWatching Nick Kyrgios is like watching a Men’s 4.0 player in Steph Curry’s body.Imma just come out and say it. I really don’t like Steph Currytennis players can’t play through noise in the crowd, meanwhile steph curry shoots 90 percent from the free throw line while people shout shit about his momma to him.Michael Jordan and Steph Curry got the best mixtapes of all time.Just found out my dad\\'s friend\\'s friend is Steph Curry\\'s physiotherapist, W or L?\\n\\nHe also may be able to get us courtside seats for a game and arrange something with Steph👊Steph Curry is having such an amazing yearMagic Johnson or Steph Curry for best PG of all time? Magic got my vote.Watching a documentary about Steph Curry’s championship run and I’m crying?Steph curry wit the Shot BOI ! \\n360 wit the Wrist BOI ! \\nReally w the shits ! 🏝Topic for today:\\nIs Steph Curry a Hall of Famer? #NBA #WarriorsThe greatest thing Steph Curry was ever part of was the 2k16 cover.Steph Curry is nowhere near Kobe Bean BryantSteph Curry would have been better than Tiger if he chose golf as his main sport no 🧢Warriors planning to finally explain Light Years Ahead (almost a decade late), pretend to be surprised on trades that take place from other teams that they\\'ve known on for months, and then break up their core and trade Steph Curry to play two guard on the Pistons.  Too many lies.i’m not buying 2k if steph curry ain’t on the cover i’m purchasingOkay… Steph Curry can play Golf!.. 🙅🏾\\u200d♂️🔥🔥Steph curry fans need to get KDs dick out the back of they throats same thing goes for KDs fans too can y’all niggas pls just shut the hell upLook man, Steph Curry is my favorite player in the NBA! I appreciate all the love he gets! But ya\\'ll need to stop disrespecting the great @MagicJohnson in the process!Is Steph Curry the next Oscar-nominated actor Jonah Hill?Wearing my steph curry shoes with my steph curry utility pants and my steph curry shirtThe day 2k make Steph curry 3pt eating a 85 when they losing and a 99 when they winning is the day they figured it outSteph Curry is the Shaquille O’Neal of the 3 point line and Vice versa Shaquille O’Neal is the Stephen Curry inside the 3 point LineEvery time Steph Curry plays golf does he have someone bring a hoop and ball and more importantly what happens to the hoop after??steph curry is real life kuroko is kuroko could shoot but their passing abilities are basically the sameSteph curry is the best point guard to touch a ball and he might be the 3rd best player touch a ball…This dude Erram shoot like he steph curry againts us on the bubble now he a brick 🧱🧱Wow \\nSonny hill on his radio show\\nComparing steph curry with some of the greats\\nElgin baylor\\nOscar\\nJerry west \\nMoses\\nAkeem\\nI thomas\\nDurant\\nGiannis\\nKawhi\\nIncrediblehela that Steph Curry dance lit af🔥🤣How hurt is Steph Curry gets more passes Sunday.is steph curry top 3 oatSimon is pretty inconsistent he\\'s either Steph Curry from 3 or Russell Westbrook from 3Can we talk about how atrocious Under Armour has been? You have Steph Curry, one of the greatest basketball players of all time who just won his first finals MVP and his most meaningful ring in a really nice looking shoe that a lot of people hyped up and wanted after he won,It\\'s crazy how I\\'m not supposed to say that Steph Curry is going to be better than Magic Johnson, but everyone on this app can spew that Kyrie Irving is better than Steph. InsanityThe Brooklyn Nets. Should I trust Steph Curry is back in.she wanna shoot a XXX no steph currySteph curry makes klay look like a good playerbro random but Steph curry is so attractiveseeing Justin Timberlake and steph curry golf has literally been the highlight of my nightI can’t comprehend the amount of people that don’t understand 3pt percentage % vs 3pt taken in a game when it comes to Steph Curry 🤦🏻\\u200d♀️Coming at you live, the adulterous, Japanese Boxer ran after Steph Curry! Oh boy!when she says \"Steph Curry&gt;&gt;&gt;\"😐Steph curry just got me paid on 2k 😭STEPH CURRY FROM 97 YARDS! BANG BANG. OH WHAT A SHOT FROM CURRY.\\n#ecommerceI love me some steph curry bruh😂Kyrie Irving and Kevin Durant on a super team they created got swept by the Celtics.  Steph Curry killed the Celtics and we got dumbass still thinking those two are anywhere near Steph as players. FOH.. y’all don’t know ball fuckn casualsNiggas really mad cause Steph Curry pulled off a dagger celebration on every team he faced in route to a fucking CHAMPIONSHIP\\n\\nLMAOOOOOOOAlso think I might have a hater bone in my body. I have had enough of Steph Curry and for no other reason than he’s really good and knows he’s really good and is just the appropriate level of cocky but still humble. I hate it.If James Wiseman pops off this season 👀 the league better be scared , Steph curry with a legit P&amp;R lob threat is deadlySteph Curry been living his best life lately. #NBASTEPH CURRY CHANGE THE GAME IN THE WORST WAY!!!....HE REALLY TOOK OUT THE ATHLETICISM IN THE GAME, NOW IF YOU CAN SHOOT, YOU\\'RE ON THE TEAM!!!My top 50 current players in the NBA \\n\\n1. Giannis Antetokounmpo \\n2. Steph Curry\\n3. LeBron James\\n4. Kevin Durant\\n5. Nikola Jokic\\n6. Joel Embiid\\n7. Luka Doncic\\n8. Kawhi Leonard\\n9. Jayson Tatum\\n10. Jimmy Butler\\n11. Damian Lillard\\n12. Ja Morant\\n13. Paul George\\n14. Karl-Anthony TownsI seen Steph Curry cooking at a golf course ⛳️Steph Curry shooting 🤝 Aaron Rodgers throwingMy question for Steph Curry is the sock shot from the bed to the hamper is that 2 or 3 points?Steph Curry &amp; Fortnite have done irreversible damage to the youthRussell Westbrook &amp; Steph Curry grew up with their fathers in they lives meanwhile Kd &amp; LeBron did not…which explains why they are the most bitcch made superstars in NBA history 🤷\\u200d♂️Whats it with nba fans on twitter? Why do you have a bunch of 13 yr old white kids with steph curry dp\\'s larping as black men calling everyone N***as? Weird shit\\n\\n#nba #NBASummerLeague #NBASummermy dad and steph curry set my standards HIGH for menHonestly, Rajon Rondo was a way better leader on the court than that frontrunning dork Steph Curry. Also was a way better leader on court. And a better passer. And actually a better PLAYER.Trae Young every season (except rookie) \\n\\n29.6 PPG 9.3 APG \\n25.3 PPG 9.4 APG \\n28.7 PPG 9.7 APG \\n\\nSteve Nash and Jason Kidd never averaged 20 PPG in their entire careers. \\n\\nSteph Curry and Kyrie Irving have never averaged 9 APG in their entire careersThey\\'re showing a Steph Curry playoffs defensive highlights during this game breakNFS How Can You Hate Steph Curry ?Steph Curry is not better than Kobe Bryant.Nigga Swamp had a Steph curry behind the back pass in the 4th quarter of a finals game.After nawl’s awful 0/6 shooting from 3 today, my top 5 pg at the moment. \\n1. Duh kung\\n2. Dk\\n3.Christian\\n4. Steph Curry\\n5. Nawl Lian \\n#basketball #theYSteph Curry a all around athlete atpWild day out at the @ACChampionship - great lineup of interviews with Steph Curry, Travis Kelce, Miles Teller, Nick Jonas, Larry Fitzgerald, Mardy Fish and Mark Mulder. Good day on 18 with @r3snick … excited for you all to watch our wrap show Sunday nightFuck Steph curry he’s the reason why ROE V WADE is a thingEd Sheeran &amp; Steph Curry got something in commonToday while trying to get a selfie with Steph curry, I was pushed and shoved by this dude, and he hit me straight in the gut.\\nWhen I told him to get his hands off me, he looked at me and said fuck u bitch. \\nI have no words.LOL BEING MORE ATHLETIC DOES NOT MAKE U A BETTER PLAYER THAN SOMEBODY IF THATS YO LOGIC RUSS IS BETTER THAN STEPH CURRYSteph Curry wins the 2020 NBA Dunk Contest sponsored by Swarthmore College after dunking over Mark Cuban and a Kia Elantra.I’m the steph curry of throwing dog poop bags into curbside garbage cans from the sidewalkIf I didn’t know steph curry was 6’2 I would think he was 5’7Nobody is beating this lineup in todays game \\n\\n  Steph Curry \\n  Devin Booker \\n  LeBron James \\n  Kevin Durant \\n  Giannis Antetokounmposome caribbean humor for the TL:\\n\\nif i had a goat, i’d name it Steph Curry30s like steph curryCan Steph Curry be bad at something so I know he’s human?Y\\'all really still having Curry and Dursnt comparisons? imagine the media if Curry is the one being swept and KD won the chip y\\'all wouldn\\'t stay quiet but its Steph so y\\'all dont care lolI can’t believe I saw Nike Jonas, Steph Curry, and Miles Teller all in person todayWhich Team is Better?\\n\\nTeam 2:\\nSteph Curry\\nMiddleton \\nCam Johnson \\nBen Simmons \\nJarrett Allen\\n\\nTeam 11: \\nChris Paul\\nKyrie\\nWiggins \\nLeBron\\nAytonWhat needs to be done for Steph Curry to be respected by the media?I’ve never seen tiger woods hit a golf shot like curry hit.  Steph is differentSteph Curry almost hit me with a golf ball today. The media won’t tell you that thoughI’m convinced they use a magnet for steph curry ..no way he hitting in golf too smh that’s crazyPeople don\\'t talk enough about how Steph Curry changed his body over the year. He gained a lot of muscle; build cardio up like and MMA fighter.Aaron Rodgers, Steph Curry, and Justin Timberlake where a pairing today. I would have KILLED to be their 4tb for 18 holes.Can\\'t believe I didn\\'t know Steph Curry was Haitian lolmake all the ops scurry yea yea  shoot like steph curry yea yeaWho has a higher percentage? Steph Curry from 3, or @tacobell getting an order right?Alr now, Can we talk abt that Poole is actually better than Steph Curry at shooting threes?!So Tyler Ulis gets injured in a car crash (broken wrists, in a wheelchair) then steph curry wins FMVP?? Hmmnah steph curry goated that golf vid is wild ngl 👌🏾Stephen A. Smith: My dear friend and life coach Steph Curry has been disrespected once again by being snubbed from the Best R&amp;B Artist Grammy Nominees! The audacity!Can someone please NAME a player that the national media loves MORE than Steph Curry, other than LeBron James, and why they think so?Why do ppl at the Y think they are steph curry, nobody plays good ball no more it’s crazyMJ my favorite ever but there’s no time in his career he was a better 3 point shooter than Steph curry lmaoImagine if Russia had kidnapped Steph Curry or LeBron James. No way they wouldn’t be home yet.\\n\\nMen pro-basketball players are paid accordingly and don’t need to supplement their income playing abroad, though so. Sigh.Steph Curry is A 🐐K shine was in his duffle 🎒.  Shine was looking like Steph Curry out there. #NOME12 he told Sikh \"GOODNIGHT\"Lmaooo steph curry is ridiculous, he’s hittin three pointer on the golf course nowSteph curry \\nGary Peyton \\nJayson Tatum\\nKG\\nBrook Lopez \\n\\nDame Lillard\\nAndrew Wiggins \\nBam AdebayoShine clear Steph Curry 30!Breaking News! The Nets have traded Kevin Durant and Kyrie Irving for LeBron James, Anthony Davis, Russell Westbrook, Steph Curry, Klay Thompson, Andrew Wiggins, and Draymond Green with 30 draft picks. Nets also receive $1 trillion in cash considerations!Steph Curry is the Allie Quigley of the NBA! I’d love to see a 3pt contest between them both! 😂 🤣Greatest shooter ever —Steph Curry— just hit a shot from 97 yards. Goood Lord Man.Bravo and Van Rankin will be the death of the @TimbersFC.... thank got we have Niez(🐐)a who shoots like Steph Curry!! #PTFC #RCTIDSteph Curry the coldest nîgga to hoop at his size. He scoring on anybodyAyeeeee Steph Curry &gt; Tiger WoodsWho’s the greater PG?\\n\\nSteph Curry or Magic Johnson?Steph curry and lebron James are the two best players of our generation … im here to argue with any and everyone I got time TODAY!!Caleb “Steph Curry” Houstanwhen I get that Steph Curry dance right 🤞🏾Watching Steph Curry play in a golf tournament:\\n\\nGrandma: “This not his thing so I like him in this. He’s so cocky.”\\n\\nGrandma’s not the biggest fan of him in basketball 😂Steph Curry has to be the worst scratch golfer in existenceSteph Curry just differentI watched the Warriors summer league game last night. Jonathan Kuminga being the subject. Warriors were using him like a point guard, which is not what he was doing last season. As a result they were lots of turnovers and missed 3 pointers. Steph Curry he is not. 🤣steph curry playing golf and still shooting 3s.. is there anything this man can’t dojust saw steph curry, justin timberlake, nick jonas, and so many others all in one day \\U0001f979I see why Steph curry gotta 50 mil mansion out here.. Malibu beautifulJustin Timberlake with a certain Steph Curry\\n#AmericanCenturyChampionship 🏌️\"Everything you want in a superstar on and off the court is Steph Curry.\" #AmericanCentruyChampionshipI wonder how much the similar phonics of “Steve Kerr” and “Steph Curry” have contributed to closer collaboration between them via neural homophily. They’re the same name if you’re drunk.No one has more fun sober than Steph Curry on a golf courseWhere were you when Isaiah Joe passed Steph Curry as the best shooter in the leagueSteph Curry is my favorite player of all-time. 💛💙💛💙💛 #DubNationWhy y’all hate steph curry 😭😭😭What does Steph curry gotta do to gain respect from the media ?and steph curry just playing golf all cause he has a penis and he didn’t go russia and commit a crimeSteph curry hitting that shot impressive afI lied. I don’t like sex. Put your clothes back on, I’m going to explain how great Steph Curry was in the 2022 Finals.(Run The Entire Offense Through Off Ball Plays For Caleb Houstan Like He’s Steph Curry)Steph Curry really like that!Steph Curry is the greatest 3 point shooter of all time. I could bring statistics into it, but the fact is, Steph Curry changed the game. If anyone was near his level, the game would’ve been changed years ago. It wasn’t, so Steph is the best 3 pt shooter of all time.Steph Curry ruined 2kCall me Steph Curry cuz I always bang 3sSteph Curry is Drafted by the Trail Blazers.  \\nHow many rings does he win?\\n\\n#DubNation\\n#RipCityT.J. Oshie leads American Century celebrity golf event; Steph Curry T-10th and Charles Barkley T-71stIf mfs in the Jordan era saw Steph curry consistently shooting half court shots their heads would’ve explodedI want a Steph Curry. Instead I keep getting a Broke Murray.Steph Curry with the shot like yikes!!! ⛳️Armoni Brooks turning into Steph Curry ring otwWe need Allie Quigley vs Steph Curry 3-Point Competition MAKE IT HAPPEN @NBA @WNBAJust randomly turned to golf on TV and Steph Curry at the put wtf 😂 thought I was in another dimensionIs that Armoni Brooks or Steph CurryOkay Armani Brooks is now Steph CurrySteph Curry almost made another one from 90 yards out lolI still don’t understand why Steph curry hasn’t had a cover on any 2k game.\"Whatever he does, he does with Style ...Steph Curry!\"\\n\\nCommentator At the American Century Championship Golf when Steph wiggled in a putt.The fact that Steph Curry really got the shot, even in ⛳️OH on TV: “What is H-O-R-S-E like in the Curry family?”\\n\\nThey play H-O-R-S-E on horseback.  That’s the only way it’s a challenge for Del, Seth, and Steph.There was a time the warriors were considering trading Steph Curry.  Around this time Brandon Jennings was running the bucks.My godson had a basketball game today. All the kids want to do is shoot threes.  That’s definitely the Steph Curry effect.  Mad air balls and bricks during the whole game 🤣🤣🤣Parents changed the channel and there\\'s a celebrity/athlete golf tournament going on? And it\\'s a wild mix of people\\nSteph Curry?\\nNick Jonas?\\nJustin Timberlake?\\nLarry the Cable Guy?\\nThe Miz?\\nCharles Barkely?\\nTony Romo?\\nAaron Rodgers?\\nPatrick Mahommes?\\nD. Ware?\\nRG3?\\nJoe Theismann?For those Interested in NBA personalities competing in the American Century Championship Golf Tournament in Tahoe\\n\\nT16- Dell Curry\\nT25- Steph Curry\\n52- Kyle Lowry\\nT60- Charles Barkley\\nT64- Seth Curry\\nT66- Alex Caruso\\nT66- Andre Iguodala\\nT71- Vince CarterSteph Curry is an athleteNah chill K Flex forever look like a muderous steph curry now bc the stream 🤣Steph Curry just made a 97 yard golf ⛳️ shot in a championship golf tournament 😭😭😭 Michael Jordan couldn’t even do that.I dead thought Seth curry in this golf match(?) was steph curry for a sec thereSteph Curry is literally good at everything! That’s favor forreal!Not this nigga Steph Curry Playing golf the same way he shoot 3’s 😭😭😭 dawg hit a 100yrd Hole-In-one 😩Hey @peacockTV watching the American Century right now. Can you please show more than the same 3 people repeatedly? No offense to Mahomes, Justin timberlake and Steph curry, however there’s more people out there.Sometimes I shoot from way beyond Steph Curry range 🤷🏽\\u200d♂️Lol man like Steph Curry even surprising me in the golf scene 😂Warriors updated depth chart: \\n\\nG: Steph Curry\\nG: Klay Thompson\\nF: Andrew Wiggins\\nG: Draymond Green\\nC: Kevon Looney\\n\\nG: Jordan Poole\\nG: Donte DiVincenzo\\nG/F: Moses Moody\\nF: Jonathan Kuminga\\nC: James Wiseman\\n\\nThoughts?Just in case y’all forgot two years ago the warriors placed dead last in the league. “The worst team in the NBA”. They said Steph Curry will never win another ring with the Golden State Warriors. Tell me again who won the championship 3 weeks ago. WHO WON FINALS MVP.Ppl forget him and Reggie Miller we’re killing the 3 pt game off the dribble before Steph curry. Steph curry took it to another levelThe fact that my sports hero, Steph Curry, is golfing less than an hour away from me right now, but I have to do adult stuff this weekend, is driving me crazy 😅If ray allen played in todays time, and had Steph curry as a teammate, he’d be up there with Steph curry as the best shooter everSteph Curry the Most Valuable Player of all time💯 Correct me if I’m wrong😭🤷🏽\\u200d♂️ #NBASteph Curry’s golf swing ain’t half bad 🤣 #AmericanCenturyChampionshipif u put prime ray allen next to steph curry they would’ve never had to get durantMVP D. Rose &gt; any version of Steph CurrySteph Curry never being on a 2K cover is absolutely tragic.“30 like I’m Steph Curry” gotta be the most used line in rap todayI’m still salty that the Knicks didn’t draft Steph CurryIdk how you can hate Steph curryimagine if ray allen got to move around with steph curry taking all that pressure off him bro he might fr have a 45% 3 ballif you are a rockets fan how can like steph curry, how can you like the warriors period? smhIm sure he is a great guy but I REALLY do not like Steph Curry in any wayRemember when they asked steph curry to make 1 halfcourt shot for charity and he couldnt lmfaoSteph Curry = 4 rings in 13 seasons\\nLebron James = 4 rings in 19 seasonsSteph Curry is a top 2 player in today’s league. Giannis the only one that might have the edge just b/c of how dominant he isMy NBA Starting 5 of All-Time:\\nSteph Curry\\nKobe Bryant\\nMichael Jordan\\nLebron James\\nShaquille O’Neal\\n\\n* 2-3-4 can rotate as they wish.\\n*1-5 are fixed.I will fuck the shit outta steph curry mama58min Our captain Handre Pollard is slotting three-pointers like he\\'s Steph Curry with another penalty conversion 👌🔥\\n\\n🇿🇦RSA 12-3 WAL🏴\\U000e0067\\U000e0062\\U000e0077\\U000e006c\\U000e0073\\U000e007f\\n\\n#RSAvWAL #WeGoAgainSADeadass saw a dude today, walking around in a black Jordan Chicago Bulls jersey...\\n\\nWith Houston Rockets shorts...\\n\\nAnd Steph Curry Under Armour sneaks.Steph Curry was born a shooter that is crazy from the hardwood to the golf course.This mf Steph Curry is good at golf too??Now that everybody busy proving how just how much of a second option Klay is since he’s in no way ever been better than Ray Allen. \\n\\nSteph Curry leading this Warriors dynasty is truly amazing.Bro Steph Curry good at golf too????Top 5 NBA players I watched with my own eyes \\n\\n#1 01 MVP Allen Iverson \\n#2 06/07 Kobe Bryant \\n#3 22 Steph Curry \\n#4 16 Lebron James \\n#5 3 peat Shaq (00-02)steph curry’s last year punya nba all stars cam #giler sikit 😵\\u200d💫😵\\u200d💫😵\\u200d💫COMPARING BG TO BRON AND STEPH CURRY IS DUMB AS SHIT…BRON NOR STEPH WOULD EVER BE IN THIS SITUATION.Steph Curry should join the Liv TourSteph curry fye in golf too smh. Lawd he just turnt up like he was on the court man🤣🤣🤣🤣🤣🤦🏽\\u200d♂️I\\'m like the steph curry of swagSteph Curry will sign a deal with the Pelicans, league sources tell ESPN.In terms of Steph Curry next year, we believe he\\'s dealt to the Detroit Pistons where he shifts to more of a shooting guard role.  Playing off the ball next to Jaden Ivey and Killian Hayes.  Warriors will finally clarify Light Years Ahead in a phony way before they make the move.You know reverse racism is real when they put steph curry in the goat talk over ray rayDid anyone see Steph Curry shoot a hole-in-one?! Amazing athletic and definitely touched by the love gods!\\n#dubsSteph Curry with The Shot 🙈💪⛹️I honestly don\\'t see how you could\\'ve watched Game 1 and said Primo shouldn\\'t run point. He\\'s a perfect modern day PG. If your reasoning is because he is a \"score first\" player, then would you also say Steph Curry, Ja Morant, Luka Doncic, and Dame should change positions?As someone who actually watches womens basketball… I’m all for them getting paid more but we really should stop comparing them their pay scales to the likes of Steph Curry and Lebron. It’s not realistic. Even with more concentrated ads and then time.Why are we afraid to say Ben Simmons is better than Steph Curry?\\nFinishing: Ben\\nShooting: Steph (But it’s close)\\nPlaymaking: Ben\\nDefense: Ben\\nAthleticism: Ben\\nChoking: Steph\\n0-6 in the finals: Steph\\n\\nBen is clearly better in my book📚Wow they found a drug lab in Steph Curry crib.. this year just keeps getting stranger.Critical Role is to #DnD as Steph Curry is to BasketballNot a basketball fan but Steph Curry wow 😂😂Wait is Steph curry a better golfer than most golfers…what in the world was that shotI just seen the highlights of Steph Curry making like a 90 foot hole in one in a celebrity golf tournament. He’s got to be the luckiest person to ever play any sport 😂Curry really put his game on the back burner for KD for him to feel free to hoop as he wanted. If anything the past should tell that slapping talent together does not ever guarantee success without willing participants. Kevin is lucky to play with a player like Steph.Not asking Stewart to be Steph Curry from 3 , but if he could give anything like he’s been in summer league so far that will help the #Pistons in a big way with the floor spacingThe way I shoot my shot call me Steph CurryOk im gonna come out and say it, Steph Curry &gt; Michael Jordan &gt; Lebron James &gt; Kobe Bryant. Before you disagree with me take a cold showerSteph curry out here killing it in golf ⛳️. My boy doing basketball celebrations on the golf course hahaha 🤣put Ray Allen next to Steph curry he’d shoot 47% from the 3 on his career, Ray still the second best shooter ever don’t get it twistedPete Hegseth is just another lying Marxist.  Steph Curry is just another ugly racist.  Some people never grow up.  Hell is the ultimate torture chamber.  Beautiful.  Thank you, God.Shareef going to be okay he may have to play in the G League to develop his game and everyone expecting him to be like Shaq ask yourselves was Steph Curry as good when he first came into the league as he is today? No but he had to develop his game &amp; Shareef in time will do sameDude said Klay would just be Michael Redd if he didn’t have Steph Curry 💀man i really like steph curry but his fans make it so hard to like curryI hope, there will be Space Jam 3 w. Steph Curry one day.Steph curry is overratedThe Resemblance between the Curry family is so crazy. \\n\\nPops, Seth and Steph. \\nGod is good.My little brother such a Steph Curry hater it’s hilarious 😂Everytime I see a Steph curry highlight I get cuz I know it\\'s gon be sun super human shit 😭😭Most entertaining players I have seen\\n\\n1) Lebron 2009\\n2) Lebron 2013\\n3) James Harden 2018\\n4) 2015 Steph curry\\n5) 2018 playoff lebronnigga mention playing for nudes and she turn into steph curry 😂If Dubs don’t sign a vet this would be my 15 man roster:\\n\\nCore (6):\\nSteph Klay Wigs Dray Loon Poole \\n\\nBench (5):\\nDonte Moody Kuminga Wiseman Quinn\\n\\n3rd options (4)- tricky\\nPBJ ? Santos ? Rollins ? McClung ? Lester ?Steph Curry, Kevin Durant and LeBron James will all likely retire having never had the highest paid annual salary.what’s some of the most overused rap bars/lines…ima start with the Steph curry and 30 one 😭I love how Iguodala, Kerr, Draymond and Klay openly talk about wanting to protect Curry\\'s legacy. \\n\\nThey understand what Steph\\'s dedication and loyalty has impacted their careers and they would pay it forward at all costs.Anybody want to buy a copy of a Steph Curry basketball card?\\n\\nHow about trading services for one? I’ll charge the same price as the ACTUAL rare basketball card, so you provide a service and give me back the change in cash. This house needs repairs.\\n\\nThe attic sneezes.Atlanta Braves Twitter has taken over as the worst and least funny community this app has ever seen. Officially took over Steph Curry goat Twitter. It\\'s actually embarrassingKlay Thompson has as good if not a better overall career as Steph Curry. Steph will pass him but until now Kaly is the better player in their four championship playoff runsDell Curry was a great shooter but the man was a role player. Steph Curry with the greatest shooter in history\"Steph Curry aint no top 10 stop it\"\\nBruh wtf???\\n\\nHe is literally the most efficient scoring basketball player EVER IN THE HISTORY OF THE SPORT and has the same amount of rings as Lebron in a shorter time period.\\n\\nWhat special brand of customized crack are you smoking?why Steph curry dumb nice at golfJordan the goat but he never had to deal with a KD or Steph Curry caliber player in his era. Especially 2 of them joining together.Steph curryView pinned tweet for 2k23 giveaway (AND ONLY 500-IN-THE-WORLD Steph Curry and Ja Morant Limited 2k edition)They said Steph Curry ruined the next generation of basketball whole time it was Ball is LifeThe Warriors-NO THEY GOT STEPH CURRY #InvasionOfTheBodySnatchers #TCMPartyI’ve used that steph curry video like 100x’s now shit is hilariousSteph without KD: 2 rings 💍💍\\nKD without Steph:\\n\\nStephen Curry saved KD’s legacy, not the other way round.Also, when Steph Curry retires, @espn if y\\'all don\\'t title his 30 for 30, \"30 for 30 for 30\" you dropped the ball.and the other group? Steph Curry, Aaron Rogers and Justin Timberlake. Parking myself at 9th hole to watch it allCareer on-court earnings by the end of their *current* contracts #NBA\\nKevin Durant (2025/26) $498M\\nSteph Curry (2025/26) $470M\\nDamian Lillard (2026/27) $449M\\nLebron James (2022/23) $431M\\n\\n💰😳I dont watch golf but tuned in to #AccGolf to see the GOAT @PatMcAfeeShow but NBC coverage was more like The Curry Invitational lol. I like Steph too, but was hoping to see more of the wildboyz!!*keels steals for a fast break*       Doris : so Steph Curry can play defense….Pls talk about the current game and players in said game  #NBASummerLeague #NewYorkForeverIs Steph Curry top 10 all time?No doubt Steph Curry could have gone far in golf. Dude is a gifted athlete. On a higher state of physical self awareness. Mind boggling abilities.moody carrying like he’s 2021 steph curry 😭😭Dorris Burke &amp; Moody &gt; Steph Curry &amp; Mike Breen\\nI’ve seen enough.If Steph Curry wants to prove he\\'s a top 10 player of all time, he would be out there right now with his teammates playing summer league, bringing home the summer league championship and mvp honors. Steph is missing this from his resume.Moses Moody getting them Steph Curry whistles 😅Under armour should be ashamed of themselves with how bad Steph curry\\'s shoes are.  It\\'s been a decade of absolute midDame Lillard will be making $63 million in the last year of his new deal in 2026-2027. \\n\\nI mean he’s a great player but he ain’t Steph Curry.\\n\\nThat’s a lot of money to pay an aging pg (by then) who probably still isn’t contending for chips if he stays in Portland.why have I always thought Steph Curry was 5’8”? 😂😂😂😂😂😂😂 I’m crying this man is 6’2”I want to play Steph Curry in golf for my mortgage. Straight up. Actually, I’ll give him a shot. He got no chance.Gotta respect Payton Pritchard for defending goddamn Steph Curry in the NBA and not balkingBurna Boy is like Steph Curry, they’re just too good it’s mind boggling. Versatility is simply the best ability 🐐🐐 and oh btw Love Damini is already sounding like a classic. No skips stilltop 5 shooters \\n1. Ray Allen \\n2. Larry Bird \\n3. Steph Curry \\n4. Klay \\n5, Reggie MillerWho is better Steph curry or lebron James 🔥🔥💯♥️🤔Steph Curry should be ranked 8 overall in 2kAny curry fans watching him, @sdotcurry / their Dad on the #Golf  course... Steph made a hole n 1 on the 13th...\\nPretty Awesome 👍👍Is Steph curry official top 3?Big fan of Steph Curry the golfer. Hate Steph Curry the basketball player though.Everytime they show Chet holmgran they only  show the same Steph curry highlightMost entertaining players I’ve seen in my life\\n\\n1. 2009 LeBron \\n2. 2016 Steph curry\\n3. 2017 Russell Westbrook\\n4. 1965 Bill Russell\\n5. 2009 Kobe\\n6. 2018 LeBron\\n7. 2021 Steph Curry\\n8. 2015 Kyrie Irving\\n9. 2010 Shaq\\n10. 2022 Ja MorantSteph curry still hit the shot of the day. Wow. 🏌️\\u200d♂️I could swallow steph curry whole hes so fineAaron Rodgers is grouped with Justin Timberlake and Steph Curry for Round 2 of the American Century Championship on Saturday.The same ppl that will tell you Kyrie better than Steph will silently watch Kyrie fold in the 1st rd but be on here bashing Curry for losing 1 game in the Finals.Russell Westbrook has totaled more points, rebounds and assists. Has more double doubles and triple doubles. Has more All NBA selections &amp; All Star appearances. \\n\\nAnd still isnt a better player than Steph CurrySteph Curry set to star in Space Jam 2 alongside Kanye West and Gregg Popovich.Kai Jones developing like he Steph Curry when he a bigger than Shaq come onsteph curry must have above 20/20 visionWild that AJ Green is already better than Steph CurryHot Take: Steph Curry and Chris Paul are overrated and aren\\'t top 20 all-timeOften hurt Zion Williamson signed for 231 million.\\nOften hurt Steph Curry signed for 11 million a year.\\nWhich path was successful?\\n#PelicansSteph curry episode of Sesame Street. Lennox is loving itWhy is NBATV tryna convince us Steph Curry is a good defenderAJ Green is the new Steph CurryAJ “STEPH CURRY” GREENDerek Carr and Steph Curry signed my brothers football today \\U0001fae1\\U0001fae1If Seth Curry shot like Steph Curry it wouldn’t be to much trade talk in Brooklyn Just talking basketball if you know you know💙🏀AJ Green is the white steph curryI’m trying to gauge if I’ve emotionally recovered from Steph Curry being one steal short of me winning $25k in a parlay bet last month.Ain’t no way Steph Curry been tested for PEDs cause shit he do is not normalI MET STEPH CURRYWatching Summer League on ESPN, and thinking to myself.. How did Seth Greenberg pass on Steph Curry at VT? LolI just now at 6pm Friday July 8, in the year of our lord 2022, realized that Seth Curry and Steph Curry are in fact two completely different people and it’s not that some people are misspelling or mispronouncing their names.Does anyone want a steph curry series 3 moment with a 🏆 badge?waiting for the news to come out that steph curry has been using magnets all these yearsSo wait a minute, Steph Curry gonna be terrorising the golfing world when he retires!!!? \\n\\nAw Heck nah😭😭😭(talking to a 5 year old boy about basketball)\\nme: i love steph curry!\\nkid: oh i know him! he’s my favorite teammate!\\nme:\\nkid: wait i mean hes my favorite football player!\\nme: \\nme: same ! 😀Ay ay ay stfu I\\'m in my Steph curry TimeDo you think Steph Curry will win another MVP in his career?Andrew Wiggins was a Steph Curry away from getting finals MVPGreatest 5 year stretches in NBA history \\n\\n1 - Wilt (1961-1965)\\n2 - MJ (1989-1993)\\n3 - LeBron (2009-2013)\\n4 - Elgin Baylor (1959-1963)\\n5 - Hakeem (1992-1996)\\n6 - Kareem (1970-1974)\\n7 - Kobe (2005-2010)\\n8 - Steph Curry (2015-2019)\\n9 - Shaq (1998-2002)\\n10 - Kawhi (2017-2021)It’s honestly sad that Kobe fans are so delusional because I really do love him as a player but I have to spend half my time on this app seeing blatant propaganda. \\nNow they’re trying to tell me he has better handles than Steph currysteph curry literally splashes EVERYTHINGOf course steph curry hit a 97 yard eagle at a golf tournament seems pretty par for the course considering \\n\\npun not really intended but like I have to right? seems criminal not to 😅😂Kai Jones think he Steph curryIf Steph Curry not in your top 10 all time your delusionalMy Top 10 favorite players in the NBA right now:\\n1) Jimmy Butler\\n2) Chris Paul III\\n3) Giannis Antetokounmpo\\n4) Damian Lillard\\n5) Joel Embiid\\n6) Luka Doncic\\n7) Steph Curry\\n8) DeMar DeRozan\\n9) Paul George\\n10) Kawhi Leonard\\nHonorable Mention: Ja Morant &amp; Kevin DurantAlso I’m taking prime Ray Allen over prime Klay by the slightest margin just because Ray had some steph curry in his game at one point but they are the most comparable players for each other in different eras #klaythompson #rayallenMy top 10 NBA PG\\'s right now\\n\\n1. Luka Doncic\\n2. Steph Curry\\n3. Damian Lillard\\n4. Trae Young\\n5. Ja Morant\\n6. Kyrie Irving\\n7. Shai Gilgeous-Alexander \\n8. Dejounte Murray\\n9. Chris Paul\\n10. Jrue HolidayView my pinned tweet for a super huge 2k giveaway\\nStandard, MJ edition, champs ed, legends (lebron and MJ) ed, Steph curry ed, Ja morant ed.\\nGOOD LUCK AND FOLLOW🍀\\n🥳View my pinned tweet for a super huge 2k giveaway\\nStandard, MJ edition, champs ed, legends (lebron and MJ) ed, Steph curry ed, Ja morant ed.\\nGOOD LUCK AND FOLLOW🍀🚨HUGE 2k23 GIVEAWAY🚨\\n\\nGiving away 6 copies of Nba2k23. (Standard, Legends , MJ, Championships, Steph Curry and Ja Morant Edition.)\\n\\nTo enter 🚨\\n🎯Follow \\n@corikanus\\n and \\n@Aj8UX2R4lLpDwhr\\n \\n🎯Like and retweet\\n🎯Tag three or more friends\\n\\nEnds 13th of July\\nGood luck🍀steph curry is good at thingsWit my son tonight we bouta watch Steph curry highlights 🔥I don’t want to hear shit about inexperience Steph Curry sent niggas to the hospital in his first NBA finalsThe #AmericanCenturyChampionship is actually very fun to watch.  Steph Curry a beastPaying 6’3” and under guards not named Steph Curry 200Ms+ is beyond comprehension for me.Knock off versions of Steph Curry getting paid 61 mil a year is…. WILD 🤯… that’s just my opinion tho 😆I need to complain to the manager of telecasting the American century on peacock. Why no @PatMcAfeeShow on 17 would have loved to see him shot gun a beer. Why u gotta show steph curry.  Come on man.Ochai Agbaji is better than Steph Curry.\\n\\n#CavsLillard is the tied for third as the longest tenured NBA player to remain with the team that he was drafted by, joining Steph Curry, Klay Thompson and Draymond Green. His career on court earnings is now $436 million. That ranks only behind Kevin Durant, Curry and Beal.I wish I could dunk like Steph CurryReports say Steph Curry worked out with Adam Silver over the summer and added 20 lbs. of muscle this offseason.Steph Curry should be ranked 73 overall in 2kbeen Steph Curry with the shot\\nbeen cookin\\' with the sauce, chef, curry with the pot.Steph curry won 4 with the team he was drafted with 🤷🏾\\u200d♂️ ya fav player had to switch teams 3/4 x just to win his…“Men dunking makes mens basketball better to watch than women’s but I LOVE watching Steph Curry who also never dunks” \\n\\nY’all have to stop with this argument. Just say you’re mad that Quincy &amp; Monica went double or nothing in that backyard game. That might be a better one to useMy god I just made 1.5 in 15 mins I am Steph curry don’t @ meI love how in a celeb tourney with Patrick Mahomes, Steph Curry, Aaron Rodgers and Justin Timberlake, Vince Carter, and Jerry Rice, everyone is just gushing over Alfonso Ribeiro. King shit right there.Steph Curry really is out here living the dream, being good at golfI was the first steph curryMy steph curry x giannis x kawhi myplayer build is 1 episode of money heist in english and couldnt figure out why they was talkin like thatI’m so bad at perceiving height that Steph Curry gives me short guy vibes.Lol steph curry just don’t miss. Puts it in from the fairway at the ACCSTEPH CURRY GOLF GOAT ⛳️Todd Boehly will soon chase Steph Curry to sign for Chelsea. 😂😂Steph Curry did to superstars what they act like Jordan did. Steph stopped KD , Russ, Harden , Dame Dolla, And Cp3 from winning titles. KD has 2 becuz he chose to play with him. 4 top 75 players and Steph owns em💀Das crazyhaha\\nsteph Curry and chas Barkley love these guys and the golf banter\\nreally love the smack talk\\nits already over, sorry for Barkley\\nCurry won the match before they will even tee off \\nwell played sir (cap tip)\\n✌️Mr. Plinkett is the Steph Curry of film critiquing.Draymond Green carries himself like HE\\'S Steph Curry..... Smh\\n\\nAin\\'t nobody coming to see you Draymond!!!! You are Otis of this fuckin group...Steph Curry could average like 43 points a gameI legitimately would pay \\n\\n200$ for Allen iverson \\n175$ for Lebron\\n175$ for Steph Curry\\n150$ for Ja Morant\\n125$ for “skip to my lou” Rafer Alston\\n125$ for Steve Nash \\n100$ for Jason Williams\\nAnd 75$ for Kyrie Irving \\n\\nTo cross my ass up and break my anklesKnowing that y’all penalize Steph Curry for keeping his team up so they can win the game is insaneI use to be a young drug dealer, now I’m a young girl stealer…hit the 3 like Steph Curry, told shorty leave the pussy furryThere’s a couple on Dr. Phil right now, that looks like the B-rated Steph &amp; Ayesha Curry.the wizards traded steph curryGot 30’s on 30’s we callin em dirty steph curryDaily reminder that….\\n\\nSteph Curry is BETTER than Kevin Durant.‼️\\n\\nDon’t @ meLike Steph Curry I don’t miss💯⛹🏽\\u200d♀️😂Steph Curry w/ the shotsWhich team wins, first to 11?\\n\\nTeam Red: Luka Doncic, LeBron James, Bam Adebayo\\n\\nTeam Blue: Steph Curry, Demar DeRozan, Rudy GobertAre there still people out there who think Kevin Durant is better than Steph Curry?Steph curry with the shotI was just sexually harassed/misused/abused/raped, knifened/contused in my stomach, left kidney/Lead harmed, stomach ripped, chlorophyll/radioactive combo taken to my vagina/other parts of my body, breast nipples fondled by President Biden, IG Horowitz, Steph Curry…Jazz have agreed to a contract buyout with Steph Curry.Star Players I would NOT trade for Kevin Durant:\\n- Anthony Davis\\n- Anthony Edwards\\n- Devin Booker\\n- Giannis Antetokoumpo\\n- Ja Morant\\n- Jayson Tatum\\n- Jimmy Butler\\n- Joel Embiid\\n- LeBron James\\n- LaMelo Ball\\n- Luka Doncic\\n- Nikola Jokic\\n- Paul George\\n- Steph Curry\\n- Trae YoungSteph curry was probably the most clutch player in the 2022 playoffsSteph Curry is him.how has steph curry never been a 2k coverSteph Curry was in Thor 4?? I just saw his name in the credits lmaosteph curry is so rude lmaoooothat steph curry dancing video that just came out will greatly impact the trajectory of my life outcomeIsn’t it funny that every off season Lebron picks up someone that just played with Steph Curry on his team?🤣🤣🤣One of our reports asked Steph Curry what he thought of Devin Booker being the 2k cover athlete instead of him, Curry responded with “just look what happened when he played Luka in game 7…..Ik I’m not one to not talk about game 7 performances……but that mfer is trash.”Steph curry’s finals performance is one of the best i seen on my life…no lie…Steph Curry has made Ray Allen irrelevantPeter Warrick had a Steph curry effect on how football was playedF that Chet Holmgren/Steph Curry taking 3’s stuff…U get right next to the basket lolSteph Curry has an open marriage 🐐I blame Steph Curry for all this….Klay better than Ray?!!!!! 🤣🤣 gtfoh❗️Let’s not forget Steph Curry was the only player who had a 40 point game throughout the finals👍🏾.I\\'ve been watching the NBA for 76 years and Steph Curry is the best player I\\'ve ever seenKD got two finals MVP trophies because Steph Curry was being double teamed all series 💯🥱🤷🏾\\u200d♂️Caleb Houstan is a 6”8 Steph CurrySteph Curry and Josh Richardson should team up tbhIt\\'s impossible to get Steph Curry basketball shoes. The game is so fucked upLast night I had a dream that I beat up some dude &amp; as I was running out of his apartment, I ended up on a secret training floor for the NBA. I became friends with Steph Curry and his teacup yorkie. He let me drive his super fancy sports car that only went in reverse.ESPN reporting: Steph Curry has been ruled out with labrum injury, league sources tell ESPN.What’s impressive about Steph Curry is that he finds ways to get better every year. @nvcwbbAnother reminder that Steph curry beat the Celtics 3 games in a row to win his first finals MVP.#pistons observations: \\nDuren is going to make a lot of teams regret passing on him. \\nIvey playmaking was most impressive and his shot looked good. “Clutch”\\nStew shot like steph curry\\nNegatives - \\nSaben is not going to be on this team. \\nKillian did not dominate, he’s in jeopardy.not them being named steph and seth curry lmaoNeed y’all to go watch 2013 Steph currySteph Curry\\'s real name is Wardell. HmmmSteph Curry violated that Boston team in the finals 🥴 can’t believe I bet with themSteph Curry is still the best player in the world btw.Steph Curry opens up with Oscar-nominated actor Jonah Hill in an unexpected interview hosted by Monsanto.Little bit of drink in me and I think I’m Steph Currywatta steph curry shotSteph curry is the best PG of all time and easily top 10 for Players all time.Steph curry and MJ in thor? That’s crazytalentwise I have Kyrie over Curry but basketball as a sport , Steph Curry is ahead of KyrieIt blows my mind that Steph Curry is older than DeAndre Jordan...My steph curry x giannis is gonna keep foldin whenever he goes up against a real african until he drops this greek shitListening to GO! My favorite sports team’s basketball primer and even tho i dont want basketball i just Knew steph curry was gonna be brought up as soon as they were talking abt 3 pointers bc of just how much @oneferrero puts him on tl &lt;3Don’t bet on Steph Curry.yea we on that early grind fuck you @Dame_Lillard you stole that shit from steph currySteph curry already a better actor then bron #LoveAndThunderFeel like steph curry still gone make it if I fade awaySteph Curry deserves an OscarDidn\\'t even notice steph curry in thor lmaoY’all remember when Steph Curry admitted that Harden was better than him??😭😭 crazy timesBeef Stew has turned into Steph Curry.I wish I could dunk like Steph CurryThe Nba hating on Steph curry Fuck y\\'all dumbass niggas @NBAif you find a player in college floating around scoring at ease, he could be the next steph curry  type 1 or Trae Young type 2. lollmy top 10 favorite basketball players of all time (from watching them in real time)\\n\\nKobe Bryant\\nLeBron James\\nSteph Curry\\nKyrie Irving\\nGiannis Antetokoumnpo\\nAllen Iverson\\nPau Gasol\\nCarmelo Anthony\\nTracy McGrady\\nDeron WilliamsEverything I do gets enhanced if the hoes are watching. I will put big money on me beating Steph Curry in a 3 point shootout if you have bad bitches thereI just learned that Steph Curry lives 22 mins away from me… it’s just wild to meSteph CURRY was in love and Thunder lmfaooooIt blows me wen ppl say Warriors won cause of KD like Steph Curry wasnt and still is on a historic run !!!I’m as confident as Steph Curry when he shoots a 3.My 10 favorite NBA players to watch play when I cover the NBA…\\n\\nBrandon Ingram \\nZach LaVine \\nLuka Dončić \\nJosh Giddey \\nShai Gilgeous-Alexander \\nDarius Garland\\nKhris Middleton \\nKevin Durant\\nJrue Holiday\\nSteph Curry\\n\\nHM: Jaden Ivey (soon) \\n\\n#NBATwitterDoris is a good commentator as long as Steph Curry isn\\'t on the court.Reports say Steph Curry worked out with Oscar-nominated actor Jonah Hill over the summer and added 20 lbs. of muscle this offseason.Everybody be on Lebron James but this is a Steph Curry &amp; Kevin Durant appreciation post! #Ball 🏀Paolo really has a Steph Curry shot with a LeBron James frame and Magic Johnson playmaking ability alreadySteph curry should’ve been the cover he earned tssteph curry is great but steph curry is not Lebron level great. relaxWTF IN 2k23 MJ EDITION THE RATINGS ARE SO RIGGED 🤣🤣\\nSTEPH CURRY IS RATED **!! WTFFFIf I see one more tweet about steph. Curry’s 9 year old daughter imma kmsJust got called steph curry from a stranger for the 10204730 time in my lifebro was Steph Curry in Thor? 😹Extra extra, a hairless, Mexican Terrier barked at Steph Curry! Yikes!If Steph Curry did what Miles Bridges did, yall think he would still get a contract in the NBA?POINT GUARDS ONLY \\n*ACTIVE PLAYERS*\\n\\nOVERRATED - Trae Young\\nOVER HATED - Russell Westbrook\\nBEST PLAYER - Luka Doncic\\nMOST DECORATED - Steph Curry\\nDOG BUT GETS NO RESPECT - Fred VanVleet\\nNOT TO MESS WITH - Ja MorantSteph Curry should be ranked 2 overall in 2kRoland Martin.\\nTavis Smailey.\\nAl Sharpton.\\nDenzel Washington.\\nChris Brown..\\nKobe Bryant.\\nKevin Garnett.\\nChris Rock.\\nLenny Kravitz\\nPharrell Williams.\\nMalik Yoba.\\nSteph Curry. (12 angry Men!)Steph Curry been better than KD. He didn\\'t to win a 4th ring to prove that either.Isaiah Joe \\U0001f7f0 Steph Curry. #NBASummerLeagueCurrently at dinner quizzing my sons on Steph Curry and the the warriors. There doing good except they thought Steph is white 🤣 #stephcurry @warriors @StephenCurry30How the hell has Stephen Curry, 4x NBA champion, never gotten on the cover of NBA 2k? They chose Devin Booker over him this year. No disrespect to D-Book, but he’s no Steph. I’m probably not gonna buy 2k23 just because of the cover athlete. #2K23Steph Curry should’ve been a Nike athleteTop 10 Players in recent memory\\n\\n1. LeBron James ‘12-13\\n2. Kawhi Leonard ‘18-19\\n3. Steph Curry ‘15-16\\n4. Giannis Antentokounmpo ‘20-21\\n5. Dirk Nowitzki ‘11-12\\n6. Kobe Bryant ‘10-11\\n7. Kevin Durant ‘15-16\\n8. Russell Westbrook ‘16-17\\n9. James Harden ‘17-18\\n10. Nikola Jokic ‘21-22The #Nets trying to offer Kevin Durant to the #Warriors for Klay Thompson, Steph Curry, and 5 first round picks. LOLSteph curry gets paid millions to hit 3’s but here I am doing it for free2. Michael Jordan and Steph Curry\\n\\nThis is a tie. Both players impacted the game in such phenomenal ways. Shooting wouldn’t be the same, the culture of the game wouldn’t be the same, and especially the way people look at the game won’t be the same. 💯💯Number 1 coming soon…Nah @FrakThePerson slid as Steph Curry 🔥😂imagine if brittney griner wasn’t a woman in the WBNA\\n\\nif that mf was steph curry or some shit, they’d have him back in a weekJayson Tatum and Steph Curry are the well-educated MVP; winning without talking down on their rivals. D Green is as just an average player who is over-proud of himself and talking shit a lot about his rivals. LmaoWatching these summer league games, all these niggas want to do is shoot dumb ass threes. You are not Steph Curry. Run a play. Set a screen.Steph Curry was in the new Thor movie???Top nba players of all time as of now in my opinion \\n1. MJ\\n2. Lebron\\n3.Kareem\\n4.Magic\\n5.Kobe\\n6.SHAQ\\n7.Bird\\n8. Tim Duncan \\n9.Steph curry\\n10. Wilt chamberlain \\n\\n@NBA \\n#nbaso steph curry cooked luka but you give it to the nigga luka destroyed 😭😭🤦🏾\\u200d♂️My steph curry x giannis x kawhi myplayer build is de mon looking back at my moms houseWhoever sent me the Steph Curry book off my wishlist, thank you!!! It’s a great message of determination and never giving up. My class will love it. #clearthelistTop 10 NBA Guards Next Season \\n1.Steph Curry\\n2.Luka Doncic \\n3.Devin Booker\\n4.Ja Morant \\n5.Trae Young\\n6.Chris Paul\\n7.Kyrie Irving\\n8.Darius Garland \\n9.Lamelo Ball \\n10.Jamal MurraySteph Curry more like Shit CurrySteph curry did not get a player option or no trade clause but got a 15% trade kicker.\\nBeal got a no trade clause, player option and 15% trade kicker lmaoSteph Curry and Giannis have the best personalities for superstars.God, be honest, are you gay for Steph Curry?The fact draymond think he has a voice because of him winning rings with STEPH CURRY is beyond meIf you hoop at all, and you get tired off some pretty average movement. Just imagine the conditioning a Steph curry is in man that’s wild. Buddy is moving non stop off the ball, and iso’n.steph curry will be the cover of nba 2k23 mark my wordsKevin Durant, Steph Curry and Ja Morant will always be Goats for being YB stansif steph curry stays healthy next season and get the:\\nseason mvp\\n5th ring\\nfinals mvp\\n\\nlet\\'s erased his title \"greatest shooter\", coz he\\'ll become \"top 5 greatest player of all time\"I wish I could cross up Steph CurryIt seems that people who want Steph Curry in the top 3 greatest players ever think the NBA has only been around for about 20 years.Who is in the marketing department over at 2k ? Lol putting Devin booker on the cover over Steph curry was a wild decisionSteph Curry is gonna embarrass Chet Holmgren the first time they play each other lolLeBrons comp was just better Melo, Durant, pierce, Bryant, Wade, Tracy, steph curry, kawaii. Paul george, \\n\\nAll of these folks are on lebrons level athletically. LeBron is more athletic than most of them but not 90% more. Maybe 30% more at times.List of current NBA Superstars who have the talent to win a Title and the loyalty to stay with the same franchise their entire career:\\n\\n1. Steph Curry.NO STEPH CURRY for a few more months, life is boringAlways on point with it. Steph Curry: sharp shooter @SeanBoogThe steph curry dickeaters will be silenced this season.KD has one 1 playoff series in his career with out Steph Curry and Russell WestbrookSteph broke the all time 3 point record this year, won a championship and got his first finals MVP and Devin Booker is the cover athlete? Steph Curry should’ve had this cover.2K 30 will have Steph curry legacy coverI be hating 2K cover edits with a passion. Why Steph Curry dribbling on a beach? Why Jokic got makeup on? Why Mj and Lebron sitting at a campfire?remember when steph curry was a carolina panthers fanThey want killers in exchange. Wtf is Steph Curry mentioning her at a press conference gonna achieve?Damn Steph Curry beat CP in Family Feud too 🤣I wonder what\\'s Steph Curry record without Draymond and Klay.....The grouping of Aaron Rodgers, Pat McAfee, and AJ Hawk is sandwiched between Marcus Allen/Jerry Rice/Emmitt Smith and Seth Dell Steph Curry. So much sporting greatness teeing off 18 minutes apart. \\n\\nLove the American Century ChOmpionship*fires up trade machine as @BrooklynNets GM*\\n\\n“We’re looking for Steph Curry, a ‘prime-Shaq’-esque player, the ghostly specter of Wilt Chamberlain, and 14 first round picks”Nobody acknowledges the Lakers championship in 2020 i don’t have to acknowledge Steph fucking curry as a top 10 player fohThis \"Steph Curry Shot Selection Mentality\" is killing grassroots and high school basketball! You can\\'t make a contested lay-up, but you want to jack up a shot from half-court. But coaches allow it!!! #FloridaBasketballBulletinImagine losing on basketball?? Pls my goat is Steph Curry😮\\u200d💨😮\\u200d💨Steph Curry game 4 of the finals was really special man..had a dream lastnight I met Steph Curry and we got to play ball, hangout and talk and he was the coolest down to earth dude alive. 🤣 it’s crazy how real dreams seem sometimesOk you guys I\\'m Kobe but I\\'m shooting like Steph Curry, no one after or before me, I go to Mars while in a hurry, and I\\'m furious and furry .. #realdeal talkSteph Curry is aging like fine wine ☺️One of my classmates tried to jump shot his garbage into the trash can and now everybody is calling him steph curryJa Morants athleticism will have me watching the nba again, steph curry ruined ball with his light skin ass.\\n\\nBig 12. 💪Why is Booker the cover over Stephen curry it kind of makes me sick to see that he gets it after what Steph has done 🤦\\u200d♂️🤮 \\nKeep in mind Steph has never had a cover to @NBA2KLeagueSteph Curry is the Greatest Offensive player of all time, because when he’s on the floor he offers generational individual scoring and also generational team scoring and I think that should be valued when talking about him compared to jaugernauts like mj bron kobe kd magic KareemAdidas sambas giving me steph curry ankle30??? That’s Steph curry number dawg 🤣🤣🤣🤣If the roles were reversed and Marcus hit Steph in the nuts in the finals, people would be trying to burn his house down, but bc it was Curry, it’s “oh well Smart flopped” lmfaoSteph the chef that man was cooking in the nba finals #nightnight #finalsmvp #goat #curry #warriors #30The way espn reports on the warriors is so trash\\n\\nThey downplay all of their championships and talk about steph curry like he is a role player\\n\\nWarriors dont need or want KDWhy did they put devin booker on the cover athlete if steph curry is betterIf Lebron James or Steph Curry were locked up in Russia we would have already invaded.Any GOAT list with Magic over Steph Curry is bologna &amp; cheeseDon\\'t know what should surprise me about the toxic misogyny of men commenting on Brittney Griner\\'s incarceration in Russia but dudes, your Mom wants you to come upstairs and take out the trash. If it was Steph Curry, they\\'d want an immediate drone strike on Moscow.Steph Curry this season:\\n\\n25,6,5 averages\\n\\nBroke the all time 3pt record \\n\\nMost 3s in an all star game \\n\\nAll star game mvp \\n\\nChampionship\\n\\nFinals MVP\\n\\nDevin Booker this season: \\n\\n27,5,5 averages \\n\\nAll star\\n\\nSecond round exit\\n\\nWhich one got the 2k cover?What about Steph Curry on NBA 2K23 coverFuck steph curry and the golden state warriorsdo you think steph curry listens to yeattop 5 nba players of all time (no order)\\n\\nMJ\\nLeBron\\nKobe\\nKareem\\nMagic\\n\\nHonorable Mention: Steph Curry\\n\\nthoughts?I’m honestly really interested to see how Steph is gonna evolve his game as he gets older. \\nWhat is 38 year old Curry gonna look like?I be right about all these prospects u said Ja was gon be better than Zion I said Steph curry gon be the best of his draft was right about both 😂steph curry and jr smith loving the game of golf is cool because this game is crazy addictive #golflifeJust ordered more transfers of  MJ n Kobe together a Steph Curry and a MJ soloThis just in, the stubborn, Canadian Bulldog chewed Steph Curry! Lovely!I been going harder than Steph Curry lately …I don’t understand why is it so hard to say Stephen Curry is the best player in the world rn?? \\n\\nAfter this season Steph legitimately needs to be put in the Goat discussion with the likes of MJ, Lebron and Kobe. No debate at allHating on steph curry is an enormous red flag as a basketball fanSteph Curry saved my soul from Tuchel’s haraamball.Pelicans have agreed to a contract buyout with Steph Curry.top 10 nba players all time\\n\\n1. lebron\\n2. mj\\n3. kareem\\n4. magic\\n5. bill russell\\n6. wilt\\n7. duncan\\n8. bird\\n9. shaq\\n10. kobe\\n\\ntop 10 nba players id draft to build a team around\\n\\n1. lebron\\n2. MJ\\n3. kareem\\n4. magic \\n5. KD\\n6. steph curry\\n7. kobe\\n8. duncan\\n9. wilt\\n10. birdSteph Curry just averaged 31 points in  the finals 43 points game 4 against the number 1 defensive team and the Defensive player of the year and no one is talking about it …Looking to buy NFL and NBA cards. Autos, RPA’s, Redemptions. Looking for Rookie QB’s, 2020 and 2021 NFL rookies class, Veterans Autos, Josh Allen, Arod, Mahomes, Russ Wilson, Tom Brady. NBA Rookies from 2020 and 2021. Ja Morant, Antman, Steph Curry. I’ll look at anything!Steph curry really top 10 ever. All those weak doubts people had …he shut them up this past postseason. TeflonSteph curry shot 0-9 in arguably a make or break game5 for his legacy— Nontheless, he is still the greatest shooter of all time &amp; a winner.My top 5 #NBA players!!\\nBe advised tho this list consist of players I #remember #watching not the athletes playing in an era I wasn’t able to witness! Now here we goooo!!! \\n\\n#1 Michael Jordan \\n#2 Kobe Bryant \\n#3 steph curry \\n#4 Lebron James \\n#5 Kevin DurantBreaking: Celtics have agreed to a contract buyout with Steph Curry, per sources.My Favorite Athletes in Each League (One From Favorite Team, One Not)\\n\\nNFL:\\nChristian McCaffery (CAR)\\nKyler Murray (ARI)\\n\\nNBA: \\nLamelo Ball (CHA)\\nSteph Curry (GS)\\n\\nCFB: \\nJosh Downs (UNC)\\nCaleb Williams (USC)\\n\\nCBB: \\nCaleb Love (UNC)\\nIsaiah Wong (Miami)i’m assisting my niggas like steph curry in the paint fytbBreaking: Steph Curry will sign a two-year deal with the Clippers, league sources tell ESPN.If 35 year old Bron, or if it was Steph Curry on the Block niggas would be coming up off some Scottie Barnes. KD a dramatic nigga.New episode is out. Discussed about Kevin Durant and potential locations. Revisited my Top 10 NBA players of all time. And where Steph Curry fits. Link in the bio and available where you get your podcasts. #drainingjimmiespodcast #kevindurant #trades #stephcurry #top10if I played basketball and in a game against Steph Curry he started shaking his head at me, I would simply sit for the rest of that game.i feel like that song steph curry by soulja boywho is steph curry  ?\\n\\nin math: my solution ➗\\n\\nin history: my king 👑\\n\\nin art: my canvas 🎨\\n\\nin science: my oxygen 💨\\n\\nin geography: my world 🌎I know Lebron at home thinking what does he have to do with #BrittneyGriner  and her own personal messed up decisions 🤦🏾\\u200d♀️. Y’all could’ve said Steph Curry, KD, anyone for that matter but y’all just called him out when he wasn’t hiding vape or whatever to smokeHow the fuck is Steph Curry not on the 2k23 cover? @2K @NBA2KComing at you live, the talking, Swedish Boxer sat on Steph Curry! Disgusting!They say Steph Curry ranked 99 on 2k23 🏀lrt…tomorrow i shall edit steph curry to bodys by cshbored so here’s my top 10 peaks\\n\\n1. 1991 Michael Jordan\\n2. 2013 LeBron James\\n3. 2000 Shaquille O’Neal\\n4. 1994 Hakeem Olajuwon\\n5. 1977 Kareem Abdul-Jabbar\\n6. 2003 Tim Duncan\\n7. 1967 Wilt Chamberlain\\n8. 2016 Steph Curry\\n9. 1986 Larry Bird\\n10. 2008 Kobe Bryant\\nHM: 1987 Magic JohnsonSo is it time to point out Steph Curry has the same amount of rings that Lebron does. And also  the fact Steph has beat Lebron 3 out of 4 in the finals??Top 7 NBA Players right now: 1) Giannis 2) Durant 3) Embiid 4) Joker 5) Steph Curry 6) Jaylen Brown 7) Jimmy ButlerGuess Steph Curry’s rating for 2k23There\\'s something we need to talk about. The 1st round of the playoffs Steph Curry and Nikola Jokic didn\\'t even look like they were close to the same tier. Let\\'s keep it 💯steph hit the meanest curry sway after his 4th ring, Shii smooth af can’t lie😂😂Where did all the hot NBA players go? Steph Curry married ass really carrying those stats tooThis is sad😤They treat him Like he\\'s Steph Curry 🤦🏽\\u200d♀️ with 4 championships 🏆 🏆 🏆 🏆 He has to have something on the franchise and are blackmailing them🤷🏽\\u200d♀️It just doesn\\'t make sense🤔 @WashWizards He\\'s not even the most popular wizard🙄Rui/Kuz/Deni are 💪🏽 ..... I\\'m just saying🎯I’m starting to realize that Steph Curry is the GOAT 🐐I don’t gamble but I would place a bet that the warriors don’t win another chip in this Steph Curry eraTop 5 Players in the NBA imo\\n\\n1. Steph Curry\\n2. Giannis\\n3. Nikola Jokic \\n4. Kevin Durant\\n5. LeBron JamesStephen A. Smith: Steph Curry is my dear friend and salsa partner, but he will never be as great of a player as Dirk Nowitzki.Steph Curry could potentially be the most exciting small forwardSkip Bayless really gets PAID PAID to be on tv and scream that Kevin Durant saved Steph Curry and the Warriors, who already had a ring before he got there. Life really isn’t fairSteph Curry would be the #50 on the all-time 3-pointer made list if you just used 4 of his last 6 seasons.Where does Steph Curry rank all time?I’ve watched every yankee game this year. A lot of full 9 innings. That’s all to say: BARRY BONDS NEEDS TO BE IN THE HALL OF FAME. Every at bat I felt like it was practice 3’s for Steph Curry. Ma fuckas just walked his ass in the first inning.Exactly 529 days ago THIS HOUR THIS MINUTE THIS SECOND Steph Curry breathed. 😂😂Twitter use to be so fun. It was everyone’s diary, so much drama &amp; intrigue. Now I just get on to see Steph Curry highlights &amp; get triggered by any Skip Bayless take.I’m wearing my Jonas Brothers hat with my Steph Curry Shirt on Friday!!!!I found a Jonas Brothers hat in my closet!!!!\\n\\nI’m so wearing it with my Warriors shirt 😂\\n\\nRepresenting Steph curry and Nick jonas lolKenneth out here pulling from deep like Steph Curry loli’m playing 2k10 and it’s crazy looking at the rosters. like all the old nice niggas on here with they OG teams. and niggas like steph curry in they rookie season/contract and shit. steph is a 69 overall in this joint lmao\"i\\'ve never hit 10 3\\'s ina row in a game. that\\'s hard to do. it just happened to be today and i\\'m happy i was able to do it in front of my family\"-Klay ThompsonThe Warriors really bout to have a healthier Klay Thompson and James Wiseman to their mixRay Allen in Milwaukee and Seattle was significantly better than Klay Thompson ever was. Y\\'all trippin if you think otherwise.Ray Allen or Klay Thompson?\\n\\nKlay is a baller but prime Ray Allen? Not a fucking chance I\\'m taking KlayI watched wembamyana’s highlight tape. He’s like a 7’4 klay thompson 3 and D guy. Maybe he’ll prove me wrong one day.Feels like Klay Thompson hate is very very forced because my man literally does nothing but vibe on and off the courtI’ll give @JayKnicky credit where it’s due. QG may be a Walmart Klay Thompson.Klay Thompson just bought a Quentin Grimes jersey for Hanukkahteam with Gavin young, stewie, jahlil okafor, Anthony davis, and klay thompsoni be wanting to go in on Klay Thompson but he’s father was a Laker so off of that alone I chill on kuzKlay Thompson is becoming one of the most overrated players of all time.ESPN reporting: Sixers are claiming Klay Thompson off waivers, per sources.Should Klay Thompson come off the bench next season?Stephen A. Smith: Kevin Durant is my dear friend and scuba diving partner, but he will never be as great of a player as Klay Thompson.You gotta be fucking kidding me. Trayce Thompson has championship blood in his veins you\\'re supposed to give him those balls. Fucking idiot umps still stuck in the 00s. They have Klay Thompson\\'s brother in baseball and they still fumble the bag 😂😂😂🖐️You think Trayce Thompson can hit a 3? Cuz I know for sure Klay can’t hit a 95mph+ fastball or sliderRay Allen &gt; Klay ThompsonKeegan Murray looks like the second coming of Klay Thompson.On my life if Klay Thompson is still wearing that GOD DAMN head band next season imma lose itI love klay Thompson but you niggas smokin dick if you think he’s better than Ray fuckin AllenIn a different timeline, Klay Thompson may have developed the off the dribble skills Ray Allen had. It’s not the one we’re in though—number 34 clearsMy dad said ray allen is a better 3 point shooter then klay thompson and stephen curry \\n\\nDafuq“Need my playing time tryna make a couple highlights”. I know Klay Thompson relates to this 🏀.How did Klay Thompson go from one of the most underrated players in the NBA to one of the most overrated in like a week? There is a real argument that Klay was the 4th most important player on the team for his first 3 rings. FOH with the rings argumentPeople really out here saying Klay Thompson better than Ray Allen😭😭🤦🏾\\u200d♂️Throw some respect on Klay Thompson name. Dude is still an active player with 4 chips and more to prove. Once his career is over then you can compareComparing Klay Thompson and Ray Allen is comparing apples and oranges. Klay is a hall-of-fame #2 with 4 rings. Ray Allen led a competitive team but also won rings with help later in his career.By the way- Klay Thompson is a very good player, but is not in the same realm as Ray Allen. Y’all remembering the later years. Ray Allen was a superstar.Y’all ready for a hot take ? Klay Thompson is a better shooter than ray Allen.Jabari smith’s biggest weakness so far is clearly beating his man off the dribble. \\n\\nWithout it, he can be a 6’10 Klay Thompson (still an insane player) \\n\\nWith it he could be a lesser KD with DPOY potentialI need rockets fans to stop calling Jabari Smith Klay Thompson. Stop calling him kD tooKlay Thompson is the best love the Kaiser commercialsKLAY THOMPSON COMMERCIAL!!! BARK BARK BARK BARK!I’ll never understand this Klay Thompson stuff Im being told he’s better than Ray Allen and Joe Johnson  what do y’all be watching? LolLORD JESUS Please, bless, help&amp;allow, Stephen Curry#30 to WIN:\\n1.NBAMVP’22-’23\\n2.NBAFMVP’22-’23\\n3.NBAScoring titile’22-’23\\n-please help JESUS-ppg.29-30NBA SEASONS’22-’25\\n\\nLORD JESUS Please Restore, Klay A.Thompson#11 to WIN:\\n1.ALL-STAR Game MVP’22-’23\\n2.WCFMVP’22-’23\\n1.DPOY’22-’?LORD JESUS Please, bless, help&amp;allow, Stephen Curry#30 to WIN:\\n1.NBAMVP’22-’23\\n2.NBAFMVP’22-’23\\n3.NBAScoring titile’22-’23\\n-please help JESUS-ppg.29-30NBA SEASONS’22-’25\\n\\nLORD JESUS Please Restore, Klay A.Thompson#11 to WIN:\\n1.ALL-STAR Game MVP’22-’23\\n2.WCFMVP’22-’23\\n1.DPOY’22-’?LORD JESUS Please, bless, help&amp;allow, Stephen Curry#30 to WIN:\\n1.NBAMVP’22-’23\\n2.NBAFMVP’22-’23\\n3.NBAScoring titile’22-’23\\n-please help JESUS-ppg.29-30NBA SEASONS’22-’25\\n\\nLORD JESUS Please Restore, Klay A.Thompson#11 to WIN:\\n1.ALL-STAR Game MVP’22-’23\\n2.WCFMVP’22-’23\\n1.DPOY’22-’?I keep seeing this on my timeline so thought I’d just give my opinion… Ray Allen &gt; Klay Thompson and it really isn’t that closeI’ve seen all the debates of who was better between Ray Allen and Klay Thompson. I think they actually have super similar styles of play. I think if we are taking prime vs prime, Klay is the better defender, which is why I’m going to give the edge to Klay. But it is close.LORD JESUS Please Restore, Klay A.Thompson#11 to WIN:\\n1.ALL-STAR Game MVP’22-’23\\n2.WCFMVP’22-’23\\n1.DPOY’22-’23\\n-please help JESUS,ppg.25-26,NBA ’22-’25NBA SEASONSThe Klay Thompson disrespect has been crazy, this app so cookedKlay Thompson Could Put The Ball On The Floor ?Klay Thompson is the best two way guard in the league. \\n\\nLets stop the nonsense.Klay Thompson opens up with Oscar-nominated actor Jonah Hill in an unexpected interview hosted by the MLS.Ray Allen vs Klay Thompson is crazy, if u think Klay better u must be talking about Miami Heat washed up Ray LOOOOLRay Allen &gt; Klay Thompson\\n\\nCasuals and children think otherwiseSaying Klay Thompson better than Ray Allen at his peak is crazy but to say Klay better than prime James Harden is drug addict behavior.Ray Allen and Klay Thompson confirmed for the He Got Game sequel.No way yall have klay thompson over ray allen all time 🤕Warriors fans dickriding every single of their players. \\nLegendary Ray Allen getting compared to Klay Thompson is already a joke.This might be the nicest thing I’ve ever said about him, but the internet got y’all out here talking crazy.\\n\\nRay Allen is absolutely better than Klay Thompson.Ray Allen = Klay ThompsonRay Allen has still had a better career than Klay Thompson 💯This ray &gt; Klay Thompson talk is just people hating on another warrior \\U0001fae1If Twitter doesn’t shut the fuck up about Ray Allen and Klay Thompson ima lose it 💀. Allen over Klay all dayKlay Thompson made one all nba defensive 2nd team and warriors fans act like he gonna hold the opposing team best player to 5 points nightly.Prime Ray Allen &gt; Prime Klay ThompsonMet Klay Thompson at the airport lmao what a way to end a tripKlay Thompson came back from two major injuries, one of which could have been catastrophic, and won another championship like nothing had changed. \\nIf I was a miserable, untalented schmuck on here, I\\'d hate him too.Ray Allen &gt; Klay ThompsonThe Pacers plan to sign Klay Thompson, league sources tell ESPN.This Prime Ray Allen vs. Prime Klay Thompson debate is annoying.Imagine Saying Klay Thompson Is Better Than One Of The Top 5 Shooters To Ever Play The Game Make It Make Sense YallHow did Ray Allen vs Klay Thompson become such a popular debate? Anyways I’d go with Ray. He was the best player on a team that he led to the ECF. We’ve never seen what a team with Klay as the best would look like. My guess is it wouldn’t be on that level. People forget about RayIs prime Ray Allen better than prime Klay Thompson b/c we’ve never seen Klay carry a team like we seen Ray carry those Sonic and Buck teams?There’s really a conversation about Klay Thompson being better than prime Ray Allen smh 🤦🏾\\u200d♂️ Klay is 3&amp;D but, at its best of course. Ray Allen was a straight goon! He only became a specialist when he got older and less athletic. Don’t disrespect Ray like that. People are crazyKlay Thompson is NOT better than Ray Allen\\n\\nRay Allen been a star from the start of his Jesus Shuttleworth days in Milwaukee all the way to his Celtics days\\n\\nThat\\'s 16 years playing at a high level out of his 19 years in the league.\\n\\nKlay not close to that.\\n\\nKlay is a HOFer tho.People really out here saying Klay Thompson is better than prime Ray Allen?! That’s bonkers.Timeline is so bored they are hating on Klay Thompson. Go outside. Please.Was NBA Twitter really debating Ray Allen vs Klay Thompson the other day?team with homer, jared west, klay thompson, klay thompson, and larry birdPrime Shaq could have 3peated with Ray Allen but wouldn’t have made it out the second round with Klay ThompsonI really like Klay Thompson but there’s no way in hell he better than Ray Allen.. especially prime Ray Allenthe ray allen vs klay thompson argument got me ready to delete twitter\\n\\ni really hate y’allteam with Dwight Howard, lebron jordan, kyrie irving, Dwight Howard, and klay thompsonRay Allen &amp; Klay Thompson are both great players. Opinions are opinions if people prefer Klay then let it be, if they prefer Ray let it be who cares, just enjoy basketball 😂So only warrior fans think klay Thompson is better all time then ray allen?Who are you taking in their prime Ray Allen or Klay Thompson?team with Damian Bates, kobe bryant, jahlil okafor, klay thompson, and jerry west6 Months Ago today Klay Thompson returned from his injuries. He was given the starting role over Poole to make the fans happy. It was a mistake.Ray Allen&gt; Klay ThompsonCan’t believe basketball Twitter comparing Ray”Jesus Shuttlesworth” Allen to klay Thompsonteam with Mr.crabs, klay thompson, Nick young, Russell westbrook, and Deandre jordanteam with homer, Bill russell, klay thompson, eminem, and jerry westteam with Bill russell, max burton, klay thompson, damian lillard, and joakim noahThe NBA has fined Klay Thompson $20,000 for arguing with referees, league sources tell ESPN.Warriors without Klay Thompson no championship\\n\\nRay Allen Leaving to Miami to chase championship... \\n\\nTo different people , only one of them is loyal to his franchise... \\n\\n@KlayThompson over Ray AllenI like Klay Thompson just fine. Great player. But I don\\'t think anyone actually believes that Klay prime is on the same level as Ray Allen Prime. Sometimes I think people just make stuff up on Twitter to see if it hits Twitter trending.Klay Thompson as a #1 option is funny asfmeus meninos: justin bieber, lewis hamilton, trae young, zach lavine, aaron gordon, klay thompson, kyle kuzma, tyler herro, rudy gobertray allen and klay thompson debates this app is really decliningteam with shrek, klay thompson, jerry west, spongebob, and Vegetateam with jason Voorhes, Mr.crabs, dwyane wade, jahlil okafor, and klay thompsonThey comparing Klay Thompson to WHO??NBA Twitter is way too comfortable slandering Klay Thompson. Seek help, fellas.Curry embarrassed &amp; made all his haters look like the hating idiots they\\'ve always been with his Finals performance which led to him winning FMVP.  \\nNow all their jealousy fueled hate is being directed at Klay Thompson. \\nThis is the life of jealous fools with no life #DubNationOnly @warriors haters keep tweeting about this mythical comparison btwn Klay Thompson &amp; Ray Allen. Don\\'t know why this young generation can\\'t just appreciate great players without having to diminish the accomplishments of another great player. Only jealous fools live to hate #NBAOnly teenage white boys and Hispanics think Klay Thompson better than Ray AllenThe ray allen vs klay thompson debate is dumb bc it’s entirely based off of a hypotheticalThe Pelicans are trading LeBron James to the Thunder for Klay Thompson and two first-round picks, league sources tell ESPN.- I don\\'t like the Klay Thompson disrespect I witnessed today on this app.I’m taking Ray Allen’s prime over Klay Thompson’s and I wouldn’t think twice about it honestly 🤷🏽\\u200d♂️team with Gavin young, blake griffin, scooby doo, klay thompson, and spongebobRay Allen is better than Klay ThompsonTo me RDA is like the ufc version of klay Thompson and I hope he pull it off but man Fiziev look like a fuckin vikinKlay &gt; Ray ….. look at them ray Allen highlights if u think Klay Thompson letting any of that shit go down on his watch you sound crazy he would of locked Jesus Shuttlesworth ass up!!!Prime Ray Allen better than prime Klay Thompson argue with you motherY’all gotta stop with the prime ray and klay Thompson shit. I guess I’m an old head now?Niggas really tryna convince me Prime Klay Thompson is better than Prime Ray AllenStephen A. Smith: Trae Young is my dear friend and frequent mixtape collaborator, but he will never be as great of a player as Klay Thompson.team with  Carmelo Anthony, michael jordan, frank jones, klay thompson, and dakota thompsonall this “ray allen is better than klay thompson” talk cracks me up… so y’all saying curry has 2 rings and a 73-9 season with his best player and leading scorer besides him is worse than ray allen?? just makes curry look even better lolHow did this Ray Allen vs Klay Thompson thing become a real debate??? 😂😂😂ray allen &gt; klay thompson and it isn’t even closeRay Allen &gt;&gt;&gt;&gt; Klay ThompsonWhere did this Klay Thompson and Ray Allen comparison come from?Klay Thompson isnt better than Ray Allen. You Warriors fans needs to stop this delusionJabari Smith is young, he is a catch and shoot player like Klay Thompson. Shot hasn’t been falling. Needs to take it to the rim. Tari Eason is a steal and starter, looks like a plus player on the court. I like TyTy #RocketsI know niggas ain’t get on this blue app saying Klay Thompson better the Walter Allen JrKlay Thompson should be Top 75 the more I think about it the more blasphemous it is that he’s not on there 😤Klay Thompson wins the 2020 NBA Dunk Contest sponsored by Amazon Web Services after dunking over Lil Wayne and a Kia Elantra.Why is Twitter filled with Klay Thompson slander today? The hell is wrong with you people?Klay Thompson hate gotta be the most insensitive random hate i\\'ve ever seey people keep brining steph into a klay thompson vs ray allen debate get off his dickESPN reporting: Lakers have agreed to a contract extension with Klay Thompson, per sources.Klay Thompson is not better than Ray Allen. Stop itWhy is this a debate Ray Allen&gt;Klay ThompsonKlay Thompson is better than……😉3 times in a week I’ve been told I look  Klay ThompsonNBA fans always have an annoying tendency to compare Klay Thompson to players he’s clearly worse than, which just sets him up for slander\\n\\nLast off season it was Reggie Miller, now it’s Ray AllenRay Allen is better than Klay Thompson. \\nRay came in the league being the first option. Klay came in the league being the second option behind Steph and had time to develop his game. Knock it!Aint no way people really out here say Klay Thompson is better then Ray Allen 💀 yall really forgot who Ray was on the Bucks and Sonics 😂Are we sure Klay Thompson is a better 3 and D player than Grant WilliamsI don\\'t seem to understand how ray Allen is better than KLAY THOMPSON..... I\\'m literally not in the same universe with some fans..... are talking about the same klay THOMPSON who score who single handedly destroyed okc with Durant being the B/PLAYER.... yeah.. I\\'m lost..Klay Thompson can’t fw Reggie or Ray Allen,Ray Allen &gt; Klay ThompsonRay Allen is a better player than Klay Thompson.Klay Thompson had the best jumper in the world. Obama also said it.You know what Klay Thompson says when being compared to Ray Allen? Nothing!\\n\\nHe flashes his four NBA World Championship rings which he never had to chase by signing with another team. You people are stupid debating stupid things that don’t matter. At All!!!This Ray Allen and Klay Thompson debate is ridiculous. We have 12 year olds with Bol Bol AVIs saying that Klay could carry a team as a number one option. What are we doing here?People are really on Beyoncé internet arguing that Klay Thompson is better than Ray Allen. Like who raised these people?🤦🏾\\u200d♂️Klay Thompson is nice and all but that prime Ray Allen was different.Bey if ya think Ray Allen better than Klay Thompson you is a assRAY ALLEN OR KLAY THOMPSONLORD JESUS Please Restore, Klay A.Thompson#11 to WIN:\\n1.ALL-STAR Game MVP’22-’23\\n2.WCFMVP’22-’23\\n1.DPOY’22-’23\\n-please help JESUS,ppg.25-26,NBA ’22-’25NBA SEASONSRay Allen was great but he’s not seeing Klay Thompson. Very similar numbers in their prime but Klay was the 2nd option and Klay actually locks up on defenseKlay Thompson continues to be the most overrated player in nba history and his success speaks volumes to how great Steph, Draymond, and Steve Kerr areidk who needs to hear this but prime klay thompson is not better than prime ray allenWhy is my Twitter feed full of people arguing who was better between Ray Allen and Klay Thompson 💀💀They kicked me from nba chat for defending Klay ThompsonWhy is klay Thompson slander at an all time high rn lolteam with klay thompson, justin riley, jared west, chris paul, and blake griffinthe Ray Allen and Klay Thompson comparison trend needs to endNiggas really want me to believe Klay Thompson better than Ray Allen 😭😭😭I know it’s not really people out here thinking Klay Thompson better than Ray Allen 🤔team with jerry lucas, klay thompson, michael jordan, Mr.crabs, and VegetaWhat’s up with all the Klay Thompson disrespect ? 🤔For some reason there seems to be a lot of debate in my timeline for Ray Allen and Klay Thompson. Ray Allen\\'s career IMPACT rating (think of this as adjusted +/- for WPA) was 16.8% and Klay\\'s has been till now 8.8% (if we remove this last season that he came back it\\'s 9.6%) #NBAif Klay Thompson was a No 1 option that team would be lottery team? Then explain to me how Ray Allen led Supersonics got the No 2 pick with him? That pick turned into KD too!Klay Thompson can’t tie Ray Allen’s shoesI cannot stop thinking about how Klay Thompson dropped 37 points in a quarter on 100% efficiency.Why are people always comparing players in the NBA? Ray Allen and Klay Thompson are very different players both great. Stop comparing greatness and enjoy it.Klay Thompson can\\'t dribble and y\\'all talking about he better than prime Ray Allen. Shut up.There was this baller Draymond Green talking long about how his team mate Klay Thompson liked to watch videos of his past perfomances to get motivated before his next game. A privilege office drones can\\'t enjoy.Klay Thompson is closer to Manu Ginobili all time than he is to Ray AllenGive me Klay Thompson over Ray AllenI hope Klay Thompson returns to his non dribbling, catch and shoot sniper self next season and just gets clear poetry in motion buckets.Fuck Ray Allen im still taking Klay ThompsonSame people that trash Draymond Green and Klay Thompson were crying because the Warriors had multiple all-stars and saying it was unfairCole swider hs gonna be Klay Thompson 2.0 if developed correctlyNo bias ochai agbaji appears to be klay thompson michael jordan hybridIf Patty Mills is Batman, Klay Thompson is definitely Robin.any nigga say klay thompson better than ray ray was born after 2008Ray Allen is ten times better then Klay ThompsonThe top 3 SG\\'s of all time:\\n\\nJordan\\nBean\\nWade\\n\\nAnd KLAY THOMPSON is 2 players behind D-Wade? \\n\\nOn what planet? \\n\\nYou know how many legends you have to put him ahead of to make him top 5?Klay Thompson look like when u first start your MyPlayer on 2k and all u got is a headbandKlay Thompson as a first option would be a team in the running to draft Victor Wembanyama.I know damn well y’all not saying Klay Thompson better than Ray Allen. Y’all can’t be that stupid.To hop in on the topic at the moment, Ray Allen&gt;Klay Thompson. However, there’s no need to bring down one just to lift up another. Appreciate them both as two of the premier sharpshooters in the history of the NBAThere are actual sentient human beings that believe prime Ray Allen was worse than prime Klay Thompson huh.This how I know most Warriors fans are like 15 because they make it seem like Ray Allen Career began in Boston Ray damn near carried a team to the finals give me Ray over Klay and that’s not a slight against Klay Thompson who is also a future HOFerThat Rat Allen , Klay Thompson debate is definitely worth the debate . But I think ima go Ray by a hair .. 😮\\u200d💨 Klay nice asfKlay Thompson wins the 2020 NBA Dunk Contest sponsored by the Flat Earth Society after dunking over Kanye West and a Kia Elantra.Let’s ask actual NBA players if Klay Thompson has “no bag” 😂💀Ray Allen is way better than Klay Thompson bro lolThis Klay Thompson leap next year is gonna save hoops manI’ll give my two cents on the matter…. Yes Ray Allen is better than Klay Thompson. Ray in his prime had a lot More in his bag than Klay’s ever had. Appreciate Klay and his sharp shooting but Ray is betterim not entertaining no Klay Thompson vs Ray Allen debate. Ray Allen took a team to the conference finals as a first option. y’all choose to only remember what he was on the Celtics. which was still a great playerTwitter Fight between Klay Thompson and Ray Allen! People forgot the Milwaukee Buck Ray Allen! 🔥🔥🔥 #NBA #NBATwitter #RayAllen #KlayThompsonWhy do some Warriors fans think it\\'s an insult to say Ray Allen is better than Klay Thompson?I open Twitter and people are comparing Klay Thompson to Ray Allen and saying MBDTF overrated I need a breakif klay thompson was your first option you might legit win 10 games maxI got prime klay Thompson over prime ray allenThey comparing Klay Thompson to Ray Allen like they did with Anthony Davis and Tim Duncan?! 🤦🏾\\u200d♂️😂Wait, are y’all comparing Ray Allen to Klay Thompson? \\n\\nNo grind like the Slow grind because WTFidk how this ray allen klay thompson debate started but it’s ray allen wake upKlay thompson definitely not better than ray allenwatch there be a space tonight debating who’s better, ray allen or klay thompson 😂Klay Thompson is not worthy of carrying Ray Allen’s jock strap. Enough of the ridiculous comparisons.1- Bill Russell, Tom Heinsohn e Sam Jones\\n\\n2- Stephen Curry, Klay Thompson e Kevin Durant\\n\\n3 - Magic Johnson, Kareem-Abdul Jabbar e James Worthy\\n\\n4- Tim Duncan, Manu Ginobili e Tony Parker\\n\\n\\xa05- Michael Jordan, Scottie Pippen e Dennis RodmanKlay Thompson announces lucrative sponsorship deal to become the face of the Flat Earth Society.I repeat Prime Klay Thompson could average 28 a game on his own team in his sleepi can’t believe y’all comparing ray allen to klay fuxkin thompson 😂😂😂😂 hell world do we live inRay Allen &gt; Klay ThompsonThe Klay Thompson slander WILL NOT hit the way they want it to.\\n\\nWe talking about Steph next if half what these dudes say is true lolteam with klay thompson, james harden,tyson chandler, jared west, spongebob, and kyrie irvingY’all taking this Ray Allen vs Klay Thompson to the heart a little to much for me. I would take either one as long as their not me leadWho said Ray Allen not a better player than Klay Thompson 🤣🤣🤣twitter really having the klay thompson versus ray allen debate todayThe fact that Ray Allen and Klay Thompson debates even exist just show how overrated Klay isIf y’all think Klay Thompson is better than Ray Allen y’all had same sex parentsWhy are we having Klay Thompson vs Ray Allen discussionswhy tf are we comparing ray allen to klay thompson? sigh…comparing klay thompson to ray allen is not a good comparison in any way other than they can both shoot 3s really wellRay Allen isn’t as good as Klay Thompson. Stop the fuckeryteam with klay thompson, Deandre jordan, Gavin young, jerry west, and Shaq O\\'Neal“ray allen isnt better than klay thompson” this why ppl fucking hate warrior fans.\\n\\nyall are too casual and young to remember how good prime ray allen was 😭Klay Thompson is not better than Ray AllenKlay Thompson and dame are the most overrated players in nba historyMilwaukee and Seattle Ray Allen trump the best version of Klay Thompson every single timeI respect Ray too much to even engage in a Ray Allen vs Klay Thompson debate. Have some shameKlay Thompson can barely dribble and y’all comparing him to prime Ray 😂😂😂 warriors fans are on coke.I\\'m lost why is everyone having some random ass Ray Allen and Klay Thompson debate on who\\'s better?Ray Allen &gt; Klay Thompson \\n\\nEnd of discussion.  #96ClassI’ma make this clear, Klay Thompson was never better than Ray Allen.team with patrick, james harden,tyson chandler, Mario, klay thompson, and spongebobKlay Thompson couldn’t fuck with Ray Allen in his primeklay thompson is without a doubt better than ray allenKlay Thompson will never be better than Ray AllenThis Ray Allen vs. Klay Thompson debate is comical. I would love to see what Klay can do as a clear number one option but I don’t think he can top Ray’s productionKlay Thompson next year gonna gonna go crazy cause wtf are y’all saying rnRay Allen vs Klay Thompson pops up every few months when people are bored lmaowhy are we all of a sudden comparing ray allen and klay thompson ?? \\n\\nyes ray is better but it’s a lot closer than what most people think 🤦🏽\\u200d♂️Apparently a lot of people need to hear that Ray Allen is better than Klay ThompsonRay Allen is the best player out of him, Klay Thompson and Reggie MillerIf we minimizing Ray Allen career to Klay Thompson cuz people only know his Celtics and Heat tenures Ima be sick frWhoevers saying Klay Thompson better than Ray Allen Please just stopRay Allen Klay Thompson is such a random debate who caresKlay Thompson set to star in Space Jam 2 alongside Lil Wayne and Lil Wayne.Comparing Ray Allen to Klay Thompson is silly…. Ray played in a different league than todays …. The game evolved so much and if Ray played in todays age he would’ve averaged 3-4 more points for his careerIdk where this Ray Allen &amp; Klay Thompson debate came from but it needs to end. No diss to Klay because he’s a really good player but prime Ray Allen was a problem.Is Klay Thompson a first ballot HoFer?Ppl really debating ray allen vs klay Thompson gotta be under the age of 13 man.Ray Allen vs Klay Thompson -  When you look Ray Allen’s 5 best seasons are better than any of Klay’s season. Boston and Miami Ray Allen have clouded ppl’s views about Jesus Shuttlesworth.why are ppl debating Ray Allen vs. Klay Thompson?Ray Allen is better than Klay thompsonIf you think Klay Thompson better than Ray Allen you gotta be smoking dickKlay Thompson finna be extra drunk again tomorrow 🤣🇧🇸Klay Thompson not even better than damn Jesus Shuttlesworth &amp; she really opened this app to say Ray Allen is not better than Klay Thompson lmaooooooo don’t ruin my day please.STOP COMPARING RAY ALLEN TO KLAY THOMPSON THEY\\'RE GREAT IN THEIR OWN WAYS SO JUST SHUT THE FUCK UPThis debate is only a debate because of niggas under 30. Because they only know Boston and Miami, Ray Allen. If you over 30 you know Bucks and Supersonics, Ray Allen and that motherfucker would destroy Klay Thompson.Not sure why there\\'s a debate on Klay Thompson vs Ray Allen trending but posts arguing \"look how Ray could dunk in 2002\" without considering stats are invalidWhy has there been a Ray Allen Klay Thompson debate, who started this lolKlay Thompson and Ray Allen debate, is it really a debate?niggas saying klay thompson better than ray allen lmfaoHow in the world is Klay Thompson better then Ray Allen 😂🤦🏽\\u200d♂️Klay Thompson &gt; Ray Allen\\n\\nElizabeth Blackwell &gt; William Halsted\\n\\nIrene Pope &gt; Renee BachI’m not talking to anybody who think Klay Thompson is better than Ray Allen.Klay Thompson and Andrew Wiggins will be dealt as well.  We have thoughts on their destination but that\\'s not what this twitter account is about.  It\\'s about a call for greater transparency in the face of blatant lying by those in power.Klay Thompson\\'s 37 point quarter or Robert Lewandowski\\'s 5 goals in 9 mins?\\nWhich was more impressive?Ray Allen &gt; Klay Thompson what are we even talking aboutI can\\'t believe y\\'all out here disrespecting Jesus shuttlesworth  comparing him to Klay ThompsonNba twitter must be bored if they comparing klay thompson to Ray allen 😭 😭We’ve seen Klay Thompson struggle to dribble plenty of times over the years and you all are coming on this app after your mediocre breakfast to say he’s better than Ray Allen?? And then have the nerve to bring up rings…Why is there a Ray Allen vs Klay Thompson debate brewing on my TL? One spent his entire career as a 2nd or 3rd option, the other one had success as a #1 option.Klay Thompson not better than Ray AllenI won’t stand for Klay Thompson Slander.Where did the Klay Thompson &gt; Ray Allen take even come from? I saw him trending and searched through and I can\\'t find a single person actually arguing it, just a cascade of people calling it stupid.\\n\\nNBA Twitter sure gets weird in the summer.Anyone who thinks klay Thompson can even stand next to Ray Allen, let alone be considered better, should NEVER be allowed to speak about basketball again.There is no universe where Jesus Shuttlesworth is NOT better than Klay Thompson.I love Klay Thompson, but the Ray Allen disrespect gotta stopKlay Thompson hit 37 in a mf quarter and finished with 50. Ray Allen ain’t even hit a career high past 43. Only reason this even an argument is bc he played damn near 20 years 🤦🏽\\u200d♂️Ray Allen &gt; Klay Thompson. Ray had his own teamWho woke up and decided to compare ray allen to klay thompson 😭😭If u ever say klay Thompson better than ray allen imma need ur addressKlay Thompson ain’t on ray Allen’s level. He’s more Michael ReddBreaking: Klay Thompson will sign a two-year deal with the Bucks, per sources.Wait, do people really think Klay Thompson is better than Ray Allen overall? 😳the ray allen is realizing ray allen people really do be better than klay thompsonI wake up and see Ray Allen slander? Klay Thompson is NO WHERE near better than Jesus Shuttlesworth. Mans was the best on the Bucks &amp; shot 50% from 3. Yall wild .Hate when I come on this acc and it be dumbest topics on my shit like \"Klay Thompson\"Klay Thompson cannot win without StephKlay Thompson and Pippen are the two best robins ever.Klay Thompson is the better shooter/defender but Ray Allen is better over-all.People on this app really believe Klay Thompson &gt; Ray Allen… lolMy Top 10 NBA SG\\'s right now \\n\\n1. Paul George\\n2. Devin Booker\\n3. Anthony Edwards\\n4. Donovan Mitchell\\n5. Bradley Beal\\n6. Zach Lavine\\n7. Jaylen Brown\\n8. Cj McCollum\\n9. Klay Thompson\\n10. Tyler HerroThe NBA has fined Klay Thompson $25,000 for his comments on social media.team with klay thompson, homer, chris bosh, stewie, and jerry westteam with lebron jordan, klay thompson, kevin durant, spongebob, and batmanRay Allen &lt;&lt;&lt;&lt;&lt; Klay Thompsonteam with Trey ebert, jackson wells, Gavin young, spongebob, and klay thompsonRay Allen vs Klay Thompson arguments all over my timeline.\\n\\nTwitter really be entertaining random topics everyday — we love it\"who\\'s the famous jewish basketball player\"\\n\"...\"\\n\"klay thompson?\"\\n\"sandy koufax\"Maturing is realizing Ray Allen is better than Klay ThompsonRay Allen-Klay Thompson is not a crazy comparisonteam with klay thompson, homer, John wall, captin crunch, and captin crunchPeople trying to rewrite history and say Klay Thompson is better all time than Ray Allen. Warriors winning the chip this year gonna have consequences for years to come.ESPN reporting: The Pacers are in talks with Klay Thompson.Mychal Thompson and Klay Thompson are one of the few father son duos that have both produced at high levels. Klay is way betterRay Allen &amp; Klay Thompson are similar in game but we would have to see Klay be number 1 somewhere.team with james harden,tyson chandler, Dwight Howard, dwyane wade, klay thompson, and jason VoorhesRay Allen &gt; Klay thompson btwWorld going crazy when niggas comparing klay Thompson to ray allen wtfteam with klay thompson, michael jordan, justin riley, jackson wells, and lebron jordanY’all are really effected by recency bias on twitter today with ur Klay Thompson takes. 😂ESPN reporting: The Lakers are in talks with Klay Thompson.The Ray Allen vs Klay Thompson debate is simple. If you are looking for a #1 who will get you to the playoffs but never be good enough for a ring, its Ray. If you already have a #1 the answer is Klay. Klays defense is elite, rays is not, but ray is a better pure scorer.It’s wild that people wake up and think Klay Thompson is better than Ray AllenKlay Thompson is more like Reggie MillerI see the Klay Thompson-ness in Cole Swider. Let’s get it. #LakeShowWarriors fans need to face the facts and realize Klay Thompson won’t be a top 10 SG next seasonteam with lebron james, lebron james, klay thompson, jerry lucas, and Dwight HowardI ain’t know Klay Thompson brother was coaching with GSare you aware klay thompson getting better next szn?Boys were debating Klay Thompson and Ray Allen today…. Football season gotta hurryKlay Thompson isn\\'t even better then Reggie MillerKlay Thompson is not a Hall of Famer, despite what ESPN has been weirdly pushing these last few weeks.I\\'m rocking with Klay ThompsonKlay Thompson is the NBA’s golden childI’m convinced warriors fans hate klay Thompson by how much they set him up for slanderToday on NBA Twitter, if a draft were to happen, guys are taking Manu Ginobli, Klay Thompson, Pau Gasol, over James Harden.Quentin Grimes is a mini Klay Thompson lmfaoKlay Thompson is great. Ray Allen was great.I know I don’t see a Damian Lillard vs Klay Thompson debate on my TL.We will never see how klay Thompson as a first optionPeople really got Klay Thompson &gt;&gt;&gt; Ray Allen? They can’t be older than 30.PLEASE SIGN AJ GREEN WTF DUDE IS OUR KLAY THOMPSON @BUCKSA.J. Green=Klay ThompsonKlay Thompson isn’t a ring chaser. Ray Allen was and that’s cool but Klay is better than Ray. People who haven’t watched the dubs the last 10 years have no idea but keep those gums flapping dummiesI am now ignoring all Kyrie trade updates/rumors until a deal has been made, or I fall off one of the four sides of the earth. Now, my main focus is overacting to Lakers Summer League games.\\n\\nSerious question: Who would you rather have, Klay Thompson or Cole Swider?Ray allen putting klay thompson in a blenderNo disrespect to Ray Allen he’s one of the greatest to do it BUT klay is better than Ray. Klay Thompson is that dude.Ochai Agbaji’s game reminds me of Klay ThompsonI can’t say Klay Thompson better than Ray AllenTop Overrated Players in the Current Day NBA (No Order) (THREAD)\\n\\n1. Jordan Poole\\n2. Devin Booker \\n3. Stephen Curry\\n4. Jayson Tatum\\n5. Klay Thompson\\n6. LeMick\\n7. Nikola Vucevic\\n8. Rudy Gofraud\\n9. Robert Williams\\n10. Ja Morant \\n11. Karl Assony Towns\\n12. James Clubarden\\n13. PascalY’all are disrespecting Klay Thompson way too much today. “He’s overrated and isn’t a good player” is being said way too much because one dude said he’s better than Ray Allen. Re-fucking-LAX!This Klay Thompson vs Ray Allen conversation is telling.. basketball discourse is going down a very dark pathSomeone was trying to make the arguement earlier that Klay Thompson is better than Ray Allen ever was.\\n\\nUm, Ray Allen is one of the three best shooters ever. Klay Thompson is teammates with the second-greatest player of all time(Suck it up LeCrybaby. It\\'s the truth). \\n\\n#NBARay Allen IS better than Klay ThompsonWhy tf people saying Klay Thompson is better than Ray Allen. Give me one good reason whyLove okay Thompson but as of now he\\'s not better than Ray Allen. Same reminds me of the Julius Randle is &gt;&gt;&gt;&gt;&gt; than Chris bosh people a year or two back how\\'d that turn out? Lol. Klay can for sure surpass ray before he retires but nah not now.Wait Y’all Saying Klay Thompson Is Better Than Jesus Shuttlesworth ? Na Yall Not Saying ThatWho said Ray Allen Wasn’t better than Klay Thompson…mane if y’all don’t GTF 😭😭😭I just saw someone say Klay Thompson is BETTER than Ray Allen?! 🥴 do y’all really know basketball or is this the NEW media Draymond wants?!Klay Thompson is fantastic but what is all this Jesus comparisonsESPN reporting: The Sixers are trading Kendrick Nunn to the Lakers for Klay Thompson, per sources.All I know is Okoro wasn’t coming off screens like Klay Thompson shooting catch &amp; shoot 3s last season giving the defense something else to worry about other than Garland and the pick &amp; roll 😂 Agbaji is gonna be just what the doctor orderedHow the warriors planning to give both Wiggins and Poole long term deals whilst both Klay Thompson and Draymond are up for extensions??If you think Klay Thompson better than Ray Allen please go back to sleep 😂😂😂These folks got my tweet about Ray Allen and Klay Thompson on fire......and I don\\'t care because I said what I saidRay Allen (MIL/SEA) is way better than Klay Thompson period.Damian Lillard has made 200+ 3-pointers in 7 different seasons, tied with Klay Thompson for 2nd-most all-time. Only Stephen Curry has more with 9 such seasons.\\n\\nEntering 2022-23, Lillard has made 2,143 career 3-pointers, tied with Paul Pierce for 9th-most all-time.Klay Thompson is one the greatest shooters of all time. \\n\\nKlay Thompson is a great on-ball defender. \\n\\nKlay Thompson is a lock Hall of Famer.\\n\\nI like Klay Thompson. \\n\\nAnd prime Jesus Shuttlesworth would light Mychal Thompson’s son up like a Christmas tree.Klay Thompson and Ray Allen are both very really good basketball players.WE DRAFTED KLAY THOMPSON AHAHAAHAKlay Thompson won a championship and he wasn\\'t 100% back to his normal level of production yet. Next season will be big for the Warriors!Seen someone tweet Klay Thompson better than Ray Allen lol. Very laughableteam with larry bird, wade carnes, derrick rose, jared west, and klay thompsonNext season the warriors are gonna be scary \\nPG:Stephen Curry\\nSG:Jordan Poole\\nSF:Klay Thompson\\nPF:Draymond Green\\nC:James Wiseman(Healthy)/Kevon Looney I can’t decide\\n6th:Donte Div.\\n-\\nIk Steve Kerr is not going to make this the lineup but this is my opinionteam with jason Voorhes, dan barnes, kobe bryant, jared west, and klay thompsonYou know what I can’t stand on this app?\\n\\nPeople who talk about basketball but don’t know anything about players that played before 2010.\\n\\nThere is currently a debate about whether Ray Allen is a better player than Klay Thompson.\\n\\nRay fucking Allen.\\n\\n#NBATwitterThat toolie on me no mechanic, Klay Thompson with heat no ceramicsLORD JESUS Please Restore, Klay A.Thompson#11 to WIN:\\n1.ALL-STAR Game MVP’22-’23\\n2.WCFMVP’22-’23\\n1.DPOY’22-’23\\n-please help JESUS,ppg.25-26,NBA ’22-’25NBA SEASONS\\n\\nJESUS GRANT Your favor over my Golden St. Warriors to have CHAMPIONSHIP WINNING CONSISTENCY’22-25, LORD JESUS PleaseLORD JESUS Please Restore, Klay A.Thompson#11 to WIN:\\n1.ALL-STAR Game MVP’22-’23\\n2.WCFMVP’22-’23\\n1.DPOY’22-’23\\n-please help JESUS,ppg.25-26,NBA ’22-’25NBA SEASONS\\n\\nJESUS GRANT Your favor over my Golden St. Warriors to have CHAMPIONSHIP WINNING CONSISTENCY’22-25, LORD JESUS PleaseMaturing is realizing Ray Allen is better than Klay ThompsonRay Allen is a better player than Klay Thompson. They’re both top 5 shooters of all time. I believe Klay is a slightly better shooter but Ray Allen in his prime wasn’t just a shooter. He was a flat out scoring machine.the ray allen vs klay thompson chat is ending me 🤣Miss me with the Klay Thompson slander. Facts... Klay was out 2 years Warriors struggled mightily. Klay returned Warriors won the title. Am I saying he is the best Warrior, no. His importance is undeniable. Take your hypotheticals elsewhere.Klay Thompson is not better than Ray Allen. \\n\\nI have no idea why this is even an issue.I’m sorry, but there’s not a world where Klay Thompson is better than Ray AllenKlay Thompson or Ray Allen? Tougher than it is. Ray led a team to ECF and lost in 7 to AI. But Klay man. Especially before the Achilles and ACL injury. SheeshDid I see someone say Ray Allen isn’t better than Klay Thompson? I wonder how old they are to not see him play in his prime.Klay Thompson is without a doubt, a hall of famer. The unselfishness he brought the team has to be acknowledged.Klay Thompson better than Ray Allen now?! Y\\'all are fuckin mentalPpl actually saying Klay Thompson better than Jesus Shuttleworth?!😂😂 casualsIf Klay Thompson was the #1 option for a team, that team wouldn’t make the playoffs.Idiots on Twitter find a new way to slander Klay Thompson every single week.\\n\\nNow, it\\'s \"RAY ALLEN WILL ALWAYS BE BETTER THAN KLAY!\"\\n\\nShut the fuck up already. I don\\'t care about how my favorite player stacks up against a guy who\\'s about to be 47. Give it a rest already guys.And this why I don’t talk basketball with women… Shorty said Ray Allen not better than Klay Thompson 🤦🏽\\u200d♂️🤦🏽\\u200d♂️😒😒 Buggin tf outRAY ALLEN IS ABSOLUTELY BETTER THAN KLAY THOMPSON.I ain’t even sure Klay Thompson is a better shooter than Ray Allen. Especially how he was stinking it up this yearJames Harden took a $15m paycut to win a championship. He’s now being paid $32m annually. \\n\\nPlayers making more per season: \\n\\nRussell Westbrook $41m\\nRudy Gobert $41m\\nKlay Thompson $37m\\nTobias Harris $36m\\nMPJ $35m\\nKhris Middleton $35m\\nBen Simmons $35m\\nCJ McCollum $33mray allen is better than klay thompsonI’ll be back officially from vacation on Monday and it’s time to kick it into a new gear. Quarter 3 is here, and I’ve got Klay Thompson vibes. Ready to shoot for the stars. 😎 LFG!1v1 I\\'m taking Ray Allen over Klay Thompson TODAY.Why do people on this app think Klay thompson is ass nowRay Allen was much better than Klay Thompson. It\\'s okay to view your favorite guys through a realistic lens.NBA TRADE RUMOR: Klay Thompson to the 76ers for a 1st and 3rd round pickLol my other account really got suspended for violating the “rules regarding impersonation”🤣🤣\\n\\nObviously I ain’t Klay Thompson and never pretended to be. These bot suspensions are ridiculous.Who you taking Ray Allen or Klay ThompsonRay Allen is better then Klay Thompsonteam with klay thompson, Shaq O\\'Neal, batman, david west, and jason VoorhesKlay Thompson when he\\'s completely healthy is the best 3 &amp; D player in the NBA hands down. He\\'s a deadeye catch and shoot, knock down shooter &amp; a lockdown defender. So that makes him a better all around player than Ray Allen. No offense to Ray he\\'s a great player in his own rightHow would we view klay Thompson if he was the #1 option for a team and not in warriors systemNBA TRADE RUMOR: a one way trade that brings Portlands Cj Mocculum to the Warriors for Klay ThompsonWhy everyone in VA either think I’m Klay Thompson or Ben Simmons??i fw klay thompson but that nigga is not fucking with ray allenNiggas sayin Ray Allen better then Klay Thompson...Never in his long legged lifeFrom a torn ACL and Achilles, Klay Thompson still average 20 on 43/38/90 splitsThere\\'s some twitter discourse about Klay Thompson being better than Ray Allen.... Love Klay but this is nonsense, SuperSonics and Bucks Ray Allen was an absolute stud and these kids just don\\'t knowIf you think klay thompson better than ray allen u need to stop talkin basketballBreaking: The NBA has fined Klay Thompson $10,000 for his comments on social media.team with lebron james, klay thompson, joakim noah, klay thompson, and GarfieldCalling Klay Thompson better than Ray Allen is nasty bruhThe disrespect on this app for Klay Thompson is crazy🤣Ray Allen is better than Klay ThompsonTyrese an embarrassment to the dark skin community. Nigga always crying. We’ll trade him for Klay Thompson. #OnZeusCaleb Houstan is a flamethrower\\n\\nEarly Klay Thompson/Courtney Lee vibes. Underrated defender.Klay Thompson got one year that he didn\\'t shoot over 40% from 3 in a season, and it was the year he came back after missing two seasons due to injury. Everybody said Klay looked rusty, man was shooting 39% from 3 on  9.4 attempts a game. Ray Allen a better shooter where\\'bout?warriors twitter might be on my dick if i had enough followers but klay thompson easily the most overrated defender in the nbaKlay&gt;&gt;Ray. It\\'s close but I\\'m taking Klay Thompson easy.Ray Allen &gt; Klay Thompson and I can’t believe this is considered a hot take.Mf who say ray Allen isn’t better than klay Thompson drunk af😂 go watch sonics and bucks rayRay Allen is better than klay ThompsonWhy y’all debating this, we all know:\\nJesus Shuttleworth\\nKlay ThompsonThere is nobody guarding derozan this season . Klay Thompson can\\'t dribble 🤣Just seen a tweet that says Klay Thompson  is better then Ray Allen. \\n\\nTime to log out.You know Twitter is full of 12 year olds when they say Klay Thompson is better than Ray Allen. In his prime, Ray Allen was a walking bucket, who created his own shot. There’s YouTube for a reasonKlay Thompson isn’t better than Ray Allen or Jesus Shuttlesworth smhHopped on Twitter and someone said Klay Thompson is a role player and equivalent to Kyle Korver  🤦🏽\\u200d♂️✌🏽Klay Thompson is not better then Ray Allen or Reggie Miller stop itGotta love terrible takes from casual hoop fans…\\n\\nThis girl said Klay Thompson is a better overall player than Ray Allen \\n\\nCRAZYWhy are people arguing about Ray Allen vs Klay Thompson? That’s not really a debate, and Klay is one of my favorite players ever lol.Ray Allen literally does everything on a basketball court better than Klay Thompson.. \\n\\nKlay’s strongest attribute of his game is his shooting ability, and Ray a better shooter..People on the TL saying Klay Thompson better than Ray Allen?My favorite NBA players:\\n1. LeGOAT\\n2. Luka (Baby Goat)\\n3. Josh Giddey\\n4. DeRozen\\n5. Klay Thompson\\n6. Giannis\\n7. Ant Edwards\\n8. Jokic (Dad Bod King)\\n9. Paolo Banchero\\n10. Zach Lavine\\n\\nHM: Blake Griffin, Aaron Gordon, Jordan Poole, Kevin Porter Jr, John WallI’ll take Manu Ginobili all time over Klay Thompson. I’m talking player for playerI don’t even know if Klay Thompson is better then Clyde Drexler.klay thompson is definitely someone who\\'s on the hot seat, if the Dame x Simone backcourts works, the Warriors are definitely gonna be going to Steph x PooleSaw an interesting take: Klay Thompson is better than Ray Allen! Thoughts?I am looking forward to Klay Thompson continued resurgence and ascendance.Klay Thompson overrated as fuck bruhIt’s very hard to evaluate Klay Thompson’s career.Stop comparing someone like Klay Thompson to players that actually had to be first options bro.  Klay would be Kyle Korver if he never had curry as a teammateBill Simmons taught me that and since then I\\'m much more healthy competition is good no more Kevin McCale clotheslining Klay Thompson\\'s dadKlay Thompson has the most overrated peak in historyteam with Mr.crabs, derrick rose, klay thompson, michael james, and GarfieldWhat starting Five could beat this starting Five?👀🐐\\nPG. 21-22 Stephen Curry\\nSG. 18-19 Klay Thompson \\nSF. 14-15 Andre Iguodala \\nPF. 15-16 Draymond Green\\nC. 14-15 Andrew Bogutteam with lebron jordan, klay thompson, Mario, Bill russell, and michael jordanthem Thompson brothers man… 😮\\u200d💨🥵 sheeeesh. I did not realize Trayce is just as fine as Klay. Make it stop 😭Youtube deserves its trashed reputation, but it is legit funny to acknowledge that yes, I will watch candlelit Bonnie Prince Billy c. 2010 and Klay Thompson’s 37-point quarter back to back. Both are good.Beef Stew turning into a 6’8 Klay Thompson is funCaleb Houstan is gonna be our klay thompsonteam with spongebob, klay thompson, stephen curry, michael jordan, and John wallteam with jerry west, jahlil okafor, shrek, jerry west, and klay thompsonKlay Thompson wins the 2020 NBA Dunk Contest sponsored by Monsanto after dunking over Oscar-nominated actor Jonah Hill and a Kia Elantra.In the 21-22 NBA season we missed all-of or most-of the following:\\n\\nKawhi Leonard\\nPaul George\\nJamal Murray\\nDame Lillard\\nAnthony Davis\\nKlay Thompson\\nMichael Porter Jr\\nKyrie Irving\\nBen Simmons\\nJohn wall\\nMarkelle Fultz\\nCollin Sexton\\n\\nWe should have all these guys back this szn. LFGIf you think about Paolo as James Harden and Jabari Smith as Klay Thompson in terms of role / upside / impact, then everything makes sense.Taking peak rondo over any version of klay ThompsonTaking Peak Bradley Beal over Klay ThompsonI see a lot of Klay Thompson in Caleb Houstan.Caleb Houstan = Taller Klay ThompsonTHEY SAY HES KLAY THOMPSON FROM THE 3Crazy that the Magic drafted winning Carmelo Anthony and Klay Thompson in the same draftCaleb Houstan is the next Klay ThompsonDamn Klay Thompson almost went yard but Manfred said he hates funChet sticks can’t get in paint when he wants Jabari a Klay Thompson and Paolo Banchero is baby LeBron👑James . Magic knew that from lottery nightteam with patrick, klay thompson, Russell westbrook, Goku, and lebron jamesKlay Thompson and Kyrie Irving not making the NBA 75th Anniversary Team has to be the biggest mistake in the NBAit\\'s crazy that Klay Thompson 41pts played like superstars.Ray Allen is not better than Klay ThompsonI love Klay ThompsonKlay Thompson is so good at baseballStephen A. Smith: My dear friend and two-time wedding DJ Klay Thompson has been disrespected once again by being snubbed from the All-NBA third team list! The audacity!team with dwyane wade, klay thompson, shrek, Dwight Howard, and Bill russellif klay thompson doesnt win comeback athlete of the year im gonna dox myself bc that man comes back after like 950 days of injury and then wins a fucking ringIsiah Joe &gt; Prime Klay Thompsonteam with jackson wells, spongebob, wade carnes, Trey ebert, and klay thompsonteam with batman, lebron james, scooby doo, klay thompson, and jahlil okaforteam with klay thompson, kobe bryant, Kevin love, wade carnes, and spider-manKlay Thompson: Eu sou LGBT assumidobe like i’m klay thompson with the memory, ‘cause i’ll hold a grudge if i feel like it.I wish I could nutmeg Klay ThompsonMy boyfriend looks like klay Thompson fr 😍Klay Thompson wins the 2020 NBA Dunk Contest sponsored by the Flat Earth Society after dunking over Werner Herzog and a Kia Elantra.After Monday night’s win, Steve Kerr has benched Klay Thompson.team with klay thompson, michael james, klay thompson, Dwight Howard, and lebron jordanI wish I could poster Klay Thompson941 days away from the game.\\nOne triumphant return.\\n\\nVote Klay Thompson for \"Best Comeback Athlete\" at the 2022 ESPYS 💥They was better off Putting KLAY Thompson on the Cover of 2Kill never forget when someone said my dad looked like klay thompsonjaylen brown is CLEAR of klay thompsonReports say Klay Thompson worked out with Adam Silver over the summer and added 20 lbs. of muscle this offseason.Klay Thompson will undergo MRI on his left wrist, per sources.Underdog on the team baby call me Klay ThompsonBreaking: Klay Thompson sprained his knee, per sources.Klay Thompson - 30mpg 20ppg 42/38/81 splits\\n54% TS        107/110 ODrtg \\nEMPOWERING\\n\\nDamion Lee - 19mpg 7ppg 44/33/88 splits\\n56% TS        111/109 ODrtg\\nPUT SOME CLOTHES ON NIGGAteam with frank jones, lebron jordan, damian lillard, klay thompson, and puss n bootsteam with Caleb Barnes, dan barnes, klay thompson, jerry lucas, and damian lillardOne of my friends told me James Harden, Nikola Jokic and Ja Morant are not better than Klay Thompson 😭😭ESPN reporting: Klay Thompson will sign a five-year maximum contract with the Celtics, per sources.This man Chet think he’s Klay Thompson😂😂Would y’all rather have Klay Thompson’s career or Bradley Beal’s?Only things to make me cry, warriors winning the championship in 2015-22, Kevin Durant getting hurt and Klay Thompson getting hurt in the 2019 finals, blonde by frank ocean, and the eagles winning the super bowl.Some of the patients thought I was Klay Thompson lolI like Buddy Hield but lakers fans look at him and see prime Klay Thompson 💀Klay Thompson will undergo MRI on his left wrist, per sources.team with klay thompson, david west, joakim noah, Mario, and Gavin youngI just saw Klay Thompson in the airport he said nice niners gear 😂😂💯It\\'s sad to see how desperate Klay Thompson has gotten since injury. Dude will say anything for a reaction. Difference between him and Dray is Dray actually speaks facts, Klay just be saying shit trying to boost his own ego. it\\'s sadWa... Was that Draymond Green sitting with the Cavs bench?Travers has a little bit of Draymond Green to himTop 15 Players of the 2021-22 NBA Season:\\n\\n1.Giannis \\n2.Stephen Curry\\n3.Nikola Jokić\\n4.Luka Donćič\\n\\n5.Joel Embiid\\n6.LeBron James\\n7.Kevin Durant \\n8.Trae Young\\n9.Jason Tatum\\n10. Ja Morant \\n11. Jimmy Butler\\n12. KAT\\n13. Draymond Green\\n14. Rudy Gobert \\n15. Chris PaulDraymond green had 11 points 19 rebounds 13 assists 3 steals and two blocks in game 6 of the 2019 finals. He also had 32/15/9 in game 7 of the 2016 finals not to mention strong games at the end of the 2022 finals. dray has always been big in the finals @PlayoffDraymondGive Me-Paul Gasol over Draymond greenNick Kyrgios is to tennis what Draymond Green is to basketball.That niggga really put  Ginuwine “Pony” to DRAYMOND GREEN highlights.   He need to be licked away ASAP,Half the fans wanted John gone, not the team. Again. If you\\'re not getting Giannis, KD, AD, Siakam, Sabonis in return, you\\'re wasting time &amp; will be worse. You want Draymond Green? Randle? These are the PF\\'s that rep the top 10 in the NBA. Number 10 is John. #truetoatlantaReal 💯 I agree with Draymond Green. We have a Superstar in Ja Morant do like Minnesota they went all in on Gobert for Edward. The Grizzlies go all in on Durant for Morant go for the championship in the present the future isn\\'t guaranteed as well.Kyrgios reminds me of Draymond Green. Dude played amazing but omg all the talking!Djokovic just beat Draymond Green for the 2022 Wimbledon Cup. What a world we live in.If you like Draymond Green, turn ESPN on and watch Wimbledon. You’ll love this guy Kyrgios. #Wimbledon2022Nick Kyrgios is as close as it gets to Draymond Green. Jeez\\n\\n#Wimbledon2022Imagine Kyrgios getting at it with Draymond Green! Who would be the quickest to get tossed out? #Wimbledon @WimbledonNBA Analyst Says He And Chris Broussard Could Verbally Undress Draymond Green These\"analysts \" are usually sleaze balls hanging around the edges .Slithering in the  leftovers \"Their \"information and Knowledge\" come from interviewing Green and others They do not know a hole-ownNick Kyrgios is the Draymond green of tennis when it come to showing emotions 😂 he gon let you knowESPN reporting: The Golden State Warriors are trading Draymond Green to the Pacers for two first-round picks, per sources.The biggest problem with today’s world is that we think everything that’s Possible is Probable… what Could happen and whats Likely to happen.\\n\\nYes you could find a Draymond Green in the second round.. but you’re likely going to get an Alize JohnsonBallin on these n*ggas, Draymond Green can\\'t even guard meBreaking: Nuggets are claiming Draymond Green off waivers, per sources.Superstar Forward Draymond Green has demanded a trade from the warriors. Green believes he can be the first option but the warriors are unwilling to give him the opportunity.Random: Heres how i know if mfs dont know basketball. If you think Draymond Green is trash or isnt good, you are a casual and dont know shit. This is coming from a Nuggets fan. Draymond is that fucking goodLmaoo jayson Tatum taking pics w Draymond green at that recent all white party 😭 nahh too soon 😭😭Guzmán Corujo is the Draymond Green of Charlotte FC, and I mean that as a massive complement.\\n\\nAlso, Afful finds Świderski in the box, Karol turns around but doesn’t put enough juice on the shot, saved by Nashville.\\n\\n39’ | 1-0 | #CLTvNSH \\n\\n#ForTheCrown\\xa0\\xa0#PorLaCoronaI\\'m in the Locker Room in Georgia With my friend #NastyTeamArmy member @Frydaddy15 \\nRoasting me looking boy Draymond Green Brother With Kevin Durant haircut I couldn\\'t come back after that you got to love being in with your friends lolDraymond Green yearFans and athletes need to stop acting like the NBA is a normal business. Sports at its base level is purely entertainment. Kevin Durant and Draymond Green are not doctors, scientist or public service workers.Like ma man Draymond Green said “it’s always fuck everybody else”Draymond Green didnt apologize. Warriors road to the trophy is filthy.ESPN reporting: The NBA has fined Draymond Green $20,000 for his comments during postgame interview, per sources.EST Draymond Greenim the draymond green of pick upWith all due respect Draymond Green scored 5 points in the finals him giving @KDTrey5 a pass means nothingmo seider is basically draymond green play-style wiseSame point sees 🌋 CHOMPING in the endzone, immediately getting it off the line in the chilliest of fashions. This is quickly becoming a looooong point for our Draymond Green line. 🧚🏻\\u200d♀️with anOther sweet D! Whole line forcing turns left and right. Stay tunedESPN reporting: Celtics have agreed to a contract buyout with Draymond Green, per sources.I’m sorry .. don’t @ me.. but Draymond Green’s attitude does not match his stats ..😂😂😂😂2022-23 NBA Redraft\\n\\n1st (9th pick) Kawhi Leonard\\n2nd (36th) Draymond Green\\n3rd (53rd) Jamal Murray\\n4th (80th) Al Horford\\n5th (97th) Lu Dort\\n6th (124th) Norman Powell\\n7th (141st) Spencer Dinwiddie\\n8th (168th) Gary Payton II\\n9th (185th) Nic Batum\\n10th (212th) Juan Toscano-Anderson2016 draymond green is the greatest player of all timeDraymond Green Gets Real On Kevin Durant\\'s Trade Request: \"People Can’t Accept The Fact That Athletes Are Now Businessmen And No Longer Just Playing Basketball.\"\\n😌\\n👏🏽👏🏽👏🏽🤝🏽💪🏽💪🏽💪🏽In terms of Draymond Green next year, we believe he\\'s dealt to either the Washington Wizards or the San Antonio Spurs.  Remember this twitter account also believes that Mark Jackson is the next coach of the San Antonio Spurs.  Spurs waiting for GSW to make statement first.Draymond Green suffered a bruised left wrist.Draymond green said the wolves traded for gobert because they in win now mode, they believe they got a superstar in ANT. They weren’t making those type of moves for KAT.big man draymond greenThe NBA has fined Draymond Green $10,000 for his comments during postgame interview, per sources.Draymond green been throwing up the north side a lot lately @Hyquil_ 😭😭😭😭😭😭😭At this rate, if Golden State Warriors made a move for Durant, the Nets would ask for Draymond Green, Curry, Klay and the Chase Center. These chaps are jokers.Draymond Green is a TORYI don’t know who needs to hear this but if Scottie Pippen is a top 50 player all time then so is Draymond GreenMfs say Draymond Green a hall of famer this mf avg 8pts 6 reb and 5 ast. Man y’all wild asf basketball HOF is a fucking jokeY’all don’t respect Draymond Green dog 😂😂😂😂 that’s crazy manLeBron is eating trail mix while Draymond Green sings his praises somewhere on a microphone and the world around him is crumbling\\n\\nthis man is inevitable😭😭😭The guys at @957thegame asked if Draymond Green will make it to the Hall of Fame, I attest not unless he buys a ticket, or when Steph gets elected.\\n\\nSo I ask is Draymond Green on track to Hall Of Fame ?Rasheed Wallace &gt;&gt;&gt;&gt;&gt;&gt;&gt;&gt;&gt;&gt;&gt;&gt;&gt;&gt;&gt;&gt;&gt;&gt;&gt;&gt;&gt;&gt;&gt;&gt;&gt;&gt;&gt; Draymond GreenI don\\'t care what Draymond green or anybody else says.\\n\\nNo legendary all time great player would do what Kevin Durant did.\\n\\nWhen he left the golden state warriors.\\n\\nMichael Jordan, magic Johnson, Larry bird or Labron James.\\n\\nNone of them would leave that team.\\n\\nNO WAY!!!Breaking: Sixers have agreed to a contract buyout with Draymond Green, per sources.Nba injury wishlist:\\nBen Simmons-decapitation\\nRussel Westbrook-landmine\\nDraymond green-16 car pile up\\nDraymond green-brain tumor\\nDraymond green-knuckle sandwich\\nDraymond green-internal bleedingIt\\'s great to see Draymond Green @Money23Green sitting courtside in LV watching Warriors summer league team.  He was also in the office night of the draft.  The guy truly cares.  #PPTPW @ESPNNBA needs to interview him during this game. #NewMedia @TRAVISWALTON5 @warriorsThe glasses that DRAYMOND GREEN are wearing are BUFFS.. \\n\\nTHOSE ARE BUFFS not wires, not James Eros none of that bullshit y’all think are BUFFS..\\n\\nDraymond is rocking “White Sticks” ladies and gentlemen. Please know the difference.Realistically, how many PPG would Draymond Green average in the summer league this year?Draymond Green is in the house.Wetin Draymond green come do😏😏😏my top 10 players of all time :\\n1. stephen curry \\n2. stephen curry \\n3. stephen curry\\n4. stephen curry\\n5. stephen curry \\n6. stephen curry \\n7. stephen curry\\n8. stephen curry \\n9. stephen curry\\n10. draymond greenDraymond green work 3 jobs \\nNBA basketball player \\nPodcast Host \\nHead of security Warriors Money bankTdawg set the play Draymond green that’s a pick &amp; rollDraymond Green really thinks he knows everything about everything. Now he’s apparently a Wall Street businessman and knows the ins and outs to running a business? Just continuously making himself look like a total dumbass.Man fuck Draymond greenGood god Point Forward easily clears The Draymond Green ShowOdds to be 2022-23 NBA Defensive player of the year \\n\\nRobert Williams +600\\nRudy Gobert +650\\nBam Adebayo +800\\nDraymond Green +900\\nMarcus Smart +900\\nGiannis Antetokounmpo +1000\\nJaren Jackson Jr +1200\\nJoel Embiid +1400I think next season will be one of the major inflection points in Draymond Green’s career.\\n\\nGiven the state of fan-player relationship which has deteriorated over the years, he can’t coast like years past.\\n\\nPlus, for JoKu and Wise to be great, Dray is gonna have to be locked.Ok so is it spelled draymond green or darmond gernThere’s no way Draymond Green can be that fucking stupid. If I Sign a contract with a company and then the next year I want to leave they are just gonna pay me and say OK have a nice trip.Draymond Green on Ant and JMac:\\n\\n- “I think Minnesota thinks that they have a superstar in Anthony Edwards, and by the way, I believe they do”\\n- “I think they’re expecting McDaniels to take another step forward, which I expect he’ll take another step forward”\\n#TimberwolvesThe Draymond Green Show podcast should be change now to \"The Draymond Green Rant Show\" 😆😆😆Draymond Green spent 7:30 explaining what exactly the Minnesota Timberwolves trading for Rudy Gobert + future 1st RD picks mean. I agree with everything he said Anthony Edwards is the sole reason why they felt comfortable doing so &amp; MN are in win now mode.🚨REPORT🚨: The Brooklyn Nets have been in talks with the Golden State Warriors regarding Kevin Durant. The Brooklyn Nets want Jordan Poole, Andrew Wiggins or Draymond Green, Kevon Looney or James Wiseman, and 4 first round picks. #NBA #NBAtrades #KevinDurant #GSW #BrooklynNetsWhy Draymond Green don’t got a 2k cover ???REPORT: The Brooklyn Nets offered Kyrie Irving to the Golden State Warriors for Stephen Curry and Draymond Green, but the Warriors declined.\\n\\n😂😂😂😂😂😂😂😂😂😂😂😂😂😂😂 Why would the warriors agree wtsDraymond Green\\'s Google/Apple/Tesla analogy to justify KD\\'s trade demand is a pointer to his low IQ. \\n\\nThis is the perfect example of when a player should shut up and dribble. Does he understand how contracts work in business?May not mean a whole bunch. But bro !! I super proud snd happy for you !  @Money23Green also everyone go check out one of the best podcasts in the golden lands ! “The Draymond Green Show”I would take a team of James Harden and four Matisse Thybulles over Draymond Green and four Jordan Clarksons any day.Someone needs to take the mic away from Draymond Green 🤦🏻\\u200d♂️ 🤦🏻\\u200d♂️…Draymond green is a ugly fucking idiot. This is not racistDraymond Green my favorite Analyst now .. #TheNewMedia 💠💠💠Draymond Green: I don’t understand why people feel a certain way about a certain superstar player wanting out of a dumpster fire that he played a part in lighting. People move on from fry cook at Burger King to night manager at Wendy’s and you don’t hear a peep!Draymond Green exaggerating that athletes are business. No your not. You’re an athlete, you’re an employee of the Warriors. A businessman or entrepreneur is something your cash flow never stops even if you’re sleeping on bed.\\n\\nYou’re not in control, your employer does. Wake up!Bring draymond green to Orlando magic and in 2 years they will be in deep playoff runESPN reporting: The Nets are in talks with Draymond Green.The Draymond Green Show is so damn goodLOL LEGIT love y’all thanks for the shout out of course I’m tuning in 🔥🔥🔥 and yes FUCK DRAYMOND GREEN @IndyJeff317 @JimmyBIndyCThe reality is, The Draymond Green Show is absolutely incredibleAndre Iguadola &gt; Draymond Green\\n\\nNo cap Draymond sucks at hosting, he takes these long ass pauses so he can think of the right word or phrase to sound more intelligent and it’s weird. It just doesn’t have a good flow and feels so unnatural for him.Draymond Green of all people should know there is a difference, and it has nothing to with the longevity of one\\'s career.The NBA is entertainment. Apple sells electronics, they don\\'t equate. If Draymond Green wants to equate these two, he is no way near.Totally random but sometimes the things that Draymond Green says don\\'t make any senseThe guy named draymond green is the most insecure player ever.On his show, he didnt say single positive thing about Rudy Gobert,instead made the whole trade being about Antman. The pain he’s living deep inside himself for not being the best defender in the world eats him alive.if draymond green says “the reality is” one more time ..So funny how people getting mad at Draymond Green for protecting LeBronPSA for Draymond Green. Enough of the Kevin Durant dick riding, go tell it how it is god damn it.Draymond Green was right… We can Win a Championship Without K.DThe Draymond Green Show is a good product, I\\'m afraidDraymond Green 30 for 30 gone be so funnyJavy Baez is the Draymond Green of baseball.trying to avoid the “Draymond Green” comp everytime a point-forward with great IQ on both ends appears\\U0001fae3Draymond Green is a ThunderDraymond Green deserves less“‘Rudy Gobert’s defense has been fine in the playoffs, almost no one can close out and block a shot in that recovery time besides Anthony Davis, Draymond Green, or Giannis, I’ll take any of those in the postseason vs 5-out offenses in the playoffs defensively’”-Zach Lowepoint forward &gt;&gt;&gt; the draymond green showI really was out there hoopin like Draymond Green yesterday 😂😂Somebody on this app please explain to me how draymond green is OVERRATEDginuwine over draymond green highlights got me cryingThe British Labour Party should pay Draymond Green to shit talk Boris Johnson every day until he vacates #10, “Chasing that farewell tour. They don’t love you like that! You thought you was Kobe?”\\n\\n(someone PLEASE cut this video)when i say draymond green over carmelo all time then whatThe Draymond Green Show sucks lol it was only good when they were in the playoffsNever heard a draymond green podcast and with all these snippets posted on it even less reason tooJalen Williams standing reach is 8\\'9.5 \\nDraymond Green standing reach is 8\\'10Draymond green think he’s more important than he is.Draymond Green is Top 2 in NBA Playoffs\\n\\n- Wins\\n- Rebounds\\n- Assists\\n- Steals\\n- Blocks\\n\\nsince 2015. @money23greenI really wanna interview Draymond Green one dayDraymond green is not the smartest person Arnd lol he’s not dumb thoLove him or hate him, can’t deny draymond green is a damn good trollAnyone else just getting sick of Draymond green? Can’t stand himThe 2022-2023 NBA Redraft:\\n\\n1st (9th pick) Kawhi Leonard\\n2nd (36th pick) Draymond Green\\n3rd (53rd pick) Jamal Murray\\n4th (80th pick) Al Horford\\n5th (97th pick) Lu Dort\\n\\n6th Round: Norman Powell\\n7th Round: Spencer Dinwiddie\\n8th Round: Gary Payton II\\n9th Round: Nic BatumI think draymond green is the mouthpiece lebron wishes he could beDraymond Green is one smart guy. I hate his delivery at times but once you get past the fact that we all don’t move the same you start to hear how well he processes things. Really enjoy his podcast and this new media shiiiii hahaPlease give us an Anthony Edwards appearance on the Draymond Green ShowHigh key wish I could just filter out anything pertaining to this man Draymond Green smhFirst thing I do in the morning when I get to work is make my coffee and listen to all my new podcast episodes. On deck this morning, The Draymond Green Show and All the Smoke.Breaking: Draymond Green will sign a deal with the Pacers, per sources.ESPN reporting: Heat have agreed to a contract buyout with Draymond Green, per sources.It’s always the mfs with draymond green profile pictures that act like “funny” smartasses 😭😭😭😭😭If anyone confused I’m Draymond Green Buner 23 I just changed my name to my real self if that’s ok.draymond green is basically an anti player criticism machine. that’s what new media is lmaooDraymond Green gotta talk mov’t with @LogFitz6 and get enlightenedThere\\'s really a picture of Jayson Tatum and Grant hanging out and taking pics with Draymond Green . Honestly screw those 2 guys I never liked either one of them that much anywaysDraymond Green apologizing on his podcast is weak as fuckHumble young boy outta D.C\\nNow your taking shots at OKC?\\nIt\\'s not our fault you ain\\'t win MVP\\nIt\\'s not our fault your best friend Draymond GreenDraymond green gonna be heavily disappointed when warriors don’t offer him a contract extension come August 3rd.anger problems during hoops I can’t lie I’m Draymond Green with itDraymond Green is the ultimate Bronsexual now bro is such a groupieThe 2022-2023 NBA Redraft:\\n\\n1st (9th pick) Kawhi Leonard\\n2nd (36th pick) Draymond Green\\n3rd (53rd pick) Jamal Murray\\n4th (80th pick) Al Horford\\n5th (97th pick) Lu Dort\\n\\n6th Round: Norman Powell\\n7th Round: Spencer Dinwiddie\\n8th Round: Gary Payton IIKorra is literally the draymond green of avatersThe Timberwolves finally get it. Thx Draymond Green b/c Tim Connelly likely heard his words.Idk, maybe GSW can revive Russ’s career. Russ is a great ball hander that can distribute, and people think he good defensively because his face mean and he’s athletic. 🤔🤔\\n\\nDraymond Green for Russell Westbrook?Robby Anderson is the Draymond Green of the NFLDraymond Green = \\'Dris from \"Top Boy\"SOURCES: Dallas Eastern Bloc Party will keep RFA rights for Kris Middleton, but planning on letting Draymond Green walk.Random Idea: Give Jordan Poole the starting role over curry during some of regular season. Curry showed he’s 6MOTY worthy and Poole played his best starting! #warriors #goldenstatewarriors #basketballHi Kerem, my son supports the #goldenstatewarriors  team and you? Which is your favorite?\\n@KeremBursin #kerembuersinMac McClung plays with the energy and joie de vivre of a young Mark Price #GoldenStateWarriors #NBASummerLeague🔴#NBASummerLeague🏀🇺🇲\\n🔴Las Vegas\\n⬇️#GoldenStateWARRIORS 88 (0-1)\\n⬆️#NewYorkKNICKS 101 (1-0)🔸\\n🔶Jean MONTERO🇩🇴\\n(PG/6\\'3\"/175Lbs)\\n🔹4/Pts\\n🔹2/Reb\\n🔹0/Ast\\n🔹1/Stl\\n🔹0/Blk\\n🔹1/TO\\n🔹2/2T2\\n🔹0/1T3 \\n🔹0/TL\\n🔹9:15/min:seg\\n@JeanMontero03\\n@NyKnicks\\n#RDenNBASummerLeague\\n#RDenNBA\\n#MaTR®🔴#NBASummerLeague🏀🇺🇲\\n🔴Las Vegas\\n⬇️#GoldenStateWARRIORS 88 (0-1)🔸\\n⬆️#NewYorkKNICKS 101 (1-0)\\n🔶Lester QUIÑONES🇩🇴\\n(SG/6\\'5\"/205Lbs)\\n🔹0/Pts\\n🔹2/Reb\\n🔹1/Ast\\n🔹1/Stl\\n🔹0/Blk\\n🔹2/TO\\n🔹0/T2\\n🔹0/T3 \\n🔹0/TL\\n🔹21:09/min:seg\\n@Effort_Les\\n@Warriors\\n#RDenNBASummerLeague\\n#RDenNBA\\n#MaTR®This rotation for the Warriors is horrible. Coaches not doing their team favors #GoldenStateWarriorsAfter 2 practices and 1st qtr adjustments with Golden State Mac McClung settles down for \\n8 PTS\\n3 REB\\n1 AST\\n42.9 FG%\\n100.0 3PT% (2-2)\\n1 Charge taken on D\\n\\n#NBA2K23 #NBASummerLeague \\n#Warriors \\n#GoldenStateWarriors \\n#MacMcClungMoses Moody = Summer league #GoldenStateWarriorsDebate time; Andre Iguodala should get his jersey retired in Golden State\\n\\n#DubNation #goldenstatewarriors #NBA #DebatesSo @getnickwright doesn’t like @KDTrey5 to the @warriors because the ending is already written?  But he didn’t seem too upset by @KingJames going to the @MiamiHEAT. How would this be different? #kd #goldenstatewarriors #Trades #NBAFreeAgency #nbatradesDo you think KD wants to return to the bay ? #GoldenStateWarriors #nba #trade #offseason #DubNationAnyone misses the short tempered Steve Kerr?\\n\\n#stevekerr #GSW #stephcurry #NBA #goldenstatewarriors #NBA2K23'"
      ]
     },
     "execution_count": 29,
     "metadata": {},
     "output_type": "execute_result"
    }
   ],
   "source": [
    "gsw_tweets.info()\n",
    "# joing the text together so it can just be one big text \n",
    "tweets = gsw_tweets['text'].str.cat(sep='')\n",
    "tweets"
   ]
  },
  {
   "cell_type": "code",
   "execution_count": 30,
   "id": "008d1fe1",
   "metadata": {},
   "outputs": [],
   "source": [
    "from nltk import word_tokenize \n",
    "from nltk.stem import WordNetLemmatizer\n",
    "tweets = re.sub(r'[^\\w\\s]', '',str(tweets))\n",
    "# Removing all non-alphnumric characters \n",
    "word_token = word_tokenize(tweets)\n",
    "\n"
   ]
  },
  {
   "cell_type": "code",
   "execution_count": 31,
   "id": "347fced7",
   "metadata": {},
   "outputs": [],
   "source": [
    "# Lemmatization the tweets to get the root words along with adjectives \n",
    "from nltk.stem import WordNetLemmatizer\n",
    "wnl = WordNetLemmatizer()\n",
    "root_tokens =wnl.lemmatize(str(word_token),pos='a')"
   ]
  },
  {
   "cell_type": "code",
   "execution_count": 32,
   "id": "8ad8bf55",
   "metadata": {},
   "outputs": [],
   "source": [
    "# Setting my stopwords to apply to the word cloud \n",
    "from wordcloud import WordCloud,STOPWORDS\n",
    "stopwords = set(STOPWORDS)\n",
    "stopwords.update([\"Golden\",\"State\",\"really\",\"amp\",\"kendrick\",\"Perkins\",\"time\",\"one\",\"Im\",\"people\",\"got\",\"think\",\"year\",\"na\",\"wa\",\"dont\",\"yall\",\"steph\",\"stephn\",\"curry\",\"draymond\",\"green\",\"shit\",\"klay\",\"Thompson\",\"man\",\"talk\",\n",
    "                \"basketball\",\"stephen\",\"didnt\",\"thing\",\"guy\",\"bro\", \"warriors\",\"warrior\",\"player\",\"game\",\"i\", \"me\", \"my\", \"myself\",\n",
    "                  \"we\", \"our\", \"ours\", \"ourselves\", \"you\", \"your\", \"yours\", \"yourself\", \"yourselves\", \"he\", \"him\", \"his\", \"himself\",\n",
    "                  \"she\", \"her\", \"hers\", \"herself\", \"it\", \"its\", \"itself\", \"they\", \"them\", \"their\", \"theirs\", \"themselves\", \"what\", \"which\",\n",
    "                  \"who\", \"whom\", \"this\", \"that\", \"these\", \"those\", \"am\", \"is\", \"are\", \"was\", \"were\", \"be\", \"been\", \"being\", \"have\", \"has\", \"had\",\n",
    "                  \"having\", \"do\", \"does\", \"did\", \"doing\", \"a\", \"an\",\n",
    "                  \"the\", \"and\", \"but\", \"if\", \"or\", \"because\", \"as\", \"until\", \"while\", \"of\", \"at\", \"by\", \"for\", \"with\", \"about\", \"against\", \"between\", \n",
    "                  \"into\", \"through\", \"during\", \"before\", \"after\", \"above\", \"below\", \"to\", \"from\", \"up\", \"down\", \"in\", \"out\", \"on\", \"off\", \"over\", \"under\", \n",
    "                  \"again\", \"further\", \"then\", \"once\",\n",
    "                  \"here\", \"there\", \"when\", \"where\", \"why\", \"how\", \"all\", \"any\", \"both\", \"each\", \"few\", \"more\", \"most\", \"other\", \"some\", \"such\", \"no\", \"nor\", \"not\", \n",
    "                  \"only\", \"own\", \"same\", \"so\", \"than\", \"too\", \"very\", \"s\", \"t\", \"can\", \"will\", \"just\", \"don\", \"should\", \"now\"])"
   ]
  },
  {
   "cell_type": "code",
   "execution_count": 33,
   "id": "92abc618",
   "metadata": {
    "scrolled": true
   },
   "outputs": [
    {
     "data": {
      "image/png": "[encoded data removed]",
      "text/plain": [
       "<Figure size 432x288 with 1 Axes>"
      ]
     },
     "metadata": {
      "needs_background": "light"
     },
     "output_type": "display_data"
    }
   ],
   "source": [
    "# Making a word cloud to see the ost frequent words \n",
    "from wordcloud import WordCloud, STOPWORDS\n",
    "wordcloud = WordCloud(background_color = 'white', stopwords=stopwords,max_words = 20,colormap = 'Reds'). generate(root_tokens.replace(\"'\",''))\n",
    "plt.imshow(wordcloud)\n",
    "plt.axis('off')\n",
    "plt.savefig('WordCloud.jpeg')\n",
    "plt.show()"
   ]
  },
  {
   "cell_type": "code",
   "execution_count": 34,
   "id": "d7774f4b",
   "metadata": {},
   "outputs": [
    {
     "name": "stdout",
     "output_type": "stream",
     "text": [
      "0                                   (0.0, 0.0)\n",
      "1                                   (0.5, 0.5)\n",
      "2                                  (0.15, 0.1)\n",
      "3                    (0.6000000000000001, 0.9)\n",
      "4    (0.12976190476190474, 0.5642857142857144)\n",
      "Name: sentiment, dtype: object\n"
     ]
    }
   ],
   "source": [
    "# Created a function to get the sentiment score for each row in the dataframe\n",
    "from textblob import TextBlob \n",
    "\n",
    "def senti(x):\n",
    "    return TextBlob(x).sentiment     \n",
    "\n",
    "gsw_tweets['sentiment'] = gsw_tweets['text'].apply(senti)\n",
    "print(gsw_tweets['sentiment'].head())\n",
    "\n",
    "def polarity(y):\n",
    "    return TextBlob(y).sentiment.polarity\n",
    "\n",
    "gsw_tweets['polarity'] = gsw_tweets['text'].apply(polarity)\n",
    "\n",
    "def subjectivity(q):\n",
    "    return TextBlob(q).sentiment.subjectivity\n",
    "\n",
    "gsw_tweets['subjectivity'] = gsw_tweets['text'].apply(subjectivity)"
   ]
  },
  {
   "cell_type": "code",
   "execution_count": 35,
   "id": "636a53eb",
   "metadata": {},
   "outputs": [
    {
     "data": {
      "image/png": "[encoded data removed]",
      "text/plain": [
       "<Figure size 432x288 with 1 Axes>"
      ]
     },
     "metadata": {
      "needs_background": "light"
     },
     "output_type": "display_data"
    }
   ],
   "source": [
    "# plot with a scatter plot the distrubtion of the sentiment scores\n",
    "x = gsw_tweets['polarity']\n",
    "y = gsw_tweets['subjectivity']\n",
    "plt.scatter(x,y,s=10,alpha = 0.5)\n",
    "plt.ylabel('< Objective ---------- Subjective >', fontsize=12)\n",
    "plt.xlabel('< Negative ------------Postive >',fontsize=12)\n",
    "plt.title('Sentiment Score')\n",
    "plt.savefig('sentiment_scatter.jpeg')\n",
    "plt.show()"
   ]
  },
  {
   "cell_type": "code",
   "execution_count": 36,
   "id": "39cf08c5",
   "metadata": {},
   "outputs": [],
   "source": [
    "# Creating a function to count the postive, negative, and neutral values\n",
    "\n",
    "def value_count(x):\n",
    "    if x > 0:\n",
    "        return \"Postive\"\n",
    "    elif x==0:\n",
    "        return \"Neutral\"\n",
    "    else:\n",
    "        return \"Negative\"\n",
    "    \n",
    "gsw_tweets['analysis'] = gsw_tweets['polarity'].apply(value_count)"
   ]
  },
  {
   "cell_type": "code",
   "execution_count": 37,
   "id": "20981362",
   "metadata": {},
   "outputs": [
    {
     "data": {
      "text/plain": [
       "Postive     610\n",
       "Neutral     391\n",
       "Negative    282\n",
       "Name: analysis, dtype: int64"
      ]
     },
     "execution_count": 37,
     "metadata": {},
     "output_type": "execute_result"
    }
   ],
   "source": [
    "gsw_tweets['analysis'].value_counts()"
   ]
  },
  {
   "cell_type": "code",
   "execution_count": 38,
   "id": "83c7598a",
   "metadata": {
    "scrolled": true
   },
   "outputs": [
    {
     "data": {
      "image/png": "[encoded data removed]",
      "text/plain": [
       "<Figure size 432x288 with 1 Axes>"
      ]
     },
     "metadata": {
      "needs_background": "light"
     },
     "output_type": "display_data"
    }
   ],
   "source": [
    "# Creating a bar chart to compare the distribution of postive, netural, and negative tweets\n",
    "\n",
    "gsw_tweets['analysis'].value_counts().plot(kind=\"bar\")\n",
    "plt.savefig('Sentiment Count.jpeg')\n",
    "plt.title('Sentiment Count')\n",
    "plt.show()"
   ]
  },
  {
   "cell_type": "code",
   "execution_count": 39,
   "id": "db3f861a",
   "metadata": {},
   "outputs": [
    {
     "data": {
      "text/html": [
       "<div>\n",
       "<style scoped>\n",
       "    .dataframe tbody tr th:only-of-type {\n",
       "        vertical-align: middle;\n",
       "    }\n",
       "\n",
       "    .dataframe tbody tr th {\n",
       "        vertical-align: top;\n",
       "    }\n",
       "\n",
       "    .dataframe thead th {\n",
       "        text-align: right;\n",
       "    }\n",
       "</style>\n",
       "<table border=\"1\" class=\"dataframe\">\n",
       "  <thead>\n",
       "    <tr style=\"text-align: right;\">\n",
       "      <th></th>\n",
       "      <th>favorite_count</th>\n",
       "      <th>text</th>\n",
       "    </tr>\n",
       "  </thead>\n",
       "  <tbody>\n",
       "    <tr>\n",
       "      <th>302</th>\n",
       "      <td>19779</td>\n",
       "      <td>what’s some of the most overused rap bars/line...</td>\n",
       "    </tr>\n",
       "  </tbody>\n",
       "</table>\n",
       "</div>"
      ],
      "text/plain": [
       "     favorite_count                                               text\n",
       "302           19779  what’s some of the most overused rap bars/line..."
      ]
     },
     "execution_count": 39,
     "metadata": {},
     "output_type": "execute_result"
    }
   ],
   "source": [
    "# See which tweet was liked the most likes\n",
    "sort = gsw_tweets.sort_values(['favorite_count'], ascending = False)\n",
    "sort.iloc[[0],[5,6]]"
   ]
  },
  {
   "cell_type": "code",
   "execution_count": 40,
   "id": "e9c1379d",
   "metadata": {},
   "outputs": [
    {
     "data": {
      "text/html": [
       "<div>\n",
       "<style scoped>\n",
       "    .dataframe tbody tr th:only-of-type {\n",
       "        vertical-align: middle;\n",
       "    }\n",
       "\n",
       "    .dataframe tbody tr th {\n",
       "        vertical-align: top;\n",
       "    }\n",
       "\n",
       "    .dataframe thead th {\n",
       "        text-align: right;\n",
       "    }\n",
       "</style>\n",
       "<table border=\"1\" class=\"dataframe\">\n",
       "  <thead>\n",
       "    <tr style=\"text-align: right;\">\n",
       "      <th></th>\n",
       "      <th>retweet_count</th>\n",
       "      <th>text</th>\n",
       "    </tr>\n",
       "  </thead>\n",
       "  <tbody>\n",
       "    <tr>\n",
       "      <th>996</th>\n",
       "      <td>805</td>\n",
       "      <td>Maturing is realizing Ray Allen is better than...</td>\n",
       "    </tr>\n",
       "  </tbody>\n",
       "</table>\n",
       "</div>"
      ],
      "text/plain": [
       "     retweet_count                                               text\n",
       "996            805  Maturing is realizing Ray Allen is better than..."
      ]
     },
     "execution_count": 40,
     "metadata": {},
     "output_type": "execute_result"
    }
   ],
   "source": [
    "# see which tweet was retewwte the most \n",
    "retweet = gsw_tweets.sort_values(['retweet_count'], ascending = False)\n",
    "retweet.iloc[[0],[4,6]]"
   ]
  },
  {
   "cell_type": "code",
   "execution_count": 41,
   "id": "a2090a6e",
   "metadata": {},
   "outputs": [
    {
     "data": {
      "text/plain": [
       "Index(['id_str', 'user', 'coordinates', 'time', 'retweet_count',\n",
       "       'favorite_count', 'text', 'key_word', 'sentiment', 'polarity',\n",
       "       'subjectivity', 'analysis'],\n",
       "      dtype='object')"
      ]
     },
     "execution_count": 41,
     "metadata": {},
     "output_type": "execute_result"
    }
   ],
   "source": [
    "gsw_tweets.columns"
   ]
  },
  {
   "cell_type": "code",
   "execution_count": 42,
   "id": "bab1b490",
   "metadata": {},
   "outputs": [],
   "source": [
    "# Saving dataframe to a csv file.\n",
    "gsw_tweets.to_csv('gsw_tweets.csv')"
   ]
  },
  {
   "cell_type": "code",
   "execution_count": 43,
   "id": "bddc874e",
   "metadata": {},
   "outputs": [
    {
     "data": {
      "text/plain": [
       "94956"
      ]
     },
     "execution_count": 43,
     "metadata": {},
     "output_type": "execute_result"
    }
   ],
   "source": [
    "# Getting the sum of likes\n",
    "gsw_tweets['favorite_count'].sum()\n"
   ]
  },
  {
   "cell_type": "code",
   "execution_count": 44,
   "id": "5dd5061b",
   "metadata": {},
   "outputs": [
    {
     "data": {
      "text/plain": [
       "5488"
      ]
     },
     "execution_count": 44,
     "metadata": {},
     "output_type": "execute_result"
    }
   ],
   "source": [
    "#  Getting the sum of retweets\n",
    "gsw_tweets['retweet_count'].sum()"
   ]
  },
  {
   "cell_type": "code",
   "execution_count": 45,
   "id": "adf48414",
   "metadata": {},
   "outputs": [
    {
     "data": {
      "text/plain": [
       "key_word        analysis\n",
       "Draymond Green  Negative     88\n",
       "                Postive      53\n",
       "                Neutral       6\n",
       "Klay Thompson   Postive     249\n",
       "                Neutral     165\n",
       "                Negative     85\n",
       "Steph Curry     Postive     302\n",
       "                Neutral     215\n",
       "                Negative    108\n",
       "Team Tweets     Postive       6\n",
       "                Neutral       5\n",
       "                Negative      1\n",
       "Name: analysis, dtype: int64"
      ]
     },
     "execution_count": 45,
     "metadata": {},
     "output_type": "execute_result"
    }
   ],
   "source": [
    "# Checking to see how many postive, neutral, and negative each player got.\n",
    "gsw_tweets.groupby('key_word')['analysis'].value_counts()"
   ]
  }
 ],
 "metadata": {
  "kernelspec": {
   "display_name": "Python 3 (ipykernel)",
   "language": "python",
   "name": "python3"
  },
  "language_info": {
   "codemirror_mode": {
    "name": "ipython",
    "version": 3
   },
   "file_extension": ".py",
   "mimetype": "text/x-python",
   "name": "python",
   "nbconvert_exporter": "python",
   "pygments_lexer": "ipython3",
   "version": "3.9.7"
  }
 },
 "nbformat": 4,
 "nbformat_minor": 5
}
